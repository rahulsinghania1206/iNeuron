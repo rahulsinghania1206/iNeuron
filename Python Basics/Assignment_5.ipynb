{
 "cells": [
  {
   "cell_type": "markdown",
   "id": "e1c2a8b7",
   "metadata": {},
   "source": [
    "# Assignement 5 "
   ]
  },
  {
   "cell_type": "markdown",
   "id": "6bf2259c",
   "metadata": {},
   "source": [
    "### 1. What does an empty dictionary&#39;s code look like?"
   ]
  },
  {
   "cell_type": "code",
   "execution_count": 3,
   "id": "2b066bcf",
   "metadata": {},
   "outputs": [],
   "source": [
    "empty_dict = {}"
   ]
  },
  {
   "cell_type": "markdown",
   "id": "1aa02fbd",
   "metadata": {},
   "source": [
    "### 2. What is the value of a dictionary value with the key &#39;foo&#39; and the value 42?"
   ]
  },
  {
   "cell_type": "markdown",
   "id": "e32cba6b",
   "metadata": {},
   "source": [
    "42"
   ]
  },
  {
   "cell_type": "markdown",
   "id": "4e17393f",
   "metadata": {},
   "source": [
    "### 3. What is the most significant distinction between a dictionary and a list?"
   ]
  },
  {
   "cell_type": "markdown",
   "id": "b39999ce",
   "metadata": {},
   "source": [
    "List is a collection of ordered elements and can have duplicate members but dictionaries is a collection of key-value pair and doesn't have duplicate members."
   ]
  },
  {
   "cell_type": "markdown",
   "id": "09dffedf",
   "metadata": {},
   "source": [
    "### 4. What happens if you try to access spam[&#39;foo&#39;] if spam is {&#39;bar&#39;: 100}?"
   ]
  },
  {
   "cell_type": "markdown",
   "id": "0117b67c",
   "metadata": {},
   "source": [
    "KeyError"
   ]
  },
  {
   "cell_type": "markdown",
   "id": "06ab5fd5",
   "metadata": {},
   "source": [
    "### 5. If a dictionary is stored in spam, what is the difference between the expressions &#39;cat&#39; in spam and &#39;cat&#39; in spam.keys()?"
   ]
  },
  {
   "cell_type": "markdown",
   "id": "7fe9940a",
   "metadata": {},
   "source": [
    "The expression 'cat' in spam checks whether the key 'cat' is present in the dictionary spam. If 'cat' is a key in spam, then the expression returns True, otherwise it returns False."
   ]
  },
  {
   "cell_type": "markdown",
   "id": "821d2969",
   "metadata": {},
   "source": [
    "The expression 'cat' in spam.keys() checks if 'cat' is present in the list of keys of the dictionary spam. Since the keys() method returns a list of all the keys in a dictionary, this expression will also return True if 'cat' is a key in spam. No major difference."
   ]
  },
  {
   "cell_type": "markdown",
   "id": "4792137d",
   "metadata": {},
   "source": [
    "### 6. If a dictionary is stored in spam, what is the difference between the expressions &#39;cat&#39; in spam and &#39;cat&#39; in spam.values()?"
   ]
  },
  {
   "cell_type": "markdown",
   "id": "73064875",
   "metadata": {},
   "source": [
    "The expression 'cat' in spam.values() checks if the string 'cat' is a value in the dictionary spam. If the dictionary spam contains the value 'cat' associated with any key, then the expression will return True. If not, it will return False. While the 'cat' in spam checks the key in spam dictionary."
   ]
  },
  {
   "cell_type": "markdown",
   "id": "a230603c",
   "metadata": {},
   "source": [
    "### 7. What is a shortcut for the following code?\n",
    "if &#39;color&#39; not in spam:\n",
    "spam[&#39;color&#39;] = &#39;black&#39;"
   ]
  },
  {
   "cell_type": "code",
   "execution_count": 7,
   "id": "9fd93acb",
   "metadata": {},
   "outputs": [
    {
     "data": {
      "text/plain": [
       "'black'"
      ]
     },
     "execution_count": 7,
     "metadata": {},
     "output_type": "execute_result"
    }
   ],
   "source": [
    "spam.setdefault('color','black')"
   ]
  },
  {
   "cell_type": "markdown",
   "id": "26b829ee",
   "metadata": {},
   "source": [
    "setdefault() method checks if the key 'color' is in the dictionary spam. If it is not present, it sets the key 'color' with the value 'black', and returns 'black'. If it is present, it returns the value associated with the key 'color'."
   ]
  },
  {
   "cell_type": "markdown",
   "id": "eb8afd29",
   "metadata": {},
   "source": [
    "### 8. How do you &quot;pretty print&quot; dictionary values using which module and function? "
   ]
  },
  {
   "cell_type": "markdown",
   "id": "5c8eef72",
   "metadata": {},
   "source": [
    "using the 'pprint' module and its 'pprint()' function."
   ]
  },
  {
   "cell_type": "code",
   "execution_count": 8,
   "id": "aa6d0a68",
   "metadata": {},
   "outputs": [
    {
     "name": "stdout",
     "output_type": "stream",
     "text": [
      "{'age': 27, 'city': 'Gwalior', 'name': 'Rahul'}\n"
     ]
    }
   ],
   "source": [
    "import pprint\n",
    "my_dict = {'name': 'Rahul', 'age': 27, 'city': 'Gwalior'}\n",
    "\n",
    "pprint.pprint(my_dict)"
   ]
  }
 ],
 "metadata": {
  "kernelspec": {
   "display_name": "Python 3",
   "language": "python",
   "name": "python3"
  },
  "language_info": {
   "codemirror_mode": {
    "name": "ipython",
    "version": 3
   },
   "file_extension": ".py",
   "mimetype": "text/x-python",
   "name": "python",
   "nbconvert_exporter": "python",
   "pygments_lexer": "ipython3",
   "version": "3.8.8"
  }
 },
 "nbformat": 4,
 "nbformat_minor": 5
}
