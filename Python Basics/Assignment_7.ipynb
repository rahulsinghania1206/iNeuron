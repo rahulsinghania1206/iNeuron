{
 "cells": [
  {
   "cell_type": "markdown",
   "id": "4149fc20",
   "metadata": {},
   "source": [
    "# Assignment 7"
   ]
  },
  {
   "cell_type": "markdown",
   "id": "ba6b4e9f",
   "metadata": {},
   "source": [
    "#### 1. What is the name of the feature responsible for generating Regex objects?"
   ]
  },
  {
   "cell_type": "markdown",
   "id": "ec340796",
   "metadata": {},
   "source": [
    "Regex objects is typically called a \"regular expression compiler\" or \"regex compiler\". It is a part of regular expression libraries or frameworks in programming languages that allow developers to create and manipulate regular expressions for pattern matching and text processing tasks."
   ]
  },
  {
   "cell_type": "markdown",
   "id": "9813e9c0",
   "metadata": {},
   "source": [
    "#### 2. Why do raw strings often appear in Regex objects?"
   ]
  },
  {
   "cell_type": "markdown",
   "id": "644f5b7c",
   "metadata": {},
   "source": [
    "Raw strings ('r' prefix) are commonly used in regular expression (regex) objects to avoid the need for excessive escape characters. Regular expressions use special characters with special meanings, such as backslashes ('') to escape metacharacters, and this can lead to double escaping, which can be cumbersome and error-prone. By using a raw string, denoted by an 'r' prefix, like r\"\\d+\\s\\w+\", the backslashes are treated as literal characters and not escape characters. This makes the regex pattern more readable and avoids the need for double escaping."
   ]
  },
  {
   "cell_type": "code",
   "execution_count": 2,
   "id": "01b0f178",
   "metadata": {},
   "outputs": [],
   "source": [
    "pattern1 = \"\\\\d+\\\\s\\\\w+\"  # Using regular string with double escaping\n",
    "pattern2 = r\"\\d+\\s\\w+\"     # Using raw string"
   ]
  },
  {
   "cell_type": "markdown",
   "id": "eb86c31d",
   "metadata": {},
   "source": [
    "#### 3. What is the return value of the search() method?"
   ]
  },
  {
   "cell_type": "markdown",
   "id": "4f3ee230",
   "metadata": {},
   "source": [
    "search() method is commonly associated with string manipulation and is used to search for a specific substring or pattern within a larger string. The return value of the search() method is typically an indication of whether the substring or pattern was found within the larger string or not. It may return a boolean value (true or false) indicating whether the substring or pattern was found, or it may return the index or position of the first occurrence of the substring or pattern within the larger string."
   ]
  },
  {
   "cell_type": "markdown",
   "id": "3c0aacb3",
   "metadata": {},
   "source": [
    "#### 4. From a Match item, how do you get the actual strings that match the pattern?"
   ]
  },
  {
   "cell_type": "markdown",
   "id": "4011d6bf",
   "metadata": {},
   "source": [
    "group() method: This method is often used to retrieve the actual matched string or a specific captured group from the match object. The group index or name may be specified as an argument to the method. Example-"
   ]
  },
  {
   "cell_type": "code",
   "execution_count": 3,
   "id": "64c291f3",
   "metadata": {},
   "outputs": [
    {
     "name": "stdout",
     "output_type": "stream",
     "text": [
      "Matched String: 123-456-7890\n",
      "Group 1: 123\n",
      "Group 2: 456\n",
      "Group 3: 7890\n"
     ]
    }
   ],
   "source": [
    "import re\n",
    "\n",
    "pattern = r'(\\d{3})-(\\d{3})-(\\d{4})'  # Example pattern for a phone number\n",
    "string = 'Phone: 123-456-7890'\n",
    "\n",
    "match = re.search(pattern, string)\n",
    "if match:\n",
    "    matched_string = match.group(0)  # Entire matched string\n",
    "    group1 = match.group(1)          # Captured group 1\n",
    "    group2 = match.group(2)          # Captured group 2\n",
    "    group3 = match.group(3)          # Captured group 3\n",
    "    print(\"Matched String:\", matched_string)\n",
    "    print(\"Group 1:\", group1)\n",
    "    print(\"Group 2:\", group2)\n",
    "    print(\"Group 3:\", group3)"
   ]
  },
  {
   "cell_type": "markdown",
   "id": "67094daf",
   "metadata": {},
   "source": [
    "#### 5. In the regex which created from the r&#39;(\\d\\d\\d)-(\\d\\d\\d-\\d\\d\\d\\d)&#39;, what does group zero cover? Group 2? Group 1?"
   ]
  },
  {
   "cell_type": "markdown",
   "id": "b0c76946",
   "metadata": {},
   "source": [
    "Group zero (group(0)) covers the entire matched string. It represents the entire substring that matches the entire regular expression pattern."
   ]
  },
  {
   "cell_type": "markdown",
   "id": "b0dffa13",
   "metadata": {},
   "source": [
    "Group 1: (\\d\\d\\d): This captures three digits together, e.g., \"123\", \"456\", etc.\n",
    "Group 2: (\\d\\d\\d-\\d\\d\\d\\d): This captures a sequence of three digits followed by a hyphen, and then followed by four digits separated by hyphen, e.g., \"789-0123\", \"987-6543\", etc."
   ]
  },
  {
   "cell_type": "markdown",
   "id": "63689c5b",
   "metadata": {},
   "source": [
    "#### 6. In standard expression syntax, parentheses and intervals have distinct meanings. How can you tell a regex that you want it to fit real parentheses and periods?"
   ]
  },
  {
   "cell_type": "markdown",
   "id": "f4797b7e",
   "metadata": {},
   "source": [
    "In regular expressions, parentheses and periods have special meanings and are used as metacharacters to define groups and character classes, respectively. If you want to match literal parentheses or periods, you need to escape them using a backslash \\ before the parentheses or periods. This is known as \"escaping\" or \"quoting\" metacharacters."
   ]
  },
  {
   "cell_type": "markdown",
   "id": "645a85eb",
   "metadata": {},
   "source": [
    "For example, to match a literal left parenthesis ( and a literal right parenthesis ), you would use the regex pattern \\( \\). Similarly, to match a literal period ., you would use the regex pattern \\."
   ]
  },
  {
   "cell_type": "code",
   "execution_count": 4,
   "id": "ab887818",
   "metadata": {},
   "outputs": [
    {
     "name": "stdout",
     "output_type": "stream",
     "text": [
      "Match found: (Hello).\n"
     ]
    }
   ],
   "source": [
    "import re\n",
    "\n",
    "# Match a literal parenthesis and a period\n",
    "pattern = r'\\(Hello\\)\\.'  # Pattern to match \"(Hello).\"\n",
    "\n",
    "# Input string\n",
    "string = '(Hello). Welcome to the world.'\n",
    "\n",
    "# Search for the pattern in the string\n",
    "match = re.search(pattern, string)\n",
    "if match:\n",
    "    print(\"Match found:\", match.group(0))\n",
    "else:\n",
    "    print(\"Match not found.\")"
   ]
  },
  {
   "cell_type": "markdown",
   "id": "7d4ca259",
   "metadata": {},
   "source": [
    "#### 7. The findall() method returns a string list or a list of string tuples. What causes it to return one of the two options?"
   ]
  },
  {
   "cell_type": "markdown",
   "id": "a88192ff",
   "metadata": {},
   "source": [
    "The findall() method in regular expression libraries typically returns a list of strings when there are no capturing groups in the regular expression pattern, and it returns a list of tuples of strings when there are one or more capturing groups in the pattern."
   ]
  },
  {
   "cell_type": "code",
   "execution_count": 5,
   "id": "d9b5acf4",
   "metadata": {},
   "outputs": [
    {
     "name": "stdout",
     "output_type": "stream",
     "text": [
      "[('123', '456-7890'), ('987', '654-3210')]\n"
     ]
    }
   ],
   "source": [
    "import re\n",
    "\n",
    "# Pattern with capturing group\n",
    "pattern = r'(\\d{3})-(\\d{3}-\\d{4})'  # Example pattern for phone number\n",
    "\n",
    "# Input string\n",
    "string = 'Phone: 123-456-7890, Fax: 987-654-3210'\n",
    "\n",
    "# Using findall() to match pattern with capturing groups\n",
    "matches = re.findall(pattern, string)\n",
    "\n",
    "print(matches)"
   ]
  },
  {
   "cell_type": "markdown",
   "id": "e90f7aa5",
   "metadata": {},
   "source": [
    "if the regular expression pattern does not contain any capturing groups, findall() returns a list of strings, where each string represents the entire matched substring that matches the pattern."
   ]
  },
  {
   "cell_type": "code",
   "execution_count": 6,
   "id": "5a08ad71",
   "metadata": {},
   "outputs": [
    {
     "name": "stdout",
     "output_type": "stream",
     "text": [
      "['123-456-7890', '987-654-3210']\n"
     ]
    }
   ],
   "source": [
    "import re\n",
    "\n",
    "# Pattern without capturing group\n",
    "pattern = r'\\d{3}-\\d{3}-\\d{4}'  # Example pattern for phone number without capturing group\n",
    "\n",
    "# Input string\n",
    "string = 'Phone: 123-456-7890, Fax: 987-654-3210'\n",
    "\n",
    "# Using findall() to match pattern without capturing groups\n",
    "matches = re.findall(pattern, string)\n",
    "\n",
    "print(matches)"
   ]
  },
  {
   "cell_type": "markdown",
   "id": "c400a84d",
   "metadata": {},
   "source": [
    "#### 8. In standard expressions, what does the | character mean?"
   ]
  },
  {
   "cell_type": "markdown",
   "id": "61b8b690",
   "metadata": {},
   "source": [
    "The | character is used as a logical OR operator, also known as an alternation. It allows you to specify multiple alternatives for matching in a regular expression pattern."
   ]
  },
  {
   "cell_type": "code",
   "execution_count": 7,
   "id": "9ca1d217",
   "metadata": {},
   "outputs": [
    {
     "name": "stdout",
     "output_type": "stream",
     "text": [
      "['banana', 'apple']\n"
     ]
    }
   ],
   "source": [
    "import re\n",
    "\n",
    "# Pattern with alternation\n",
    "pattern = r'apple|banana|cherry'  # Example pattern with alternatives\n",
    "\n",
    "# Input string\n",
    "string = 'I like bananas and apples, but not cherries.'\n",
    "\n",
    "# Using findall() with alternation pattern\n",
    "matches = re.findall(pattern, string)\n",
    "\n",
    "print(matches)"
   ]
  },
  {
   "cell_type": "markdown",
   "id": "0013319a",
   "metadata": {},
   "source": [
    "#### 9. In regular expressions, what does the character stand for?"
   ]
  },
  {
   "cell_type": "markdown",
   "id": "ca18e832",
   "metadata": {},
   "source": [
    "Question is incomplete"
   ]
  },
  {
   "cell_type": "markdown",
   "id": "92651a5c",
   "metadata": {},
   "source": [
    "#### 10.In regular expressions, what is the difference between the + and * characters?"
   ]
  },
  {
   "cell_type": "markdown",
   "id": "b7a4b0b3",
   "metadata": {},
   "source": [
    "\"+\" and \"*\" characters are quantifiers that specify how many times a preceding element should occur in a pattern."
   ]
  },
  {
   "cell_type": "markdown",
   "id": "fdb21b01",
   "metadata": {},
   "source": [
    "The main difference between the \"+\" and \"*\" characters is that \"+\" requires the preceding element to occur at least once, while \"*\" allows the preceding element to occur zero or more times."
   ]
  },
  {
   "cell_type": "markdown",
   "id": "89260f27",
   "metadata": {},
   "source": [
    "#### 11. What is the difference between {4} and {4,5} in regular expression?"
   ]
  },
  {
   "cell_type": "markdown",
   "id": "49100654",
   "metadata": {},
   "source": [
    "The difference between \"{4}\" and \"{4,5}\" is that \"{4}\" specifiesthat the preceding element should occur exactly four times, while \"{4,5}\" specifies that the preceding element should occur between four and five times, inclusive. It means that the preceding element must appear at least four times, and can appear up to five times."
   ]
  },
  {
   "cell_type": "markdown",
   "id": "ccdda8fd",
   "metadata": {},
   "source": [
    "#### 12. What do you mean by the \\d, \\w, and \\s shorthand character classes signify in regular expressions?"
   ]
  },
  {
   "cell_type": "markdown",
   "id": "fc610d7f",
   "metadata": {},
   "source": [
    "Shorthand character classes such as \"\\d\", \"\\w\", and \"\\s\" are used to represent common character sets"
   ]
  },
  {
   "cell_type": "markdown",
   "id": "128f349c",
   "metadata": {},
   "source": [
    "\"\\d\" shorthand character class: The \"\\d\" represents any digit character (0-9). It is equivalent to the character class [0-9]. For example, the regular expression \"\\d+\" would match one or more consecutive digits in a string."
   ]
  },
  {
   "cell_type": "markdown",
   "id": "f099d579",
   "metadata": {},
   "source": [
    "\"\\w\" shorthand character class: The \"\\w\" represents any word character, which includes alphanumeric characters (letters and digits) as well as underscores (). It is equivalent to the character class [a-zA-Z0-9]. For example, the regular expression \"\\w+\" would match one or more consecutive word characters in a string."
   ]
  },
  {
   "cell_type": "markdown",
   "id": "a0337fa7",
   "metadata": {},
   "source": [
    "\"\\s\" shorthand character class: The \"\\s\" represents any whitespace character, including spaces, tabs, and line breaks. It is equivalent to the character class [\\t\\n\\f\\r\\p{Z}]. For example, the regular expression \"\\s+\" would match one or more consecutive whitespace characters in a string."
   ]
  },
  {
   "cell_type": "markdown",
   "id": "4ffe512d",
   "metadata": {},
   "source": [
    "#### 13. What do means by \\D, \\W, and \\S shorthand character classes signify in regular expressions?"
   ]
  },
  {
   "cell_type": "markdown",
   "id": "d14f9dd2",
   "metadata": {},
   "source": [
    "\"\\D\", \"\\W\", and \"\\S\" are negated or inverse shorthand character classes that represent character sets that are opposite to their non-negated counterparts."
   ]
  },
  {
   "cell_type": "markdown",
   "id": "aefb0a04",
   "metadata": {},
   "source": [
    "**\"\\D\" shorthand character class:** The \"\\D\" represents any character that is not a digit (0-9). It is the inverse of \"\\d\". It is equivalent to the character class [^0-9]. For example, the regular expression \"\\D+\" would match one or more consecutive characters that are not digits in a string."
   ]
  },
  {
   "cell_type": "markdown",
   "id": "99e9a5c9",
   "metadata": {},
   "source": [
    "**\"\\W\" shorthand character class:** The \"\\W\" represents any character that is not a word character, i.e., any character that is not an alphanumeric character (letter or digit) or an underscore (). It is the inverse of \"\\w\". It is equivalent to the character class [^a-zA-Z0-9]. For example, the regular expression \"\\W+\" would match one or more consecutive characters that are not word characters in a string."
   ]
  },
  {
   "cell_type": "markdown",
   "id": "6017741d",
   "metadata": {},
   "source": [
    "**\"\\S\" shorthand character class**: The \"\\S\" represents any character that is not a whitespace character, i.e., any character that is not a space, tab, or line break. It is the inverse of \"\\s\". It is equivalent to the character class [^\\t\\n\\f\\r\\p{Z}]. For example, the regular expression \"\\S+\" would match one or more consecutive characters that are not whitespace characters in a string."
   ]
  },
  {
   "cell_type": "markdown",
   "id": "a9f822a3",
   "metadata": {},
   "source": [
    "#### 14. What is the difference between \".*?\" and $\".*\"$ ?"
   ]
  },
  {
   "cell_type": "markdown",
   "id": "331615fb",
   "metadata": {},
   "source": [
    "**\".*?\"** - This is a non-greedy or lazy quantifier. It matches zero or more occurrences of any character (except for a newline) in a non-greedy or minimal manner. It means that it matches as few characters as possible to satisfy the overall pattern. It is used to perform the shortest possible match."
   ]
  },
  {
   "cell_type": "markdown",
   "id": "737f08a1",
   "metadata": {},
   "source": [
    "**\".*\"** - This is a greedy quantifier. It matches zero or more occurrences of any character (except for a newline) in a greedy or maximal manner. It means that it matches as many characters as possible to satisfy the overall pattern. It is used to perform the longest possible match."
   ]
  },
  {
   "cell_type": "markdown",
   "id": "bf5d2cf5",
   "metadata": {},
   "source": [
    "Example- String: \"Hello world!\""
   ]
  },
  {
   "cell_type": "markdown",
   "id": "cddec806",
   "metadata": {},
   "source": [
    "\"Hel.*?\" - the resulting match would be \"Hel\" because it matches \"Hel\" and stops at the first occurrence of the next character, which is \"l\". This is the shortest possible match."
   ]
  },
  {
   "cell_type": "markdown",
   "id": "31cb011b",
   "metadata": {},
   "source": [
    "\"Hel.*\" -  the resulting match would be the entire string \"Hello world!\", as it matches all characters in the string until the end. This is the longest possible match."
   ]
  },
  {
   "cell_type": "markdown",
   "id": "4370ab12",
   "metadata": {},
   "source": [
    "#### 15. What is the syntax for matching both numbers and lowercase letters with a character class?"
   ]
  },
  {
   "cell_type": "markdown",
   "id": "3947cc3b",
   "metadata": {},
   "source": [
    "The desired character ranges within the square brackets ([ ])"
   ]
  },
  {
   "cell_type": "markdown",
   "id": "b1017ed5",
   "metadata": {},
   "source": [
    "The character class \"[0-9a-z]\" will match any single character that is either a digit (0-9) or a lowercase letter (a-z)."
   ]
  },
  {
   "cell_type": "markdown",
   "id": "d1effd93",
   "metadata": {},
   "source": [
    "#### 16. What is the procedure for making a normal expression in regax case insensitive?"
   ]
  },
  {
   "cell_type": "markdown",
   "id": "600e7b70",
   "metadata": {},
   "source": [
    "To make a regular expression case insensitive, you can use the appropriate flags"
   ]
  },
  {
   "cell_type": "markdown",
   "id": "a2148496",
   "metadata": {},
   "source": [
    "**'re.I'** flag: We can use the re.I flag as an argument when using the re module for regular expressions, like this:"
   ]
  },
  {
   "cell_type": "code",
   "execution_count": 9,
   "id": "60a2e264",
   "metadata": {},
   "outputs": [],
   "source": [
    "import re\n",
    "pattern = re.compile(r'regex pattern', re.I)"
   ]
  },
  {
   "cell_type": "markdown",
   "id": "2c083213",
   "metadata": {},
   "source": [
    "#### 17. What does the . character normally match? What does it match if re.DOTALL is passed as 2nd argument in re.compile()?"
   ]
  },
  {
   "cell_type": "markdown",
   "id": "4b677f18",
   "metadata": {},
   "source": [
    "The \".\" (dot) character normally matches any character except for a newline. It matches any single character, such as letters, digits, symbols, whitespace characters, etc., except for a newline character."
   ]
  },
  {
   "cell_type": "markdown",
   "id": "cdf4b361",
   "metadata": {},
   "source": [
    "However, if the re.DOTALL or re.S flag is passed as the second argument to the re.compile() function then the \".\" (dot) character will also match newline characters."
   ]
  },
  {
   "cell_type": "code",
   "execution_count": 10,
   "id": "7c85d2fd",
   "metadata": {},
   "outputs": [],
   "source": [
    "import re\n",
    "pattern = re.compile(r'pattern', re.DOTALL)"
   ]
  },
  {
   "cell_type": "markdown",
   "id": "b499733c",
   "metadata": {},
   "source": [
    "#### 18. If numReg = re.compile(r&#39;\\d+&#39;), what will numRegex.sub(&#39;X&#39;, &#39;11 drummers, 10 pipers, five rings, 4 hen&#39;) return?"
   ]
  },
  {
   "cell_type": "code",
   "execution_count": 11,
   "id": "738e12f5",
   "metadata": {},
   "outputs": [
    {
     "name": "stdout",
     "output_type": "stream",
     "text": [
      "X drummers, X pipers, five rings, X hen\n"
     ]
    }
   ],
   "source": [
    "import re\n",
    "\n",
    "numRegex = re.compile(r'\\d+')\n",
    "result = numRegex.sub('X', '11 drummers, 10 pipers, five rings, 4 hen')\n",
    "print(result)"
   ]
  },
  {
   "cell_type": "markdown",
   "id": "1d5eea41",
   "metadata": {},
   "source": [
    "**numRegex** is a compiled regular expression object that matches one or more digits (\"\\d+\"). <br>\n",
    "**The sub() function** is called on numRegex with the replacement string 'X' and the input string '11 drummers, 10 pipers, five rings, 4 hen'.<br>\n",
    "**The sub() function** replaces all occurrences of the regular expression pattern (one or more digits) with the replacement string 'X'.<br>\n",
    "In the input string, '11' and '10' are replaced with 'X', resulting in 'X drummers, X pipers'.\n",
    "'four' in 'five rings' and '4' in '4 hen' do not match the regular expression pattern (\"\\d+\"), so they are not replaced."
   ]
  },
  {
   "cell_type": "markdown",
   "id": "75017caa",
   "metadata": {},
   "source": [
    "#### 19. What does passing re.VERBOSE as the 2nd argument to re.compile() allow to do?"
   ]
  },
  {
   "cell_type": "markdown",
   "id": "82fd4e96",
   "metadata": {},
   "source": [
    "The re.VERBOSE flag is a flag that can be passed as the second argument to re.compile() to enable verbose mode.<br>\n",
    "Verbose mode in regular expressions allows for more readable and organized regular expression patterns by ignoring whitespace and comments within the pattern string."
   ]
  },
  {
   "cell_type": "markdown",
   "id": "fbd80431",
   "metadata": {},
   "source": [
    "#### How would you write a regex that match a number with comma for every three digits? It must match the given following:<br>\n",
    "&#39;42&#39;<br>\n",
    "&#39;1,234&#39;<br>\n",
    "&#39;6,368,745&#39;<br>\n",
    "#### but not the following:<br>\n",
    "&#39;12,34,567&#39; (which has only two digits between the commas)<br>\n",
    "&#39;1234&#39; (which lacks commas)<br>"
   ]
  },
  {
   "cell_type": "code",
   "execution_count": 14,
   "id": "7905598f",
   "metadata": {},
   "outputs": [
    {
     "name": "stdout",
     "output_type": "stream",
     "text": [
      "Match: 42\n",
      "Match: 1,234\n",
      "Match: 6,368,745\n",
      "No match: 12,34,567\n",
      "No match: 1234\n"
     ]
    }
   ],
   "source": [
    "import re\n",
    "\n",
    "# Define the regex pattern\n",
    "pattern = r'^\\d{1,3}(?:,\\d{3})*$'\n",
    "\n",
    "# Test strings\n",
    "strings = ['42', '1,234', '6,368,745', '12,34,567', '1234']\n",
    "\n",
    "for string in strings:\n",
    "    match = re.match(pattern, string)\n",
    "    if match:\n",
    "        print(f\"Match: {string}\")\n",
    "    else:\n",
    "        print(f\"No match: {string}\")"
   ]
  },
  {
   "cell_type": "markdown",
   "id": "853ffec3",
   "metadata": {},
   "source": [
    "#### 21. How would you write a regex that matches the full name of someone whose last name is Watanabe? You can assume that the first name that comes before it will always be one word that begins with a capital letter. The regex must match the following:<br>\n",
    "&#39;Haruto Watanabe&#39;<br>\n",
    "&#39;Alice Watanabe&#39;<br>\n",
    "&#39;RoboCop Watanabe&#39;<br>\n",
    "#### but not the following:<br>\n",
    "&#39;haruto Watanabe&#39; (where the first name is not capitalized)<br>\n",
    "&#39;Mr. Watanabe&#39; (where the preceding word has a nonletter character)<br>\n",
    "&#39;Watanabe&#39; (which has no first name)<br>\n",
    "&#39;Haruto watanabe&#39; (where Watanabe is not capitalized)<br>"
   ]
  },
  {
   "cell_type": "code",
   "execution_count": 15,
   "id": "509987c1",
   "metadata": {},
   "outputs": [
    {
     "name": "stdout",
     "output_type": "stream",
     "text": [
      "Match found: Haruto Watanabe\n",
      "Match found: Alice Watanabe\n",
      "Match found: RoboCop Watanabe\n",
      "No match found: haruto Watanabe\n",
      "No match found: Mr. Watanabe\n",
      "No match found: Watanabe\n",
      "No match found: Haruto watanabe\n"
     ]
    }
   ],
   "source": [
    "import re\n",
    "\n",
    "inputs = [\"Haruto Watanabe\", \"Alice Watanabe\", \"RoboCop Watanabe\",\n",
    "          \"haruto Watanabe\", \"Mr. Watanabe\", \"Watanabe\", \"Haruto watanabe\"]\n",
    "\n",
    "# Regex pattern\n",
    "pattern = r\"\\b[A-Z][a-zA-Z]* Watanabe\\b\"\n",
    "\n",
    "for input_str in inputs:\n",
    "    match = re.search(pattern, input_str)\n",
    "    if match:\n",
    "        print(f\"Match found: {input_str}\")\n",
    "    else:\n",
    "        print(f\"No match found: {input_str}\")"
   ]
  },
  {
   "cell_type": "markdown",
   "id": "c862f395",
   "metadata": {},
   "source": [
    "#### 22. How would you write a regex that matches a sentence where the first word is either Alice, Bob, or Carol; the second word is either eats, pets, or throws; the third word is apples, cats, or baseballs; and the sentence ends with a period? This regex should be case-insensitive. It must match the following:<br>\n",
    "&#39;Alice eats apples.&#39;<br>\n",
    "&#39;Bob pets cats.&#39;<br>\n",
    "&#39;Carol throws baseballs.&#39;<br>\n",
    "&#39;Alice throws Apples.&#39;<br>\n",
    "&#39;BOB EATS CATS.&#39;<br>\n",
    "#### but not the following:<br>\n",
    "&#39;RoboCop eats apples.&#39;<br>\n",
    "&#39;ALICE THROWS FOOTBALLS.&#39;<br>\n",
    "&#39;Carol eats 7 cats.&#39;<br>"
   ]
  },
  {
   "cell_type": "code",
   "execution_count": 16,
   "id": "d9d2ba5e",
   "metadata": {},
   "outputs": [
    {
     "name": "stdout",
     "output_type": "stream",
     "text": [
      "Matched: Alice eats apples.\n",
      "Matched: Bob pets cats.\n",
      "Matched: Carol throws baseballs.\n",
      "Matched: Alice throws Apples.\n",
      "Matched: BOB EATS CATS.\n",
      "Not matched: RoboCop eats apples.\n",
      "Not matched: ALICE THROWS FOOTBALLS.\n",
      "Not matched: Carol eats 7 cats.\n"
     ]
    },
    {
     "name": "stderr",
     "output_type": "stream",
     "text": [
      "<ipython-input-16-410e0346b3fd>:18: DeprecationWarning: Flags not at the start of the expression '^(?i)(Alice|Bob|Caro' (truncated)\n",
      "  if re.match(pattern, sentence):\n"
     ]
    }
   ],
   "source": [
    "import re\n",
    "\n",
    "# Define the regex pattern\n",
    "pattern = r'^(?i)(Alice|Bob|Carol)\\s+(eats|pets|throws)\\s+(apples|cats|baseballs)\\.$'\n",
    "\n",
    "sentences = [\n",
    "    'Alice eats apples.',\n",
    "    'Bob pets cats.',\n",
    "    'Carol throws baseballs.',\n",
    "    'Alice throws Apples.',\n",
    "    'BOB EATS CATS.',\n",
    "    'RoboCop eats apples.',\n",
    "    'ALICE THROWS FOOTBALLS.',\n",
    "    'Carol eats 7 cats.'\n",
    "]\n",
    "\n",
    "for sentence in sentences:\n",
    "    if re.match(pattern, sentence):\n",
    "        print(f\"Matched: {sentence}\")\n",
    "    else:\n",
    "        print(f\"Not matched: {sentence}\")\n"
   ]
  }
 ],
 "metadata": {
  "kernelspec": {
   "display_name": "Python 3",
   "language": "python",
   "name": "python3"
  },
  "language_info": {
   "codemirror_mode": {
    "name": "ipython",
    "version": 3
   },
   "file_extension": ".py",
   "mimetype": "text/x-python",
   "name": "python",
   "nbconvert_exporter": "python",
   "pygments_lexer": "ipython3",
   "version": "3.8.8"
  }
 },
 "nbformat": 4,
 "nbformat_minor": 5
}
