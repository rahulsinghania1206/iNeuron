{
 "cells": [
  {
   "cell_type": "markdown",
   "id": "8cdda6cb",
   "metadata": {},
   "source": [
    "# Programming Assignment_2"
   ]
  },
  {
   "cell_type": "markdown",
   "id": "d4fb1c9e",
   "metadata": {},
   "source": [
    "#### 1. Write a Python program to convert kilometers to miles?"
   ]
  },
  {
   "cell_type": "code",
   "execution_count": 2,
   "id": "509c71bc",
   "metadata": {},
   "outputs": [
    {
     "name": "stdout",
     "output_type": "stream",
     "text": [
      "Enter the distance in kilometers: 5\n",
      "Distance in miles: 3.106855\n"
     ]
    }
   ],
   "source": [
    "kilometers = float(input(\"Enter the distance in kilometers: \"))\n",
    "miles = kilometers * 0.621371\n",
    "print(\"Distance in miles:\", miles)"
   ]
  },
  {
   "cell_type": "markdown",
   "id": "a4952fd8",
   "metadata": {},
   "source": [
    "#### 2. Write a Python program to convert Celsius to Fahrenheit?"
   ]
  },
  {
   "cell_type": "code",
   "execution_count": 3,
   "id": "e3a410e2",
   "metadata": {},
   "outputs": [
    {
     "name": "stdout",
     "output_type": "stream",
     "text": [
      "Enter the temperature in Celsius: 23\n",
      "Temperature in Fahrenheit: 73.4\n"
     ]
    }
   ],
   "source": [
    "celsius = float(input(\"Enter the temperature in Celsius: \"))\n",
    "fahrenheit = (celsius * 9/5) + 32\n",
    "print(\"Temperature in Fahrenheit:\", fahrenheit)"
   ]
  },
  {
   "cell_type": "markdown",
   "id": "43dfdb6c",
   "metadata": {},
   "source": [
    "#### 3. Write a Python program to display calendar?"
   ]
  },
  {
   "cell_type": "code",
   "execution_count": 4,
   "id": "2ba187a7",
   "metadata": {},
   "outputs": [
    {
     "name": "stdout",
     "output_type": "stream",
     "text": [
      "Enter the year: 2023\n",
      "Enter the month: 10\n",
      "    October 2023\n",
      "Mo Tu We Th Fr Sa Su\n",
      "                   1\n",
      " 2  3  4  5  6  7  8\n",
      " 9 10 11 12 13 14 15\n",
      "16 17 18 19 20 21 22\n",
      "23 24 25 26 27 28 29\n",
      "30 31\n",
      "\n"
     ]
    }
   ],
   "source": [
    "import calendar\n",
    "\n",
    "year = int(input(\"Enter the year: \"))\n",
    "month = int(input(\"Enter the month: \"))\n",
    "\n",
    "print(calendar.month(year, month))"
   ]
  },
  {
   "cell_type": "markdown",
   "id": "3bd96c56",
   "metadata": {},
   "source": [
    "#### 4. Write a Python program to solve quadratic equation?"
   ]
  },
  {
   "cell_type": "code",
   "execution_count": 6,
   "id": "4291709b",
   "metadata": {},
   "outputs": [
    {
     "name": "stdout",
     "output_type": "stream",
     "text": [
      "Enter the coefficient a: -2\n",
      "Enter the coefficient b: 4\n",
      "Enter the coefficient c: 3\n",
      "Roots: (-0.5811388300841898, 2.58113883008419)\n"
     ]
    }
   ],
   "source": [
    "import math\n",
    "\n",
    "def solve_quadratic_equation(a, b, c):\n",
    "    discriminant = b**2 - 4*a*c\n",
    "\n",
    "    if discriminant > 0:\n",
    "        root1 = (-b + math.sqrt(discriminant)) / (2*a)\n",
    "        root2 = (-b - math.sqrt(discriminant)) / (2*a)\n",
    "        return root1, root2\n",
    "    elif discriminant == 0:\n",
    "        root = -b / (2*a)\n",
    "        return root\n",
    "    else:\n",
    "        return \"No real roots exist.\"\n",
    "\n",
    "a = float(input(\"Enter the coefficient a: \"))\n",
    "b = float(input(\"Enter the coefficient b: \"))\n",
    "c = float(input(\"Enter the coefficient c: \"))\n",
    "\n",
    "# Solve the quadratic equation\n",
    "roots = solve_quadratic_equation(a, b, c)\n",
    "\n",
    "print(\"Roots:\", roots)"
   ]
  },
  {
   "cell_type": "markdown",
   "id": "08c5de39",
   "metadata": {},
   "source": [
    "#### 5. Write a Python program to swap two variables without temp variable?"
   ]
  },
  {
   "cell_type": "code",
   "execution_count": 1,
   "id": "34e55a8a",
   "metadata": {},
   "outputs": [
    {
     "name": "stdout",
     "output_type": "stream",
     "text": [
      "Enter the value of variable 1: 1\n",
      "Enter the value of variable 2: 2\n",
      "Before swapping:\n",
      "Variable 1 = 1\n",
      "Variable 2 = 2\n",
      "After swapping:\n",
      "Variable 1 = 2\n",
      "Variable 2 = 1\n"
     ]
    }
   ],
   "source": [
    "var1 = input(\"Enter the value of variable 1: \")\n",
    "var2 = input(\"Enter the value of variable 2: \")\n",
    "\n",
    "# Print the original values\n",
    "print(\"Before swapping:\")\n",
    "print(\"Variable 1 =\", var1)\n",
    "print(\"Variable 2 =\", var2)\n",
    "\n",
    "# Swap the variables\n",
    "var1, var2 = var2, var1\n",
    "\n",
    "print(\"After swapping:\")\n",
    "print(\"Variable 1 =\", var1)\n",
    "print(\"Variable 2 =\", var2)"
   ]
  }
 ],
 "metadata": {
  "kernelspec": {
   "display_name": "Python 3",
   "language": "python",
   "name": "python3"
  },
  "language_info": {
   "codemirror_mode": {
    "name": "ipython",
    "version": 3
   },
   "file_extension": ".py",
   "mimetype": "text/x-python",
   "name": "python",
   "nbconvert_exporter": "python",
   "pygments_lexer": "ipython3",
   "version": "3.8.8"
  }
 },
 "nbformat": 4,
 "nbformat_minor": 5
}
