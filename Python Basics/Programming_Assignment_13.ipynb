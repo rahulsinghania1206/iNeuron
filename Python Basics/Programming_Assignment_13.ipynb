{
 "cells": [
  {
   "cell_type": "markdown",
   "id": "ae1b3510",
   "metadata": {},
   "source": [
    "# Programming Assignment_13"
   ]
  },
  {
   "cell_type": "markdown",
   "id": "505e62f6",
   "metadata": {},
   "source": [
    "#### Question 1: Write a program that calculates and prints the value according to the given formula:\n",
    "Q = Square root of [(2 * C * D)/H]<br>\n",
    "Following are the fixed values of C and H:<br>\n",
    "C is 50. H is 30.<br>\n",
    "D is the variable whose values should be input to your program in a comma-separated sequence.<br>\n",
    "Example<br>\n",
    "Let us assume the following comma separated input sequence is given to the program:<br>\n",
    "100,150,180<br>\n",
    "The output of the program should be:<br>\n",
    "18,22,24"
   ]
  },
  {
   "cell_type": "code",
   "execution_count": 1,
   "id": "4179a685",
   "metadata": {},
   "outputs": [
    {
     "name": "stdout",
     "output_type": "stream",
     "text": [
      "18,22,24\n"
     ]
    }
   ],
   "source": [
    "import math\n",
    "\n",
    "C = 50\n",
    "H = 30\n",
    "\n",
    "def calculate_values(sequence):\n",
    "    result = []\n",
    "    numbers = sequence.split(\",\")\n",
    "    for num in numbers:\n",
    "        D = int(num)\n",
    "        Q = math.sqrt((2 * C * D) / H)\n",
    "        result.append(int(Q))\n",
    "    return result\n",
    "\n",
    "input_sequence = \"100,150,180\"\n",
    "output_values = calculate_values(input_sequence)\n",
    "print(\",\".join(str(val) for val in output_values))"
   ]
  },
  {
   "cell_type": "markdown",
   "id": "488f1128",
   "metadata": {},
   "source": [
    "#### Question 2: Write a program which takes 2 digits, X,Y as input and generates a 2-dimensional array. The element value in the i-th row and j-th column of the array should be i*j.\n",
    "Note: i=0,1.., X-1; j=0,1,¡Y-1.<br>\n",
    "Example<br>\n",
    "Suppose the following inputs are given to the program:<br>\n",
    "3,5<br>\n",
    "Then, the output of the program should be:<br>\n",
    "[[0, 0, 0, 0, 0], [0, 1, 2, 3, 4], [0, 2, 4, 6, 8]]"
   ]
  },
  {
   "cell_type": "code",
   "execution_count": 2,
   "id": "fd010522",
   "metadata": {},
   "outputs": [
    {
     "name": "stdout",
     "output_type": "stream",
     "text": [
      "[[0, 0, 0, 0, 0], [0, 1, 2, 3, 4], [0, 2, 4, 6, 8]]\n"
     ]
    }
   ],
   "source": [
    "def generate_2d_array(X, Y):\n",
    "    array_2d = [[0 for j in range(Y)] for i in range(X)]\n",
    "    for i in range(X):\n",
    "        for j in range(Y):\n",
    "            array_2d[i][j] = i * j\n",
    "    return array_2d\n",
    "\n",
    "X = 3\n",
    "Y = 5\n",
    "output_array = generate_2d_array(X, Y)\n",
    "print(output_array)"
   ]
  },
  {
   "cell_type": "markdown",
   "id": "e543318d",
   "metadata": {},
   "source": [
    "#### Question 3: Write a program that accepts a comma separated sequence of words as input and prints the words in a comma-separated sequence after sorting them alphabetically. \n",
    "Suppose the following input is supplied to the program:<br>\n",
    "without,hello,bag,world<br>\n",
    "\n",
    "Then, the output should be:<br>\n",
    "bag,hello,without,world"
   ]
  },
  {
   "cell_type": "code",
   "execution_count": 3,
   "id": "cd080dcd",
   "metadata": {},
   "outputs": [
    {
     "name": "stdout",
     "output_type": "stream",
     "text": [
      "bag,hello,without,world\n"
     ]
    }
   ],
   "source": [
    "def sort_words(sequence):\n",
    "    words = sequence.split(\",\")\n",
    "    sorted_words = sorted(words)\n",
    "    sorted_sequence = \",\".join(sorted_words)\n",
    "    return sorted_sequence\n",
    "\n",
    "input_sequence = \"without,hello,bag,world\"\n",
    "output_sequence = sort_words(input_sequence)\n",
    "print(output_sequence)"
   ]
  },
  {
   "cell_type": "markdown",
   "id": "b2b5f64a",
   "metadata": {},
   "source": [
    "#### Question 4: Write a program that accepts a sequence of whitespace separated words as input and prints the words after removing all duplicate words and sorting them alphanumerically.\n",
    "Suppose the following input is supplied to the program:<br>\n",
    "hello world and practice makes perfect and hello world again\n",
    "\n",
    "Then, the output should be:<br>\n",
    "again and hello makes perfect practice world"
   ]
  },
  {
   "cell_type": "code",
   "execution_count": 8,
   "id": "439c9c47",
   "metadata": {},
   "outputs": [
    {
     "name": "stdout",
     "output_type": "stream",
     "text": [
      "again and hello makes perfect practice world\n"
     ]
    }
   ],
   "source": [
    "input_sequence = \"hello world and practice makes perfect and hello world again\"\n",
    "words = input_sequence.split()\n",
    "unique_words = set(words)\n",
    "sorted_words = sorted(unique_words)\n",
    "output_sequence = \" \".join(sorted_words)\n",
    "print(output_sequence)"
   ]
  },
  {
   "cell_type": "markdown",
   "id": "efdf26f2",
   "metadata": {},
   "source": [
    "#### Question 5: Write a program that accepts a sentence and calculate the number of letters and digits.\n",
    "Suppose the following input is supplied to the program:<br>\n",
    "hello world! 123\n",
    "\n",
    "Then, the output should be:<br>\n",
    "LETTERS 10<br>\n",
    "DIGITS 3"
   ]
  },
  {
   "cell_type": "code",
   "execution_count": 9,
   "id": "dbb01b6d",
   "metadata": {},
   "outputs": [
    {
     "name": "stdout",
     "output_type": "stream",
     "text": [
      "LETTERS 10\n",
      "DIGITS 3\n"
     ]
    }
   ],
   "source": [
    "def count_letters_digits(sentence):\n",
    "    letters = 0\n",
    "    digits = 0\n",
    "    for char in sentence:\n",
    "        if char.isalpha():\n",
    "            letters += 1\n",
    "        elif char.isdigit():\n",
    "            digits += 1\n",
    "    return letters, digits\n",
    "\n",
    "input_sentence = \"hello world! 123\"\n",
    "num_letters, num_digits = count_letters_digits(input_sentence)\n",
    "print(\"LETTERS\", num_letters)\n",
    "print(\"DIGITS\", num_digits)"
   ]
  },
  {
   "cell_type": "markdown",
   "id": "d64ef5b1",
   "metadata": {},
   "source": [
    "#### Question 6: A website requires the users to input username and password to register. Write a program to check the validity of password input by users.\n",
    "Following are the criteria for checking the password:\n",
    "1. At least 1 letter between [a-z]\n",
    "2. At least 1 number between [0-9]\n",
    "1. At least 1 letter between [A-Z]\n",
    "3. At least 1 character from [$#@]\n",
    "4. Minimum length of transaction password: 6\n",
    "5. Maximum length of transaction password: 12<br>\n",
    "Your program should accept a sequence of comma separated passwords and will check them according to the above criteria. Passwords that match the criteria are to be printed, each separated by a comma.\n",
    "\n",
    "Example<br>\n",
    "If the following passwords are given as input to the program:<br>\n",
    "ABd1234@1,a F1#,2w3E*,2We3345\n",
    "\n",
    "Then, the output of the program should be:<br>\n",
    "ABd1234@1"
   ]
  },
  {
   "cell_type": "code",
   "execution_count": 10,
   "id": "988a6d47",
   "metadata": {},
   "outputs": [
    {
     "name": "stdout",
     "output_type": "stream",
     "text": [
      "ABd1234@1\n"
     ]
    }
   ],
   "source": [
    "import re\n",
    "\n",
    "def check_password_validity(password):\n",
    "    if len(password) < 6 or len(password) > 12:\n",
    "        return False\n",
    "    if not re.search(\"[a-z]\", password):\n",
    "        return False\n",
    "    if not re.search(\"[0-9]\", password):\n",
    "        return False\n",
    "    if not re.search(\"[A-Z]\", password):\n",
    "        return False\n",
    "    if not re.search(\"[$#@]\", password):\n",
    "        return False\n",
    "    return True\n",
    "\n",
    "passwords = \"ABd1234@1,aF1#,2w3E*,2We3345\"\n",
    "password_list = passwords.split(\",\")\n",
    "valid_passwords = [password for password in password_list if check_password_validity(password)]\n",
    "output = \",\".join(valid_passwords)\n",
    "print(output)"
   ]
  }
 ],
 "metadata": {
  "kernelspec": {
   "display_name": "Python 3",
   "language": "python",
   "name": "python3"
  },
  "language_info": {
   "codemirror_mode": {
    "name": "ipython",
    "version": 3
   },
   "file_extension": ".py",
   "mimetype": "text/x-python",
   "name": "python",
   "nbconvert_exporter": "python",
   "pygments_lexer": "ipython3",
   "version": "3.8.8"
  }
 },
 "nbformat": 4,
 "nbformat_minor": 5
}
