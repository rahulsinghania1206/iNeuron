{
 "cells": [
  {
   "cell_type": "markdown",
   "id": "19f055e6",
   "metadata": {},
   "source": [
    "# Programming Assignment_1"
   ]
  },
  {
   "cell_type": "markdown",
   "id": "264741f4",
   "metadata": {},
   "source": [
    "#### 1. Write a Python program to print &quot;Hello Python&quot;?"
   ]
  },
  {
   "cell_type": "code",
   "execution_count": 1,
   "id": "528015bb",
   "metadata": {},
   "outputs": [
    {
     "name": "stdout",
     "output_type": "stream",
     "text": [
      "Hello Python\n"
     ]
    }
   ],
   "source": [
    "print(\"Hello Python\")"
   ]
  },
  {
   "cell_type": "markdown",
   "id": "5b64c1f6",
   "metadata": {},
   "source": [
    "#### 2. Write a Python program to do arithmetical operations addition and division.?"
   ]
  },
  {
   "cell_type": "code",
   "execution_count": 4,
   "id": "bdb2ac78",
   "metadata": {},
   "outputs": [
    {
     "name": "stdout",
     "output_type": "stream",
     "text": [
      "Enter the first number: 12\n",
      "Enter the second number: 13\n",
      "Addition result: 25.0\n",
      "Division result: 0.9230769230769231\n"
     ]
    }
   ],
   "source": [
    "def addition(num1, num2):\n",
    "    return num1 + num2\n",
    "\n",
    "def division(num1, num2):\n",
    "    if num2 != 0:\n",
    "        return num1 / num2\n",
    "    else:\n",
    "        return \"Error: Division by zero is not allowed.\"\n",
    "\n",
    "#user input\n",
    "num1 = float(input(\"Enter the first number: \"))\n",
    "num2 = float(input(\"Enter the second number: \"))\n",
    "\n",
    "# Perform addition\n",
    "result_addition = addition(num1, num2)\n",
    "print(\"Addition result:\", result_addition)\n",
    "\n",
    "# Perform division\n",
    "result_division = division(num1, num2)\n",
    "print(\"Division result:\", result_division)"
   ]
  },
  {
   "cell_type": "markdown",
   "id": "f6c5c6be",
   "metadata": {},
   "source": [
    "#### 3. Write a Python program to find the area of a triangle?"
   ]
  },
  {
   "cell_type": "code",
   "execution_count": 5,
   "id": "55b6c9f5",
   "metadata": {},
   "outputs": [
    {
     "name": "stdout",
     "output_type": "stream",
     "text": [
      "Enter the base length of the triangle: 12\n",
      "Enter the height of the triangle: 5\n",
      "The area of the triangle is: 30.0\n"
     ]
    }
   ],
   "source": [
    "def calculate_triangle_area(base, height):\n",
    "    return (base * height) / 2\n",
    "\n",
    "base = float(input(\"Enter the base length of the triangle: \"))\n",
    "height = float(input(\"Enter the height of the triangle: \"))\n",
    "\n",
    "# Calculate the area\n",
    "area = calculate_triangle_area(base, height)\n",
    "\n",
    "print(\"The area of the triangle is:\", area)"
   ]
  },
  {
   "cell_type": "markdown",
   "id": "13cd709c",
   "metadata": {},
   "source": [
    "#### 4. Write a Python program to swap two variables?"
   ]
  },
  {
   "cell_type": "code",
   "execution_count": 6,
   "id": "4ad77007",
   "metadata": {},
   "outputs": [
    {
     "name": "stdout",
     "output_type": "stream",
     "text": [
      "Enter the value of variable 1: 23\n",
      "Enter the value of variable 2: 32\n",
      "Before swapping:\n",
      "Variable 1 = 23\n",
      "Variable 2 = 32\n",
      "After swapping:\n",
      "Variable 1 = 32\n",
      "Variable 2 = 23\n"
     ]
    }
   ],
   "source": [
    "def swap_variables(var1, var2):\n",
    "    temp = var1\n",
    "    var1 = var2\n",
    "    var2 = temp\n",
    "    return var1, var2\n",
    "\n",
    "var1 = input(\"Enter the value of variable 1: \")\n",
    "var2 = input(\"Enter the value of variable 2: \")\n",
    "\n",
    "print(\"Before swapping:\")\n",
    "print(\"Variable 1 =\", var1)\n",
    "print(\"Variable 2 =\", var2)\n",
    "\n",
    "# Swap the variables\n",
    "var1, var2 = swap_variables(var1, var2)\n",
    "\n",
    "# Print the swapped values\n",
    "print(\"After swapping:\")\n",
    "print(\"Variable 1 =\", var1)\n",
    "print(\"Variable 2 =\", var2)"
   ]
  },
  {
   "cell_type": "markdown",
   "id": "db8f69f3",
   "metadata": {},
   "source": [
    "#### 5. Write a Python program to generate a random number?"
   ]
  },
  {
   "cell_type": "code",
   "execution_count": 7,
   "id": "099462b8",
   "metadata": {},
   "outputs": [
    {
     "name": "stdout",
     "output_type": "stream",
     "text": [
      "Enter the start of the range: 1\n",
      "Enter the end of the range: 100\n",
      "Random number: 24.47836819182442\n"
     ]
    }
   ],
   "source": [
    "import random\n",
    "def generate_random_number(start, end):\n",
    "    return random.uniform(start, end)\n",
    "\n",
    "start = float(input(\"Enter the start of the range: \"))\n",
    "end = float(input(\"Enter the end of the range: \"))\n",
    "\n",
    "# Generate a random number\n",
    "random_number = generate_random_number(start, end)\n",
    "\n",
    "print(\"Random number:\", random_number)"
   ]
  }
 ],
 "metadata": {
  "kernelspec": {
   "display_name": "Python 3",
   "language": "python",
   "name": "python3"
  },
  "language_info": {
   "codemirror_mode": {
    "name": "ipython",
    "version": 3
   },
   "file_extension": ".py",
   "mimetype": "text/x-python",
   "name": "python",
   "nbconvert_exporter": "python",
   "pygments_lexer": "ipython3",
   "version": "3.8.8"
  }
 },
 "nbformat": 4,
 "nbformat_minor": 5
}
