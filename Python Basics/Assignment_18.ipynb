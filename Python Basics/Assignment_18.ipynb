{
 "cells": [
  {
   "cell_type": "markdown",
   "id": "0e2312d8",
   "metadata": {},
   "source": [
    "# Assignment 18"
   ]
  },
  {
   "cell_type": "markdown",
   "id": "df1da61b",
   "metadata": {},
   "source": [
    "#### 1. Create a zoo.py file first. Define the hours() function, which prints the string &#39;Open 9-5 daily&#39;. Then, use the interactive interpreter to import the zoo module and call its hours() function."
   ]
  },
  {
   "cell_type": "code",
   "execution_count": 2,
   "id": "a60654d5",
   "metadata": {},
   "outputs": [],
   "source": [
    "#inside zoo.py\n",
    "def hours():\n",
    "    print('Open 9-5 daily')"
   ]
  },
  {
   "cell_type": "markdown",
   "id": "d81160e9",
   "metadata": {},
   "source": [
    "In python Interpreter:"
   ]
  },
  {
   "cell_type": "markdown",
   "id": "b81ed2b0",
   "metadata": {},
   "source": [
    ">>> import zoo\n",
    ">>> zoo.hours()\n",
    "Open 9-5 daily #Output"
   ]
  },
  {
   "cell_type": "markdown",
   "id": "8ebc86fd",
   "metadata": {},
   "source": [
    "#### 2. In the interactive interpreter, import the zoo module as menagerie and call its hours() function."
   ]
  },
  {
   "cell_type": "markdown",
   "id": "0b701ca3",
   "metadata": {},
   "source": [
    ">>> import zoo as menagerie\n",
    ">>> menagerie.hours()\n",
    "Open 9-5 daily #output"
   ]
  },
  {
   "cell_type": "markdown",
   "id": "773a2c5c",
   "metadata": {},
   "source": [
    "#### 3. Using the interpreter, explicitly import and call the hours() function from zoo."
   ]
  },
  {
   "cell_type": "markdown",
   "id": "ee319485",
   "metadata": {},
   "source": [
    ">>> from zoo import hours\n",
    ">>> hours()\n",
    "Open 9-5 daily"
   ]
  },
  {
   "cell_type": "markdown",
   "id": "b096487e",
   "metadata": {},
   "source": [
    "#### 4. Import the hours() function as info and call it."
   ]
  },
  {
   "cell_type": "raw",
   "id": "3b961c33",
   "metadata": {},
   "source": [
    ">>> from zoo import hours as info\n",
    ">>> info()\n",
    "Open 9-5 daily"
   ]
  },
  {
   "cell_type": "markdown",
   "id": "4ae80c1c",
   "metadata": {},
   "source": [
    ">>> from zoo import hours as info\n",
    ">>> info()\n",
    "Open 9-5 daily"
   ]
  },
  {
   "cell_type": "markdown",
   "id": "acda8d3a",
   "metadata": {},
   "source": [
    "#### 5. Create a plain dictionary with the key-value pairs &#39;a&#39;: 1, &#39;b&#39;: 2, and &#39;c&#39;: 3, and print it out."
   ]
  },
  {
   "cell_type": "code",
   "execution_count": 3,
   "id": "f3590047",
   "metadata": {},
   "outputs": [
    {
     "name": "stdout",
     "output_type": "stream",
     "text": [
      "{'a': 1, 'b': 2, 'c': 3}\n"
     ]
    }
   ],
   "source": [
    "my_dict = {'a': 1, 'b': 2, 'c': 3}\n",
    "print(my_dict)"
   ]
  },
  {
   "cell_type": "markdown",
   "id": "2972d778",
   "metadata": {},
   "source": [
    "#### 6. Make an OrderedDict called fancy from the same pairs listed in 5 and print it. Did it print in the same order as plain?"
   ]
  },
  {
   "cell_type": "code",
   "execution_count": 4,
   "id": "b1155e9f",
   "metadata": {},
   "outputs": [
    {
     "name": "stdout",
     "output_type": "stream",
     "text": [
      "OrderedDict([('a', 1), ('b', 2), ('c', 3)])\n"
     ]
    }
   ],
   "source": [
    "from collections import OrderedDict\n",
    "\n",
    "# Create an OrderedDict with the key-value pairs\n",
    "fancy = OrderedDict([('a', 1), ('b', 2), ('c', 3)])\n",
    "\n",
    "print(fancy)"
   ]
  },
  {
   "cell_type": "markdown",
   "id": "a66d11cc",
   "metadata": {},
   "source": [
    "Yes, the OrderedDict is printed in the same order as the plain dictionary. This is because we added the key-value pairs to the OrderedDict in the same order as they appeared in the plain dictionary."
   ]
  },
  {
   "cell_type": "markdown",
   "id": "f858df69",
   "metadata": {},
   "source": [
    "#### 7. Make a default dictionary called dict_of_lists and pass it the argument list. Make the list dict_of_lists[&#39;a&#39;] and append the value &#39;something for a&#39; to it in one assignment. Print dict_of_lists[&#39;a&#39;]."
   ]
  },
  {
   "cell_type": "code",
   "execution_count": 5,
   "id": "3c7fecf0",
   "metadata": {},
   "outputs": [
    {
     "name": "stdout",
     "output_type": "stream",
     "text": [
      "['something for a']\n"
     ]
    }
   ],
   "source": [
    "from collections import defaultdict\n",
    "\n",
    "# Create a defaultdict with a default value of list\n",
    "dict_of_lists = defaultdict(list)\n",
    "\n",
    "# Append a value to the list associated with the key 'a'\n",
    "dict_of_lists['a'].append('something for a')\n",
    "\n",
    "print(dict_of_lists['a'])"
   ]
  }
 ],
 "metadata": {
  "kernelspec": {
   "display_name": "Python 3",
   "language": "python",
   "name": "python3"
  },
  "language_info": {
   "codemirror_mode": {
    "name": "ipython",
    "version": 3
   },
   "file_extension": ".py",
   "mimetype": "text/x-python",
   "name": "python",
   "nbconvert_exporter": "python",
   "pygments_lexer": "ipython3",
   "version": "3.8.8"
  }
 },
 "nbformat": 4,
 "nbformat_minor": 5
}
