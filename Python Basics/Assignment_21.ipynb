{
 "cells": [
  {
   "cell_type": "markdown",
   "id": "192b4ff9",
   "metadata": {},
   "source": [
    "# Assignment 21"
   ]
  },
  {
   "cell_type": "markdown",
   "id": "293bcdcb",
   "metadata": {},
   "source": [
    "#### 1. Add the current date to the text file today.txt as a string."
   ]
  },
  {
   "cell_type": "code",
   "execution_count": 1,
   "id": "6b648c61",
   "metadata": {},
   "outputs": [],
   "source": [
    "import datetime\n",
    "\n",
    "current_date = datetime.date.today().strftime('%Y-%m-%d')\n",
    "\n",
    "with open('today.txt', 'w') as f:\n",
    "    f.write(current_date)"
   ]
  },
  {
   "cell_type": "markdown",
   "id": "5ced709a",
   "metadata": {},
   "source": [
    "#### 2. Read the text file today.txt into the string today_string"
   ]
  },
  {
   "cell_type": "code",
   "execution_count": 6,
   "id": "d8b875bf",
   "metadata": {},
   "outputs": [
    {
     "name": "stdout",
     "output_type": "stream",
     "text": [
      "2023-04-30\n"
     ]
    }
   ],
   "source": [
    "with open('today.txt', 'r') as f:\n",
    "    today_string = f.read()\n",
    "print(today_string)"
   ]
  },
  {
   "cell_type": "markdown",
   "id": "2273c00f",
   "metadata": {},
   "source": [
    "#### 3. Parse the date from today_string."
   ]
  },
  {
   "cell_type": "code",
   "execution_count": 3,
   "id": "336d1965",
   "metadata": {},
   "outputs": [],
   "source": [
    "import datetime\n",
    "\n",
    "date_obj = datetime.datetime.strptime(today_string, '%Y-%m-%d').date()\n"
   ]
  },
  {
   "cell_type": "markdown",
   "id": "d8dc3e22",
   "metadata": {},
   "source": [
    "The **strptime()** method is used to parse the string, and the '%Y-%m-%d' format code is used to specify the format of the date string. The .date() method is then called on the datetime object to extract only the date portion of the object, which is assigned to the 'date_obj' variable."
   ]
  },
  {
   "cell_type": "markdown",
   "id": "fe581cef",
   "metadata": {},
   "source": [
    "#### 4. List the files in your current directory"
   ]
  },
  {
   "cell_type": "code",
   "execution_count": 8,
   "id": "e786bae6",
   "metadata": {},
   "outputs": [
    {
     "name": "stdout",
     "output_type": "stream",
     "text": [
      ".ipynb_checkpoints\n",
      "Assignment_1.ipynb\n",
      "Assignment_10.ipynb\n",
      "Assignment_11.ipynb\n",
      "Assignment_12.ipynb\n",
      "Assignment_13.ipynb\n",
      "Assignment_14.ipynb\n",
      "Assignment_16.ipynb\n",
      "Assignment_17.ipynb\n",
      "Assignment_18.ipynb\n",
      "Assignment_19.ipynb\n",
      "Assignment_2.ipynb\n",
      "Assignment_20.ipynb\n",
      "Assignment_21.ipynb\n",
      "Assignment_3.ipynb\n",
      "Assignment_4.ipynb\n",
      "Assignment_5.ipynb\n",
      "Assignment_6.ipynb\n",
      "Assignment_7.ipynb\n",
      "Assignment_8.ipynb\n",
      "Assignment_9.ipynb\n",
      "books.csv\n",
      "books.db\n",
      "cropped_image.jpeg\n",
      "rahul.jpeg\n",
      "test.txt\n",
      "today.txt\n",
      "zoo.ipynb\n"
     ]
    }
   ],
   "source": [
    "import os\n",
    "\n",
    "files = os.listdir('.')\n",
    "for file in files:\n",
    "    print(file)"
   ]
  },
  {
   "cell_type": "code",
   "execution_count": 10,
   "id": "224bb3fe",
   "metadata": {},
   "outputs": [
    {
     "name": "stdout",
     "output_type": "stream",
     "text": [
      "Assignment_1.ipynb\n",
      "Assignment_10.ipynb\n",
      "Assignment_11.ipynb\n",
      "Assignment_12.ipynb\n",
      "Assignment_13.ipynb\n",
      "Assignment_14.ipynb\n",
      "Assignment_16.ipynb\n",
      "Assignment_17.ipynb\n",
      "Assignment_18.ipynb\n",
      "Assignment_19.ipynb\n",
      "Assignment_2.ipynb\n",
      "Assignment_20.ipynb\n",
      "Assignment_21.ipynb\n",
      "Assignment_3.ipynb\n",
      "Assignment_4.ipynb\n",
      "Assignment_5.ipynb\n",
      "Assignment_6.ipynb\n",
      "Assignment_7.ipynb\n",
      "Assignment_8.ipynb\n",
      "Assignment_9.ipynb\n",
      "books.csv\n",
      "books.db\n",
      "cropped_image.jpeg\n",
      "rahul.jpeg\n",
      "test.txt\n",
      "today.txt\n",
      "zoo.ipynb\n"
     ]
    }
   ],
   "source": [
    "import os\n",
    "\n",
    "files = os.listdir('.')\n",
    "for file in files:\n",
    "    if os.path.isfile(file):\n",
    "        print(file)"
   ]
  },
  {
   "cell_type": "markdown",
   "id": "1c5766c0",
   "metadata": {},
   "source": [
    "#### 5. Create a list of all of the files in your parent directory (minimum five files should be available)."
   ]
  },
  {
   "cell_type": "code",
   "execution_count": 3,
   "id": "9497c243",
   "metadata": {},
   "outputs": [
    {
     "name": "stdout",
     "output_type": "stream",
     "text": [
      "C:\\Users\\sin90\\iNeuron\n",
      "['.ipynb_checkpoints', '1.txt.txt', '2.txt.txt', '3.txt.txt', '4.txt.txt', '5.txt.txt', 'Python Basics']\n",
      "['1.txt.txt', '2.txt.txt', '3.txt.txt', '4.txt.txt', '5.txt.txt']\n"
     ]
    }
   ],
   "source": [
    "import os\n",
    "\n",
    "parent_dir = os.path.abspath('..')\n",
    "print(parent_dir)\n",
    "files = os.listdir(parent_dir)\n",
    "print(files)\n",
    "file_list = []\n",
    "\n",
    "for file in files:\n",
    "    if os.path.isfile(os.path.join(parent_dir, file)):\n",
    "        file_list.append(file)\n",
    "\n",
    "print(file_list)"
   ]
  },
  {
   "cell_type": "markdown",
   "id": "303c5dc3",
   "metadata": {},
   "source": [
    "#### 6. Use multiprocessing to create three separate processes. Make each one wait a random number of seconds between one and five, print the current time, and then exit."
   ]
  },
  {
   "cell_type": "code",
   "execution_count": 7,
   "id": "bc8c6623",
   "metadata": {},
   "outputs": [
    {
     "name": "stdout",
     "output_type": "stream",
     "text": [
      "Process MainProcess waited 3 seconds and finished at 2023-05-02 14:27:06.848227\n",
      "Process MainProcess waited 1 seconds and finished at 2023-05-02 14:27:07.865574\n",
      "Process MainProcess waited 3 seconds and finished at 2023-05-02 14:27:10.887485\n",
      "All processes finished\n"
     ]
    }
   ],
   "source": [
    "import multiprocessing\n",
    "import random\n",
    "import time\n",
    "from datetime import datetime\n",
    "\n",
    "def Multi():\n",
    "    wait_time = random.randint(1, 5)\n",
    "    time.sleep(wait_time)\n",
    "    print(f\"Process {multiprocessing.current_process().name} waited {wait_time} seconds and finished at {datetime.now()}\")\n",
    "\n",
    "if __name__ == '__main__':\n",
    "    processes = []\n",
    "    for i in range(3):\n",
    "        p = multiprocessing.Process(target= Multi(), name=f\"Process {i+1}\")\n",
    "        p.start()\n",
    "        processes.append(p)\n",
    "\n",
    "    for p in processes:\n",
    "        p.join()\n",
    "        \n",
    "    print(\"All processes finished\")"
   ]
  },
  {
   "cell_type": "markdown",
   "id": "497e60a4",
   "metadata": {},
   "source": [
    "#### 7. Create a date object of your day of birth."
   ]
  },
  {
   "cell_type": "code",
   "execution_count": 8,
   "id": "08117b80",
   "metadata": {},
   "outputs": [
    {
     "name": "stdout",
     "output_type": "stream",
     "text": [
      "1994-10-12\n"
     ]
    }
   ],
   "source": [
    "from datetime import date\n",
    "birthday = date(1994, 10, 12)\n",
    "print(birthday)"
   ]
  },
  {
   "cell_type": "markdown",
   "id": "84077c81",
   "metadata": {},
   "source": [
    "#### 8. What day of the week was your day of birth?"
   ]
  },
  {
   "cell_type": "code",
   "execution_count": 11,
   "id": "70cadb10",
   "metadata": {},
   "outputs": [
    {
     "name": "stdout",
     "output_type": "stream",
     "text": [
      "My birthday was on a Wednesday.\n"
     ]
    }
   ],
   "source": [
    "weekday_num = birthday.weekday()\n",
    "weekday_names = [\"Monday\", \"Tuesday\", \"Wednesday\", \"Thursday\", \"Friday\", \"Saturday\", \"Sunday\"]\n",
    "\n",
    "weekday_name = weekday_names[weekday_num]\n",
    "print(f\"My birthday was on a {weekday_name}.\")"
   ]
  },
  {
   "cell_type": "markdown",
   "id": "c33f4011",
   "metadata": {},
   "source": [
    "#### 9. When will you be (or when were you) 10,000 days old?"
   ]
  },
  {
   "cell_type": "code",
   "execution_count": 13,
   "id": "d77a0ee5",
   "metadata": {},
   "outputs": [
    {
     "name": "stdout",
     "output_type": "stream",
     "text": [
      "I will be (or were) 10,000 days old on 2022-02-27.\n"
     ]
    }
   ],
   "source": [
    "from datetime import timedelta\n",
    "ten_thousand_days = birthday + timedelta(days=10000)\n",
    "\n",
    "print(f\"I will be (or were) 10,000 days old on {ten_thousand_days}.\")"
   ]
  }
 ],
 "metadata": {
  "kernelspec": {
   "display_name": "Python 3",
   "language": "python",
   "name": "python3"
  },
  "language_info": {
   "codemirror_mode": {
    "name": "ipython",
    "version": 3
   },
   "file_extension": ".py",
   "mimetype": "text/x-python",
   "name": "python",
   "nbconvert_exporter": "python",
   "pygments_lexer": "ipython3",
   "version": "3.8.8"
  }
 },
 "nbformat": 4,
 "nbformat_minor": 5
}
