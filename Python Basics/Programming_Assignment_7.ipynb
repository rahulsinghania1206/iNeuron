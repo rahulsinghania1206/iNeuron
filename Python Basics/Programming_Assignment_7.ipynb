{
 "cells": [
  {
   "cell_type": "markdown",
   "id": "c189ff3a",
   "metadata": {},
   "source": [
    "# Programming Assignment_7"
   ]
  },
  {
   "cell_type": "markdown",
   "id": "6ac765a4",
   "metadata": {},
   "source": [
    "#### 1. Write a Python Program to find sum of array?"
   ]
  },
  {
   "cell_type": "code",
   "execution_count": 1,
   "id": "d2219b1e",
   "metadata": {},
   "outputs": [
    {
     "name": "stdout",
     "output_type": "stream",
     "text": [
      "Enter the integers for Array separated by spaces: 1 2 3 4 5 6 7 8 9\n",
      "The sum of the array is: 45\n"
     ]
    }
   ],
   "source": [
    "elements = input(\"Enter the integers for Array separated by spaces: \")\n",
    "list_str = elements.split()\n",
    "array = [int(x) for x in list_str]\n",
    "sum = 0\n",
    "for num in array:\n",
    "    sum += num\n",
    "print(f\"The sum of the array is: {sum}\")"
   ]
  },
  {
   "cell_type": "markdown",
   "id": "8f62e31f",
   "metadata": {},
   "source": [
    "#### 2. Write a Python Program to find largest element in an array?"
   ]
  },
  {
   "cell_type": "code",
   "execution_count": 2,
   "id": "03b24908",
   "metadata": {},
   "outputs": [
    {
     "name": "stdout",
     "output_type": "stream",
     "text": [
      "Enter the integers for Array separated by spaces: 23 45 12 78 65 90\n",
      "The largest element in the array is: 90\n"
     ]
    }
   ],
   "source": [
    "elements = input(\"Enter the integers for Array separated by spaces: \")\n",
    "list_str = elements.split()\n",
    "array = [int(x) for x in list_str]\n",
    "largest = array[0]\n",
    "for num in array:\n",
    "    if num > largest:\n",
    "        largest = num\n",
    "print(f\"The largest element in the array is: {largest}\")"
   ]
  },
  {
   "cell_type": "markdown",
   "id": "dbf11c5c",
   "metadata": {},
   "source": [
    "#### 3. Write a Python Program for array rotation?"
   ]
  },
  {
   "cell_type": "code",
   "execution_count": 4,
   "id": "cab11fc3",
   "metadata": {},
   "outputs": [
    {
     "name": "stdout",
     "output_type": "stream",
     "text": [
      "Enter the Array separated by spaces: 1 2 3 4 5 6\n",
      "Enter number of rotations: 1\n",
      "The array after 1 rotations: [2, 3, 4, 5, 6, 1]\n"
     ]
    }
   ],
   "source": [
    "def rotate_array(arr, k):\n",
    "    n = len(arr)\n",
    "    k = k % n  # handle cases where k is larger than the array size\n",
    "    rotated_arr = arr[k:] + arr[:k]\n",
    "    return rotated_arr\n",
    "\n",
    "elements = input(\"Enter the Array separated by spaces: \")\n",
    "list_str = elements.split()\n",
    "array = [int(x) for x in list_str]\n",
    "k = int(input(\"Enter number of rotations: \"))\n",
    "result = rotate_array(array, k)\n",
    "print(f\"The array after {k} rotations: {result}\")"
   ]
  },
  {
   "cell_type": "markdown",
   "id": "6bb58655",
   "metadata": {},
   "source": [
    "#### 4. Write a Python Program to Split the array and add the first part to the end?"
   ]
  },
  {
   "cell_type": "code",
   "execution_count": 6,
   "id": "132e17e2",
   "metadata": {},
   "outputs": [
    {
     "name": "stdout",
     "output_type": "stream",
     "text": [
      "Enter the Array separated by spaces: 1 2 3 4 5 6 7\n",
      "Enter index at which to split the array: 4\n",
      "The modified array after splitting and adding: [5, 6, 7, 1, 2, 3, 4]\n"
     ]
    }
   ],
   "source": [
    "def split_and_add(arr, split_index):\n",
    "    return arr[split_index:] + arr[:split_index]\n",
    "\n",
    "elements = input(\"Enter the Array separated by spaces: \")\n",
    "list_str = elements.split()\n",
    "array = [int(x) for x in list_str]\n",
    "split_index = int(input(\"Enter index at which to split the array: \"))\n",
    "result = split_and_add(array, split_index)\n",
    "print(f\"The modified array after splitting and adding: {result}\")"
   ]
  },
  {
   "cell_type": "markdown",
   "id": "3a472a25",
   "metadata": {},
   "source": [
    "#### 5. Write a Python Program to check if given array is Monotonic?"
   ]
  },
  {
   "cell_type": "code",
   "execution_count": 8,
   "id": "188040f2",
   "metadata": {},
   "outputs": [
    {
     "name": "stdout",
     "output_type": "stream",
     "text": [
      "Enter the Array separated by spaces: 2 1 5 4 3 7 6 \n",
      "The array is not monotonic.\n"
     ]
    }
   ],
   "source": [
    "def is_monotonic(arr):\n",
    "    increasing = decreasing = True\n",
    "\n",
    "    for i in range(1, len(arr)):\n",
    "        if arr[i] < arr[i-1]:\n",
    "            increasing = False\n",
    "        if arr[i] > arr[i-1]:\n",
    "            decreasing = False\n",
    "\n",
    "    return increasing or decreasing\n",
    "\n",
    "elements = input(\"Enter the Array separated by spaces: \")\n",
    "list_str = elements.split()\n",
    "array = [int(x) for x in list_str]\n",
    "result = is_monotonic(array)\n",
    "if result:\n",
    "    print(\"The array is monotonic.\")\n",
    "else:\n",
    "    print(\"The array is not monotonic.\")"
   ]
  }
 ],
 "metadata": {
  "kernelspec": {
   "display_name": "Python 3",
   "language": "python",
   "name": "python3"
  },
  "language_info": {
   "codemirror_mode": {
    "name": "ipython",
    "version": 3
   },
   "file_extension": ".py",
   "mimetype": "text/x-python",
   "name": "python",
   "nbconvert_exporter": "python",
   "pygments_lexer": "ipython3",
   "version": "3.8.8"
  }
 },
 "nbformat": 4,
 "nbformat_minor": 5
}
