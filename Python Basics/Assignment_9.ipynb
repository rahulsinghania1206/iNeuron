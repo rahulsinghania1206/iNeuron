{
 "cells": [
  {
   "cell_type": "markdown",
   "id": "e4eb7ff9",
   "metadata": {},
   "source": [
    "# # Assignment_9"
   ]
  },
  {
   "cell_type": "raw",
   "id": "94bef710",
   "metadata": {},
   "source": [
    "1. To what does a relative path refer?"
   ]
  },
  {
   "cell_type": "code",
   "execution_count": null,
   "id": "35c7d7fd",
   "metadata": {},
   "outputs": [],
   "source": [
    "Relative path refers to the file location to the current working directory."
   ]
  },
  {
   "cell_type": "raw",
   "id": "9d91b50b",
   "metadata": {},
   "source": [
    "2. What does an absolute path start with your operating system?"
   ]
  },
  {
   "cell_type": "code",
   "execution_count": null,
   "id": "bb6b9b7e",
   "metadata": {},
   "outputs": [],
   "source": [
    "Mostly Absolute path starts from the root directly of our system. Generally we have C drive and it starts from \"C:\"."
   ]
  },
  {
   "cell_type": "raw",
   "id": "4241fcbc",
   "metadata": {},
   "source": [
    "3. What do the functions os.getcwd() and os.chdir() do?"
   ]
  },
  {
   "cell_type": "code",
   "execution_count": null,
   "id": "0e41be4f",
   "metadata": {},
   "outputs": [],
   "source": [
    "os.getcwd() methods returns the currrent working directory path and os.chdir() method used to change the path od the current working directory to the given path and the path can be relative or absolute. "
   ]
  },
  {
   "cell_type": "raw",
   "id": "0a2d7c6d",
   "metadata": {},
   "source": [
    "4. What are the . and .. folders?"
   ]
  },
  {
   "cell_type": "code",
   "execution_count": null,
   "id": "d97edb3a",
   "metadata": {},
   "outputs": [],
   "source": [
    "\".\" folder is generally for current directory and \"..\" folder is for the parent directory. whatever operations we want to perform on the current or parent directory wec an use either . or .. folders."
   ]
  },
  {
   "cell_type": "raw",
   "id": "5bb7a097",
   "metadata": {},
   "source": [
    "5. In C:\\bacon\\eggs\\spam.txt, which part is the dir name, and which part is the base name?"
   ]
  },
  {
   "cell_type": "code",
   "execution_count": null,
   "id": "b7302193",
   "metadata": {},
   "outputs": [],
   "source": [
    "Directory name : C:\\bacon\\eggs\n",
    "Base name : spam.txt"
   ]
  },
  {
   "cell_type": "raw",
   "id": "c42f6a90",
   "metadata": {},
   "source": [
    "6. What are the three “mode” arguments that can be passed to the open() function?"
   ]
  },
  {
   "cell_type": "code",
   "execution_count": null,
   "id": "de5f0513",
   "metadata": {},
   "outputs": [],
   "source": [
    "Three mode arguments that are passsed to the open() function are:\n",
    "1. 'r' : Read mode is used to ope ad read the file content ad if file is not their it will throw an error FileNotFoundError.\n",
    "2. 'w' : Write mode used to opena nd write content in the file and if file doesnot exist then it will create a new file and opens that file.\n",
    "3. 'a' : Append mode open the file and used to add content at the end of the file."
   ]
  },
  {
   "cell_type": "raw",
   "id": "9ba08c7b",
   "metadata": {},
   "source": [
    "7. What happens if an existing file is opened in write mode?"
   ]
  },
  {
   "cell_type": "code",
   "execution_count": null,
   "id": "d554b816",
   "metadata": {},
   "outputs": [],
   "source": [
    "If an existing file is opened in write mode then the previous data of that file will be lost and it will be opened blank."
   ]
  },
  {
   "cell_type": "raw",
   "id": "5fc7934e",
   "metadata": {},
   "source": [
    "8. How do you tell the difference between read() and readlines()?"
   ]
  },
  {
   "cell_type": "code",
   "execution_count": null,
   "id": "28234679",
   "metadata": {},
   "outputs": [],
   "source": [
    "read() method reads the whole file data as a single string whereas readlines() method reads the whole content but 1 line data as 1 string. So it results in a list of string."
   ]
  },
  {
   "cell_type": "raw",
   "id": "18e08c07",
   "metadata": {},
   "source": [
    "9. What data structure does a shelf value resemble?"
   ]
  },
  {
   "cell_type": "code",
   "execution_count": null,
   "id": "9eb728b9",
   "metadata": {},
   "outputs": [],
   "source": [
    "Shelf value resemble a dictionary data structure as keys() and values() methods."
   ]
  }
 ],
 "metadata": {
  "kernelspec": {
   "display_name": "Python 3 (ipykernel)",
   "language": "python",
   "name": "python3"
  },
  "language_info": {
   "codemirror_mode": {
    "name": "ipython",
    "version": 3
   },
   "file_extension": ".py",
   "mimetype": "text/x-python",
   "name": "python",
   "nbconvert_exporter": "python",
   "pygments_lexer": "ipython3",
   "version": "3.9.12"
  }
 },
 "nbformat": 4,
 "nbformat_minor": 5
}
