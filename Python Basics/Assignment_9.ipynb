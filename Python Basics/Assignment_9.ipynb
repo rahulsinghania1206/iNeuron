{
 "cells": [
  {
   "cell_type": "markdown",
   "id": "e4eb7ff9",
   "metadata": {},
   "source": [
    "# # Assignment_9"
   ]
  },
  {
   "cell_type": "markdown",
   "id": "d4a48213",
   "metadata": {},
   "source": [
    "#### 1. To what does a relative path refer?"
   ]
  },
  {
   "cell_type": "markdown",
   "id": "dbd4375e",
   "metadata": {},
   "source": [
    "Relative path refers to the file location to the current working directory."
   ]
  },
  {
   "cell_type": "markdown",
   "id": "2f39d5a7",
   "metadata": {},
   "source": [
    "#### 2. What does an absolute path start with your operating system?"
   ]
  },
  {
   "cell_type": "markdown",
   "id": "399cde0c",
   "metadata": {},
   "source": [
    "Mostly Absolute path starts from the root directly of our system. Generally we have C drive and it starts from \"C:\"."
   ]
  },
  {
   "cell_type": "markdown",
   "id": "1ebbced9",
   "metadata": {},
   "source": [
    "#### 3. What do the functions os.getcwd() and os.chdir() do?"
   ]
  },
  {
   "cell_type": "markdown",
   "id": "52c4ebbe",
   "metadata": {},
   "source": [
    "**os.getcwd()** methods returns the currrent working directory path and **os.chdir()** method used to change the path od the current working directory to the given path and the path can be relative or absolute. "
   ]
  },
  {
   "cell_type": "markdown",
   "id": "ea478796",
   "metadata": {},
   "source": [
    "#### 4. What are the . and .. folders?"
   ]
  },
  {
   "cell_type": "markdown",
   "id": "86a0b14c",
   "metadata": {},
   "source": [
    "\".\" folder is generally for current directory and \"..\" folder is for the parent directory. whatever operations we want to perform on the current or parent directory wec an use either . or .. folders."
   ]
  },
  {
   "cell_type": "markdown",
   "id": "54690f0b",
   "metadata": {},
   "source": [
    "#### 5. In C:\\bacon\\eggs\\spam.txt, which part is the dir name, and which part is the base name?"
   ]
  },
  {
   "cell_type": "markdown",
   "id": "ef1a8674",
   "metadata": {},
   "source": [
    "Directory name : C:\\bacon\\eggs\n",
    "Base name : spam.txt"
   ]
  },
  {
   "cell_type": "markdown",
   "id": "f0fde231",
   "metadata": {},
   "source": [
    "#### 6. What are the three “mode” arguments that can be passed to the open() function?"
   ]
  },
  {
   "cell_type": "markdown",
   "id": "07f9a087",
   "metadata": {},
   "source": [
    "Three mode arguments that are passsed to the open() function are:\n",
    "1. 'r' : Read mode is used to ope ad read the file content ad if file is not their it will throw an error FileNotFoundError.\n",
    "2. 'w' : Write mode used to opena nd write content in the file and if file doesnot exist then it will create a new file and opens that file.\n",
    "3. 'a' : Append mode open the file and used to add content at the end of the file."
   ]
  },
  {
   "cell_type": "markdown",
   "id": "cf487421",
   "metadata": {},
   "source": [
    "#### 7. What happens if an existing file is opened in write mode?"
   ]
  },
  {
   "cell_type": "markdown",
   "id": "d5a87cdb",
   "metadata": {},
   "source": [
    "If an existing file is opened in write mode then the previous data of that file will be lost and it will be opened blank."
   ]
  },
  {
   "cell_type": "markdown",
   "id": "f9077a59",
   "metadata": {},
   "source": [
    "#### 8. How do you tell the difference between read() and readlines()?"
   ]
  },
  {
   "cell_type": "markdown",
   "id": "5ab959bb",
   "metadata": {},
   "source": [
    "**read()** method reads the whole file data as a single string whereas **readlines()** method reads the whole content but 1 line data as 1 string. So it results in a list of string."
   ]
  },
  {
   "cell_type": "markdown",
   "id": "6d9b3f66",
   "metadata": {},
   "source": [
    "#### 9. What data structure does a shelf value resemble?"
   ]
  },
  {
   "cell_type": "markdown",
   "id": "1d5aac00",
   "metadata": {},
   "source": [
    "Shelf value resemble a dictionary data structure as keys() and values() methods."
   ]
  }
 ],
 "metadata": {
  "kernelspec": {
   "display_name": "Python 3",
   "language": "python",
   "name": "python3"
  },
  "language_info": {
   "codemirror_mode": {
    "name": "ipython",
    "version": 3
   },
   "file_extension": ".py",
   "mimetype": "text/x-python",
   "name": "python",
   "nbconvert_exporter": "python",
   "pygments_lexer": "ipython3",
   "version": "3.8.8"
  }
 },
 "nbformat": 4,
 "nbformat_minor": 5
}
