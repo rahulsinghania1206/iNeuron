{
 "cells": [
  {
   "cell_type": "markdown",
   "id": "8acdcb4d",
   "metadata": {},
   "source": [
    "## Assignment 1"
   ]
  },
  {
   "cell_type": "markdown",
   "id": "69546bd3",
   "metadata": {},
   "source": [
    "### 1. In the below elements which of them are values or an expression? eg:- values can be integer or string and expressions will be mathematical operators."
   ]
  },
  {
   "cell_type": "code",
   "execution_count": null,
   "id": "d6d53307",
   "metadata": {},
   "outputs": [],
   "source": [
    "Answer 1:\n",
    "* -- Arthematic Operator(Multiplication)\n",
    "'hello' -- String\n",
    "-87.8 -- float\n",
    "- -- Arthematic Operator(Subtraction) \n",
    "/ -- Arthematic Operator(Division)\n",
    "+ -- Arthematic Operator(Addition)\n",
    "6 -- Integer"
   ]
  },
  {
   "cell_type": "markdown",
   "id": "74644b7d",
   "metadata": {},
   "source": [
    "### 2. What is the difference between string and variable?"
   ]
  },
  {
   "cell_type": "code",
   "execution_count": null,
   "id": "e954a222",
   "metadata": {},
   "outputs": [],
   "source": [
    "Answer 2: Variables are symbols that we can use to store data in program. Strings are data, so we can use them to fill up a variable. Strings are usually words, enclosed with \" \"(double or single quotes).\n",
    "Eg.\n",
    "String X =\"Welcome to iNeuron\"\n",
    "X is the Variable, and we declared it as a String."
   ]
  },
  {
   "cell_type": "markdown",
   "id": "159bc0ef",
   "metadata": {},
   "source": [
    "### 3. Describe three different data types."
   ]
  },
  {
   "cell_type": "code",
   "execution_count": null,
   "id": "35ebb622",
   "metadata": {},
   "outputs": [],
   "source": [
    "Answer 3: \n",
    "Integer -- Whole numbers --\tEg. 8, 88, 888...\n",
    "Float -- Number with a decimal point -- Eg. 8.15, -6.96, 00.13\n",
    "Character -- Encoding text numerically -- Eg. 97 (in ASCII, 97 is a lower case 'a')"
   ]
  },
  {
   "cell_type": "markdown",
   "id": "70273fa0",
   "metadata": {},
   "source": [
    "### 4. What is an expression made up of? What do all expressions do?"
   ]
  },
  {
   "cell_type": "code",
   "execution_count": null,
   "id": "f9c9c81c",
   "metadata": {},
   "outputs": [],
   "source": [
    "Answer 4: An expression is a combination of values, variables, operators, and calls to functions. Expressions are used to represent computations or operations that need to be performed. All expressions have the ability to produce a value, which can then be used in other parts of a program.\n",
    "Eg. Expression (x + y) * z represents the product of the sum of x and y and z."
   ]
  },
  {
   "cell_type": "markdown",
   "id": "2451fd1b",
   "metadata": {},
   "source": [
    "### 5. This assignment statements, like spam = 10. What is the difference between an expression and a statement?"
   ]
  },
  {
   "cell_type": "code",
   "execution_count": null,
   "id": "6bcbe563",
   "metadata": {},
   "outputs": [],
   "source": [
    "Answer 5: Difference between expressions and statements is that expressions always have a value, while statements do not.\n",
    "Eg. In the assignment statement spam = 10, the expression 10 has a value of 10, which is then assigned to the variable spam. The statement itself does not have a value. Expressions always have a value associated with them, while statements do not."
   ]
  },
  {
   "cell_type": "markdown",
   "id": "9428fa58",
   "metadata": {},
   "source": [
    "### 6. After running the following code, what does the variable bacon contain?"
   ]
  },
  {
   "cell_type": "code",
   "execution_count": 4,
   "id": "770069b5",
   "metadata": {},
   "outputs": [
    {
     "data": {
      "text/plain": [
       "23"
      ]
     },
     "execution_count": 4,
     "metadata": {},
     "output_type": "execute_result"
    }
   ],
   "source": [
    "bacon = 22\n",
    "bacon + 1"
   ]
  },
  {
   "cell_type": "code",
   "execution_count": null,
   "id": "8c6c9a14",
   "metadata": {},
   "outputs": [],
   "source": [
    "Answer 6: Variable bacon will still contain the value 22, because the statement bacon + 1 evaluates to 23, but the result is not assigned back to the variable 'bacon'."
   ]
  },
  {
   "cell_type": "markdown",
   "id": "f8032948",
   "metadata": {},
   "source": [
    "### 7. What should the values of the following two terms be?"
   ]
  },
  {
   "cell_type": "code",
   "execution_count": 5,
   "id": "50deac17",
   "metadata": {},
   "outputs": [
    {
     "data": {
      "text/plain": [
       "'spamspamspam'"
      ]
     },
     "execution_count": 5,
     "metadata": {},
     "output_type": "execute_result"
    }
   ],
   "source": [
    "'spam' + 'spamspam'"
   ]
  },
  {
   "cell_type": "code",
   "execution_count": 6,
   "id": "008ff15a",
   "metadata": {},
   "outputs": [
    {
     "data": {
      "text/plain": [
       "'spamspamspam'"
      ]
     },
     "execution_count": 6,
     "metadata": {},
     "output_type": "execute_result"
    }
   ],
   "source": [
    "'spam' * 3"
   ]
  },
  {
   "cell_type": "markdown",
   "id": "61e72fce",
   "metadata": {},
   "source": [
    "Answer 7:\n",
    "'spam' + 'spamspam' has + operator this will concatenate two strings, output string = 'spamspamspam'.\n",
    "'spam' * 3 has * operator to repeat the string 'spam' 3 times, output string = 'spamspamspam'."
   ]
  },
  {
   "cell_type": "markdown",
   "id": "f5008980",
   "metadata": {},
   "source": [
    "### 8. Why is eggs a valid variable name while 100 is invalid?"
   ]
  },
  {
   "cell_type": "markdown",
   "id": "44f78a57",
   "metadata": {},
   "source": [
    "Answer 8: Variable name cannot start with a number. They can only start with a letter (upper or lowercase) or an underscore (_). "
   ]
  },
  {
   "cell_type": "markdown",
   "id": "92572885",
   "metadata": {},
   "source": [
    "### 9. What three functions can be used to get the integer, floating-point number, or string version of a value?"
   ]
  },
  {
   "cell_type": "markdown",
   "id": "f74fcff4",
   "metadata": {},
   "source": [
    "Answer 9: \n",
    "int() used to convert a value into an integer.\n",
    "float() used to convert a value into a floating-point number.\n",
    "str() convert a value into a string."
   ]
  },
  {
   "cell_type": "markdown",
   "id": "294b15b7",
   "metadata": {},
   "source": [
    "### 10. Why does this expression cause an error? How can you fix it?\n",
    "'I have eaten ' + 99 + ' burritos.'"
   ]
  },
  {
   "cell_type": "code",
   "execution_count": 8,
   "id": "1c537c83",
   "metadata": {},
   "outputs": [
    {
     "ename": "TypeError",
     "evalue": "can only concatenate str (not \"int\") to str",
     "output_type": "error",
     "traceback": [
      "\u001b[1;31m---------------------------------------------------------------------------\u001b[0m",
      "\u001b[1;31mTypeError\u001b[0m                                 Traceback (most recent call last)",
      "\u001b[1;32m<ipython-input-8-d24137131a5c>\u001b[0m in \u001b[0;36m<module>\u001b[1;34m\u001b[0m\n\u001b[1;32m----> 1\u001b[1;33m \u001b[1;34m'I have eaten '\u001b[0m \u001b[1;33m+\u001b[0m \u001b[1;36m99\u001b[0m \u001b[1;33m+\u001b[0m \u001b[1;34m' burritos.'\u001b[0m\u001b[1;33m\u001b[0m\u001b[1;33m\u001b[0m\u001b[0m\n\u001b[0m",
      "\u001b[1;31mTypeError\u001b[0m: can only concatenate str (not \"int\") to str"
     ]
    }
   ],
   "source": [
    "'I have eaten ' + 99 + ' burritos.'"
   ]
  },
  {
   "cell_type": "code",
   "execution_count": 9,
   "id": "a5004e23",
   "metadata": {},
   "outputs": [
    {
     "data": {
      "text/plain": [
       "'I have eaten 99 burritos.'"
      ]
     },
     "execution_count": 9,
     "metadata": {},
     "output_type": "execute_result"
    }
   ],
   "source": [
    "'I have eaten ' + '99' + ' burritos.'"
   ]
  },
  {
   "cell_type": "markdown",
   "id": "76fe38d8",
   "metadata": {},
   "source": [
    "Answer 10. This expression has integer value i.e. 99 where other values are string. so we cannot concatenate the string value to integer we have to first convert integer to string (i.e. '99') then we can concatenate. "
   ]
  }
 ],
 "metadata": {
  "kernelspec": {
   "display_name": "Python 3",
   "language": "python",
   "name": "python3"
  },
  "language_info": {
   "codemirror_mode": {
    "name": "ipython",
    "version": 3
   },
   "file_extension": ".py",
   "mimetype": "text/x-python",
   "name": "python",
   "nbconvert_exporter": "python",
   "pygments_lexer": "ipython3",
   "version": "3.8.8"
  }
 },
 "nbformat": 4,
 "nbformat_minor": 5
}
