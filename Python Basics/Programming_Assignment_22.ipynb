{
 "cells": [
  {
   "cell_type": "markdown",
   "id": "87b188e9",
   "metadata": {},
   "source": [
    "# Programming Assignment_22"
   ]
  },
  {
   "cell_type": "markdown",
   "id": "37acf349",
   "metadata": {},
   "source": [
    "#### Question 1 Create a function that takes three parameters where:<br>\n",
    " x is the start of the range (inclusive).<br>\n",
    " y is the end of the range (inclusive).<br>\n",
    " n is the divisor to be checked against.\n",
    "\n",
    "Return an ordered list with numbers in the range that are divisible by the third parameter n.<br>\n",
    "Return an empty list if there are no numbers that are divisible by n.\n",
    "\n",
    "**Examples**<br>\n",
    "list_operation(1, 10, 3) ➞ [3, 6, 9]<br>\n",
    "list_operation(7, 9, 2) ➞ [8]<br>\n",
    "list_operation(15, 20, 7) ➞ []"
   ]
  },
  {
   "cell_type": "code",
   "execution_count": 2,
   "id": "96a89f59",
   "metadata": {},
   "outputs": [
    {
     "name": "stdout",
     "output_type": "stream",
     "text": [
      "[3, 6, 9]\n",
      "[8]\n",
      "[]\n"
     ]
    }
   ],
   "source": [
    "def list_operation(start,end,divisor):\n",
    "    lst = []\n",
    "    for i in range(start, end+1):\n",
    "        if i%divisor==0:\n",
    "            lst.append(i)\n",
    "        else:\n",
    "            continue\n",
    "    return lst\n",
    "\n",
    "print(list_operation(1, 10, 3))\n",
    "print(list_operation(7, 9, 2))\n",
    "print(list_operation(15, 20, 7))"
   ]
  },
  {
   "cell_type": "markdown",
   "id": "25932a53",
   "metadata": {},
   "source": [
    "#### Question 2 Create a function that takes in two lists and returns True if the second list follows the first list by one element, and False otherwise. In other words, determine if the second list is the first list shifted to the right by 1.\n",
    "\n",
    "**Examples**<br>\n",
    "simon_says([1, 2], [5, 1]) ➞ True<br>\n",
    "simon_says([1, 2], [5, 5]) ➞ False<br>\n",
    "simon_says([1, 2, 3, 4, 5], [0, 1, 2, 3, 4]) ➞ True<br>\n",
    "simon_says([1, 2, 3, 4, 5], [5, 5, 1, 2, 3]) ➞ False\n",
    "\n",
    "**Notes**<br>\n",
    " Both input lists will be of the same length, and will have a minimum length of 2.<br>\n",
    " The values of the 0-indexed element in the second list and the n-1th indexed element in the first list do not matter."
   ]
  },
  {
   "cell_type": "code",
   "execution_count": 3,
   "id": "828579fb",
   "metadata": {},
   "outputs": [
    {
     "name": "stdout",
     "output_type": "stream",
     "text": [
      "True\n",
      "False\n",
      "True\n",
      "False\n"
     ]
    }
   ],
   "source": [
    "def simon_says(list1, list2):\n",
    "    return list1[:-1] == list2[1:]\n",
    "\n",
    "print(simon_says([1, 2], [5, 1]))  \n",
    "print(simon_says([1, 2], [5, 5])) \n",
    "print(simon_says([1, 2, 3, 4, 5], [0, 1, 2, 3, 4]))  \n",
    "print(simon_says([1, 2, 3, 4, 5], [5, 5, 1, 2, 3]))  "
   ]
  },
  {
   "cell_type": "markdown",
   "id": "d63d9b5a",
   "metadata": {},
   "source": [
    "#### Question 3 A group of friends have decided to start a secret society. The name will be the first letter of each of their names, sorted in alphabetical order. Create a function that takes in a list of names and returns the name of the secret society.\n",
    "\n",
    "**Examples**<br>\n",
    "society_name([&quot;Adam&quot;, &quot;Sarah&quot;, &quot;Malcolm&quot;]) ➞ &quot;AMS&quot;<br>\n",
    "society_name([&quot;Harry&quot;, &quot;Newt&quot;, &quot;Luna&quot;, &quot;Cho&quot;]) ➞ &quot;CHLN&quot;<br>\n",
    "society_name([&quot;Phoebe&quot;, &quot;Chandler&quot;, &quot;Rachel&quot;, &quot;Ross&quot;, &quot;Monica&quot;, &quot;Joey&quot;])"
   ]
  },
  {
   "cell_type": "code",
   "execution_count": 4,
   "id": "e9731873",
   "metadata": {},
   "outputs": [
    {
     "name": "stdout",
     "output_type": "stream",
     "text": [
      "AMS\n",
      "CHLN\n",
      "CJMPRR\n"
     ]
    }
   ],
   "source": [
    "def society_name(names):\n",
    "    initials = [name[0] for name in names]\n",
    "    return ''.join(sorted(initials))\n",
    "\n",
    "print(society_name([\"Adam\", \"Sarah\", \"Malcolm\"]))  \n",
    "print(society_name([\"Harry\", \"Newt\", \"Luna\", \"Cho\"]))  \n",
    "print(society_name([\"Phoebe\", \"Chandler\", \"Rachel\", \"Ross\", \"Monica\", \"Joey\"]))"
   ]
  },
  {
   "cell_type": "markdown",
   "id": "eb2d5a7f",
   "metadata": {},
   "source": [
    "#### Question 4 An isogram is a word that has no duplicate letters. Create a function that takes a string and returns either True or False depending on whether or not it&#39;s an &quot;isogram&quot;.\n",
    "\n",
    "**Examples**<br>\n",
    "is_isogram(&quot;Algorism&quot;) ➞ True<br>\n",
    "is_isogram(&quot;PasSword&quot;) ➞ False<br>\n",
    "#Not case sensitive.<br>\n",
    "is_isogram(&quot;Consecutive&quot;) ➞ False<br>\n",
    "\n",
    "**Notes**<br>\n",
    " Ignore letter case (should not be case sensitive).<br>\n",
    " All test cases contain valid one word strings."
   ]
  },
  {
   "cell_type": "code",
   "execution_count": 5,
   "id": "5e3f5905",
   "metadata": {},
   "outputs": [
    {
     "name": "stdout",
     "output_type": "stream",
     "text": [
      "True\n",
      "False\n",
      "False\n"
     ]
    }
   ],
   "source": [
    "def is_isogram(word):\n",
    "    word = word.lower()    \n",
    "    # Check if the length of the set of characters is equal to the length of the word\n",
    "    # If they are equal, it means there are no duplicate characters and it's an isogram\n",
    "    return len(set(word)) == len(word)\n",
    "\n",
    "print(is_isogram(\"Algorism\")) \n",
    "print(is_isogram(\"PasSword\"))  \n",
    "print(is_isogram(\"Consecutive\"))  "
   ]
  },
  {
   "cell_type": "markdown",
   "id": "bba0b88b",
   "metadata": {},
   "source": [
    "#### Question 5 Create a function that takes a string and returns True or False, depending on whether the characters are in order or not.\n",
    "\n",
    "**Examples**<br>\n",
    "is_in_order(&quot;abc&quot;) ➞ True<br>\n",
    "is_in_order(&quot;edabit&quot;) ➞ False<br>\n",
    "is_in_order(&quot;123&quot;) ➞ True<br>\n",
    "is_in_order(&quot;xyzz&quot;) ➞ True\n",
    "\n",
    "**Notes**-\n",
    "You don&#39;t have to handle empty strings."
   ]
  },
  {
   "cell_type": "code",
   "execution_count": 6,
   "id": "a9aab837",
   "metadata": {},
   "outputs": [
    {
     "name": "stdout",
     "output_type": "stream",
     "text": [
      "True\n",
      "False\n",
      "True\n",
      "True\n"
     ]
    }
   ],
   "source": [
    "def is_in_order(string):\n",
    "    sorted_string = ''.join(sorted(string))\n",
    "    \n",
    "    # Check if the sorted string is equal to the original string\n",
    "    return string == sorted_string\n",
    "\n",
    "print(is_in_order(\"abc\")) \n",
    "print(is_in_order(\"edabit\"))  \n",
    "print(is_in_order(\"123\"))  \n",
    "print(is_in_order(\"xyzz\")) "
   ]
  }
 ],
 "metadata": {
  "kernelspec": {
   "display_name": "Python 3",
   "language": "python",
   "name": "python3"
  },
  "language_info": {
   "codemirror_mode": {
    "name": "ipython",
    "version": 3
   },
   "file_extension": ".py",
   "mimetype": "text/x-python",
   "name": "python",
   "nbconvert_exporter": "python",
   "pygments_lexer": "ipython3",
   "version": "3.8.8"
  }
 },
 "nbformat": 4,
 "nbformat_minor": 5
}
