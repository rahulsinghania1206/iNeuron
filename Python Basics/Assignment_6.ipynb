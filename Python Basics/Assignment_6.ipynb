{
 "cells": [
  {
   "cell_type": "markdown",
   "id": "ad32d7ea",
   "metadata": {},
   "source": [
    "# Assignment 6"
   ]
  },
  {
   "cell_type": "markdown",
   "id": "8f525f1e",
   "metadata": {},
   "source": [
    "### 1. What are escape characters, and how do you use them?"
   ]
  },
  {
   "cell_type": "markdown",
   "id": "ccb5d6e0",
   "metadata": {},
   "source": [
    "Escape characters are used to represent special characters or character sequences within a string. The most common use of escape characters is to represent characters that cannot be typed directly into a string or characters that have a special meaning within the context of a string."
   ]
  },
  {
   "cell_type": "markdown",
   "id": "7295cf40",
   "metadata": {},
   "source": [
    "some examples of how to use escape characters:"
   ]
  },
  {
   "cell_type": "markdown",
   "id": "13b53b1c",
   "metadata": {},
   "source": [
    "1. Double Quotes: To include double quotes within a string that is delimited by double quotes, you can use an escape character () to represent the double quote character."
   ]
  },
  {
   "cell_type": "code",
   "execution_count": 12,
   "id": "2daf8c9e",
   "metadata": {},
   "outputs": [
    {
     "name": "stdout",
     "output_type": "stream",
     "text": [
      "This is a string with a \"double quote\" character.\n"
     ]
    }
   ],
   "source": [
    "print(\"This is a string with a \\\"double quote\\\" character.\")"
   ]
  },
  {
   "cell_type": "markdown",
   "id": "fd4c785e",
   "metadata": {},
   "source": [
    "2. Single Quotes: To include single quotes within a string that is delimited by single quotes, you can use an escape character () to represent the single quote character."
   ]
  },
  {
   "cell_type": "code",
   "execution_count": 13,
   "id": "14d39fe3",
   "metadata": {},
   "outputs": [
    {
     "name": "stdout",
     "output_type": "stream",
     "text": [
      "This is a string with a 'single quote' character.\n"
     ]
    }
   ],
   "source": [
    "print('This is a string with a \\'single quote\\' character.')"
   ]
  },
  {
   "cell_type": "markdown",
   "id": "cc837872",
   "metadata": {},
   "source": [
    "3. Newline: To insert a newline character in a string, you can use the escape sequence \\n."
   ]
  },
  {
   "cell_type": "code",
   "execution_count": 14,
   "id": "ae54dfb2",
   "metadata": {},
   "outputs": [
    {
     "name": "stdout",
     "output_type": "stream",
     "text": [
      "This is a string\n",
      "with a newline character.\n"
     ]
    }
   ],
   "source": [
    "print(\"This is a string\\nwith a newline character.\")"
   ]
  },
  {
   "cell_type": "markdown",
   "id": "b3aac4d3",
   "metadata": {},
   "source": [
    "4. Tab: To insert a tab character in a string, you can use the escape sequence \\t."
   ]
  },
  {
   "cell_type": "code",
   "execution_count": 15,
   "id": "d3f66b9f",
   "metadata": {},
   "outputs": [
    {
     "name": "stdout",
     "output_type": "stream",
     "text": [
      "This is a string\twith a tab character.\n"
     ]
    }
   ],
   "source": [
    "print(\"This is a string\\twith a tab character.\")"
   ]
  },
  {
   "cell_type": "markdown",
   "id": "566364b6",
   "metadata": {},
   "source": [
    "5. Backslash: To include a backslash character in a string, you can use the escape sequence \\\\, like this:"
   ]
  },
  {
   "cell_type": "code",
   "execution_count": 16,
   "id": "3697bb9b",
   "metadata": {},
   "outputs": [
    {
     "name": "stdout",
     "output_type": "stream",
     "text": [
      "This is a string with a backslash: \\\n"
     ]
    }
   ],
   "source": [
    "print(\"This is a string with a backslash: \\\\\")"
   ]
  },
  {
   "cell_type": "markdown",
   "id": "75c38d21",
   "metadata": {},
   "source": [
    "### 2. What do the escape characters n and t stand for?"
   ]
  },
  {
   "cell_type": "markdown",
   "id": "22f912be",
   "metadata": {},
   "source": [
    "n stands for newline and t stands for tab."
   ]
  },
  {
   "cell_type": "markdown",
   "id": "685ef3e6",
   "metadata": {},
   "source": [
    "### 3. What is the way to include backslash characters in a string?"
   ]
  },
  {
   "cell_type": "markdown",
   "id": "6ee0f52c",
   "metadata": {},
   "source": [
    "using double backslash"
   ]
  },
  {
   "cell_type": "markdown",
   "id": "6c32102a",
   "metadata": {},
   "source": [
    "### 4. The string &quot;Howl&#39;s Moving Castle&quot; is a correct value. Why isn&#39;t the single quote character in the word Howl&#39;s not escaped a problem?"
   ]
  },
  {
   "cell_type": "markdown",
   "id": "a7037a2f",
   "metadata": {},
   "source": [
    "We can use either single quotes ('...') or double quotes (\"...\") to define a string. So the string \"Howl's Moving Castle\" is a correct value, as the single quote character in the word \"Howl's\" is enclosed within double quotes."
   ]
  },
  {
   "cell_type": "markdown",
   "id": "e7d0d900",
   "metadata": {},
   "source": [
    "Using single quotes to define the string would also work, as long as the single quote character is escaped with a backslash (\\\\)."
   ]
  },
  {
   "cell_type": "markdown",
   "id": "a7c38801",
   "metadata": {},
   "source": [
    "### 5. How do you write a string of newlines if you don&#39;t want to use the n character?"
   ]
  },
  {
   "cell_type": "markdown",
   "id": "d0dc042c",
   "metadata": {},
   "source": [
    "We can use a loop to repeat the newline character a certain number of times and concatenate those characters together to create the string of newlines."
   ]
  },
  {
   "cell_type": "markdown",
   "id": "2e6346b6",
   "metadata": {},
   "source": [
    "### 6. What are the values of the given expressions?"
   ]
  },
  {
   "cell_type": "code",
   "execution_count": 2,
   "id": "eaba1379",
   "metadata": {},
   "outputs": [
    {
     "data": {
      "text/plain": [
       "'e'"
      ]
     },
     "execution_count": 2,
     "metadata": {},
     "output_type": "execute_result"
    }
   ],
   "source": [
    "'Hello, world!'[1]"
   ]
  },
  {
   "cell_type": "code",
   "execution_count": 3,
   "id": "b9f4193d",
   "metadata": {},
   "outputs": [
    {
     "data": {
      "text/plain": [
       "'Hello'"
      ]
     },
     "execution_count": 3,
     "metadata": {},
     "output_type": "execute_result"
    }
   ],
   "source": [
    "'Hello, world!'[0:5]"
   ]
  },
  {
   "cell_type": "code",
   "execution_count": 4,
   "id": "1cba87f9",
   "metadata": {},
   "outputs": [
    {
     "data": {
      "text/plain": [
       "'Hello'"
      ]
     },
     "execution_count": 4,
     "metadata": {},
     "output_type": "execute_result"
    }
   ],
   "source": [
    "'Hello, world!'[:5]"
   ]
  },
  {
   "cell_type": "code",
   "execution_count": 5,
   "id": "8a58698b",
   "metadata": {},
   "outputs": [
    {
     "data": {
      "text/plain": [
       "'lo, world!'"
      ]
     },
     "execution_count": 5,
     "metadata": {},
     "output_type": "execute_result"
    }
   ],
   "source": [
    "'Hello, world!'[3:]"
   ]
  },
  {
   "cell_type": "markdown",
   "id": "3742865c",
   "metadata": {},
   "source": [
    "### 7. What are the values of the following expressions?"
   ]
  },
  {
   "cell_type": "code",
   "execution_count": 6,
   "id": "7ddcc13f",
   "metadata": {},
   "outputs": [
    {
     "data": {
      "text/plain": [
       "'HELLO'"
      ]
     },
     "execution_count": 6,
     "metadata": {},
     "output_type": "execute_result"
    }
   ],
   "source": [
    "'Hello'.upper()"
   ]
  },
  {
   "cell_type": "code",
   "execution_count": 7,
   "id": "39e1af5c",
   "metadata": {},
   "outputs": [
    {
     "data": {
      "text/plain": [
       "True"
      ]
     },
     "execution_count": 7,
     "metadata": {},
     "output_type": "execute_result"
    }
   ],
   "source": [
    "'Hello'.upper().isupper()"
   ]
  },
  {
   "cell_type": "code",
   "execution_count": 8,
   "id": "a3d38581",
   "metadata": {},
   "outputs": [
    {
     "data": {
      "text/plain": [
       "'hello'"
      ]
     },
     "execution_count": 8,
     "metadata": {},
     "output_type": "execute_result"
    }
   ],
   "source": [
    "'Hello'.upper().lower()"
   ]
  },
  {
   "cell_type": "markdown",
   "id": "243fcd70",
   "metadata": {},
   "source": [
    "### 8. What are the values of the following expressions?"
   ]
  },
  {
   "cell_type": "code",
   "execution_count": 9,
   "id": "91001acc",
   "metadata": {},
   "outputs": [
    {
     "data": {
      "text/plain": [
       "['Remember,', 'remember,', 'the', 'fifth', 'of', 'july.']"
      ]
     },
     "execution_count": 9,
     "metadata": {},
     "output_type": "execute_result"
    }
   ],
   "source": [
    "'Remember, remember, the fifth of july.'.split()"
   ]
  },
  {
   "cell_type": "code",
   "execution_count": 10,
   "id": "0af70c52",
   "metadata": {},
   "outputs": [
    {
     "data": {
      "text/plain": [
       "'There-can-only-one.'"
      ]
     },
     "execution_count": 10,
     "metadata": {},
     "output_type": "execute_result"
    }
   ],
   "source": [
    "'-'.join('There can only one.'.split())"
   ]
  },
  {
   "cell_type": "markdown",
   "id": "2c9e9b67",
   "metadata": {},
   "source": [
    "### 9. What are the methods for right-justifying, left-justifying, and centering a string?"
   ]
  },
  {
   "cell_type": "markdown",
   "id": "55839634",
   "metadata": {},
   "source": [
    "Right-justifying a string: To right-justify a string, you can use the rjust() method in Python. This method takes two arguments: the first argument is the width of the resulting string, and the second argument is the fill character (which is optional and defaults to whitespace). Example-"
   ]
  },
  {
   "cell_type": "code",
   "execution_count": 18,
   "id": "b2be53e5",
   "metadata": {},
   "outputs": [
    {
     "name": "stdout",
     "output_type": "stream",
     "text": [
      "-----Hello\n"
     ]
    }
   ],
   "source": [
    "text = \"Hello\"\n",
    "width = 10\n",
    "fillchar = \"-\"\n",
    "justified_text = text.rjust(width, fillchar)\n",
    "print(justified_text)"
   ]
  },
  {
   "cell_type": "markdown",
   "id": "c44f5a49",
   "metadata": {},
   "source": [
    "Left-justifying a string: To left-justify a string, you can use the ljust() method in Python. This method works similar to rjust(), but instead of padding on the right side, it pads on the left side. Example:"
   ]
  },
  {
   "cell_type": "code",
   "execution_count": 19,
   "id": "4c26dd8b",
   "metadata": {},
   "outputs": [
    {
     "name": "stdout",
     "output_type": "stream",
     "text": [
      "Hello-----\n"
     ]
    }
   ],
   "source": [
    "text = \"Hello\"\n",
    "width = 10\n",
    "fillchar = \"-\"\n",
    "justified_text = text.ljust(width, fillchar)\n",
    "print(justified_text)"
   ]
  },
  {
   "cell_type": "markdown",
   "id": "64a04590",
   "metadata": {},
   "source": [
    "Centering a string: To center a string, you can use the center() method in Python. This method works similar to ljust() and rjust(), but instead of padding on one side, it pads equally on both sides. Example-"
   ]
  },
  {
   "cell_type": "code",
   "execution_count": 20,
   "id": "2520dd2b",
   "metadata": {},
   "outputs": [
    {
     "name": "stdout",
     "output_type": "stream",
     "text": [
      "--Hello---\n"
     ]
    }
   ],
   "source": [
    "text = \"Hello\"\n",
    "width = 10\n",
    "fillchar = \"-\"\n",
    "justified_text = text.center(width, fillchar)\n",
    "print(justified_text)"
   ]
  },
  {
   "cell_type": "markdown",
   "id": "906ffe64",
   "metadata": {},
   "source": [
    "### 10. What is the best way to remove whitespace characters from the start or end?"
   ]
  },
  {
   "cell_type": "markdown",
   "id": "fbb39af1",
   "metadata": {},
   "source": [
    "using the strip() method"
   ]
  }
 ],
 "metadata": {
  "kernelspec": {
   "display_name": "Python 3",
   "language": "python",
   "name": "python3"
  },
  "language_info": {
   "codemirror_mode": {
    "name": "ipython",
    "version": 3
   },
   "file_extension": ".py",
   "mimetype": "text/x-python",
   "name": "python",
   "nbconvert_exporter": "python",
   "pygments_lexer": "ipython3",
   "version": "3.8.8"
  }
 },
 "nbformat": 4,
 "nbformat_minor": 5
}
