{
 "cells": [
  {
   "cell_type": "markdown",
   "id": "96276c1f",
   "metadata": {},
   "source": [
    "# Programming Assignment_11"
   ]
  },
  {
   "cell_type": "markdown",
   "id": "26d83787",
   "metadata": {},
   "source": [
    "#### 1. Write a Python program to find words which are greater than given length k?"
   ]
  },
  {
   "cell_type": "code",
   "execution_count": 3,
   "id": "91902185",
   "metadata": {},
   "outputs": [
    {
     "name": "stdout",
     "output_type": "stream",
     "text": [
      "Enter the string: The quick brown fox jumps over the lazy dog\n",
      "Enter the length of word: 3\n",
      "['quick', 'brown', 'jumps', 'over', 'lazy']\n"
     ]
    }
   ],
   "source": [
    "def find_words_greater_than_length(sentence, k):\n",
    "    words = sentence.split()\n",
    "    result = []\n",
    "    for word in words:\n",
    "        if len(word) > k:\n",
    "            result.append(word)\n",
    "    return result\n",
    "\n",
    "sentence = input(\"Enter the string: \")\n",
    "k = int(input(\"Enter the length of word: \"))\n",
    "words_greater_than_k = find_words_greater_than_length(sentence, k)\n",
    "print(words_greater_than_k)"
   ]
  },
  {
   "cell_type": "markdown",
   "id": "80fa6d8e",
   "metadata": {},
   "source": [
    "#### 2. Write a Python program for removing i-th character from a string?"
   ]
  },
  {
   "cell_type": "code",
   "execution_count": 4,
   "id": "d7e9c49c",
   "metadata": {},
   "outputs": [
    {
     "name": "stdout",
     "output_type": "stream",
     "text": [
      "Enter the string: Hellllo World!\n",
      "Enter the ith position: 4\n",
      "Helllo World!\n"
     ]
    }
   ],
   "source": [
    "def remove_ith_character(string, i):\n",
    "    if i < 0 or i >= len(string):\n",
    "        return string\n",
    "    return string[:i] + string[i+1:]\n",
    "\n",
    "string = input(\"Enter the string: \")\n",
    "i = int(input(\"Enter the ith position: \"))\n",
    "new_string = remove_ith_character(string, i)\n",
    "print(new_string)"
   ]
  },
  {
   "cell_type": "markdown",
   "id": "08274e4f",
   "metadata": {},
   "source": [
    "#### 3. Write a Python program to split and join a string?"
   ]
  },
  {
   "cell_type": "code",
   "execution_count": 5,
   "id": "eebf5a77",
   "metadata": {},
   "outputs": [
    {
     "name": "stdout",
     "output_type": "stream",
     "text": [
      "Enter the string: This is a sample string\n",
      "This-is-a-sample-string\n"
     ]
    }
   ],
   "source": [
    "def split_and_join(string):\n",
    "    words = string.split()\n",
    "    new_string = '-'.join(words)\n",
    "    return new_string\n",
    "\n",
    "string = input(\"Enter the string: \")\n",
    "new_string = split_and_join(string)\n",
    "print(new_string)"
   ]
  },
  {
   "cell_type": "markdown",
   "id": "6f7a3b28",
   "metadata": {},
   "source": [
    "#### 4. Write a Python to check if a given string is binary string or not?"
   ]
  },
  {
   "cell_type": "code",
   "execution_count": 6,
   "id": "c727c948",
   "metadata": {},
   "outputs": [
    {
     "name": "stdout",
     "output_type": "stream",
     "text": [
      "Enter the binary string: 10101010\n",
      "True\n"
     ]
    }
   ],
   "source": [
    "def is_binary_string(string):\n",
    "    for char in string:\n",
    "        if char != '0' and char != '1':\n",
    "            return False\n",
    "    return True\n",
    "\n",
    "string = input(\"Enter the binary string: \")\n",
    "is_binary = is_binary_string(string)\n",
    "print(is_binary)"
   ]
  },
  {
   "cell_type": "markdown",
   "id": "0006c5d9",
   "metadata": {},
   "source": [
    "#### 5. Write a Python program to find uncommon words from two Strings?"
   ]
  },
  {
   "cell_type": "code",
   "execution_count": 7,
   "id": "75a04b65",
   "metadata": {},
   "outputs": [
    {
     "name": "stdout",
     "output_type": "stream",
     "text": [
      "Enter the 1st string: Hello world\n",
      "Enter the 2nd string: Hello everyone\n",
      "{'world', 'everyone'}\n"
     ]
    }
   ],
   "source": [
    "def find_uncommon_words(string1, string2):\n",
    "    words1 = set(string1.split())\n",
    "    words2 = set(string2.split())\n",
    "    uncommon_words = words1.symmetric_difference(words2)\n",
    "    return uncommon_words\n",
    "\n",
    "string1 = input(\"Enter the 1st string: \")\n",
    "string2 = input(\"Enter the 2nd string: \")\n",
    "uncommon = find_uncommon_words(string1, string2)\n",
    "print(uncommon)"
   ]
  },
  {
   "cell_type": "markdown",
   "id": "9bc86b5c",
   "metadata": {},
   "source": [
    "#### 6. Write a Python to find all duplicate characters in string?"
   ]
  },
  {
   "cell_type": "code",
   "execution_count": 8,
   "id": "83a5ffb4",
   "metadata": {},
   "outputs": [
    {
     "name": "stdout",
     "output_type": "stream",
     "text": [
      "Enter the string: Hello, World!\n",
      "['l', 'o']\n"
     ]
    }
   ],
   "source": [
    "def find_duplicate_characters(string):\n",
    "    duplicates = []\n",
    "    for char in string:\n",
    "        if string.count(char) > 1 and char not in duplicates:\n",
    "            duplicates.append(char)\n",
    "    return duplicates\n",
    "\n",
    "string = input(\"Enter the string: \")\n",
    "duplicate_chars = find_duplicate_characters(string)\n",
    "print(duplicate_chars)"
   ]
  },
  {
   "cell_type": "markdown",
   "id": "c513dcd6",
   "metadata": {},
   "source": [
    "#### 7. Write a Python Program to check if a string contains any special character?"
   ]
  },
  {
   "cell_type": "code",
   "execution_count": 9,
   "id": "c2a31527",
   "metadata": {},
   "outputs": [
    {
     "name": "stdout",
     "output_type": "stream",
     "text": [
      "Enter the string: Hello, World!\n",
      "True\n"
     ]
    }
   ],
   "source": [
    "import re\n",
    "\n",
    "def contains_special_character(string):\n",
    "    regex = re.compile('[@_!#$%^&*()<>?/\\|}{~:]')\n",
    "    if regex.search(string) is None:\n",
    "        return False\n",
    "    return True\n",
    "\n",
    "string = input(\"Enter the string: \")\n",
    "has_special_char = contains_special_character(string)\n",
    "print(has_special_char)"
   ]
  }
 ],
 "metadata": {
  "kernelspec": {
   "display_name": "Python 3",
   "language": "python",
   "name": "python3"
  },
  "language_info": {
   "codemirror_mode": {
    "name": "ipython",
    "version": 3
   },
   "file_extension": ".py",
   "mimetype": "text/x-python",
   "name": "python",
   "nbconvert_exporter": "python",
   "pygments_lexer": "ipython3",
   "version": "3.8.8"
  }
 },
 "nbformat": 4,
 "nbformat_minor": 5
}
