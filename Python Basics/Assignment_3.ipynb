{
 "cells": [
  {
   "cell_type": "markdown",
   "id": "ada92f37",
   "metadata": {},
   "source": [
    "# Assignment 3"
   ]
  },
  {
   "cell_type": "markdown",
   "id": "c2800ef8",
   "metadata": {},
   "source": [
    "### 1. Why are functions advantageous to have in your programs?"
   ]
  },
  {
   "cell_type": "markdown",
   "id": "52465a0b",
   "metadata": {},
   "source": [
    "Reusability: Functions can be reused in different parts of the program, as well as in other programs. This reduces the amount of code that needs to be written and makes the code more modular."
   ]
  },
  {
   "cell_type": "markdown",
   "id": "a1282689",
   "metadata": {},
   "source": [
    "Organization: Functions help organize code by breaking it down into smaller, more manageable chunks. This makes it easier to read and understand, and also makes it easier to modify and maintain."
   ]
  },
  {
   "cell_type": "markdown",
   "id": "76e2ede0",
   "metadata": {},
   "source": [
    "Abstraction: Functions allow you to abstract away details of how something is done, and focus on what needs to be done. This makes the code more readable and easier to understand, especially for non-technical stakeholders."
   ]
  },
  {
   "cell_type": "markdown",
   "id": "9ab02220",
   "metadata": {},
   "source": [
    "Testing: Functions make it easier to test code by allowing you to isolate and test specific parts of the program. This makes it easier to identify and fix bugs, and also helps to ensure that changes to the code don't break other parts of the program."
   ]
  },
  {
   "cell_type": "markdown",
   "id": "48f0c814",
   "metadata": {},
   "source": [
    "Efficiency: Functions can improve the efficiency of a program by reducing redundancy and allowing you to reuse code that has already been written and tested."
   ]
  },
  {
   "cell_type": "markdown",
   "id": "6970fdd3",
   "metadata": {},
   "source": [
    "### 2. When does the code in a function run: when it&#39;s specified or when it&#39;s called?"
   ]
  },
  {
   "cell_type": "markdown",
   "id": "4c409ad1",
   "metadata": {},
   "source": [
    "The code in a function runs when the function is called. When a function is defined, it does not execute any of its code. Instead, it simply creates an object in memory that represents the function and its parameters. When the function is called with a set of arguments, the code inside the function is executed using those arguments."
   ]
  },
  {
   "cell_type": "markdown",
   "id": "ad878b38",
   "metadata": {},
   "source": [
    "### 3. What statement creates a function?"
   ]
  },
  {
   "cell_type": "markdown",
   "id": "17d9b2c5",
   "metadata": {},
   "source": [
    "The 'def' statement is used to define a new function. Example below:"
   ]
  },
  {
   "cell_type": "code",
   "execution_count": null,
   "id": "a6f93462",
   "metadata": {},
   "outputs": [],
   "source": [
    "def function_name(parameters):\n",
    "     #Function body: Code to be executed when the function is called\n",
    "    return value"
   ]
  },
  {
   "cell_type": "markdown",
   "id": "1699a728",
   "metadata": {},
   "source": [
    "### 4. What is the difference between a function and a function call?"
   ]
  },
  {
   "cell_type": "markdown",
   "id": "c2b4f1fe",
   "metadata": {},
   "source": [
    "Function is a defined set of instructions or code that performs a particular operation, while a function call is the actual use of that code to perform the operation."
   ]
  },
  {
   "cell_type": "markdown",
   "id": "c16abfc9",
   "metadata": {},
   "source": [
    "### 5. How many global scopes are there in a Python program? How many local scopes?"
   ]
  },
  {
   "cell_type": "markdown",
   "id": "415a9d95",
   "metadata": {},
   "source": [
    "There is only one global scope, which is the top-level scope. All the variables that are defined at the top level of a program or module are part of this global scope."
   ]
  },
  {
   "cell_type": "markdown",
   "id": "e1ed0a1f",
   "metadata": {},
   "source": [
    "Local scopes can be created within functions or classes. When a function is called, a new local scope is created for that function, which includes all the variables that are defined within the function. These local scopes are destroyed once the function returns or finishes execution."
   ]
  },
  {
   "cell_type": "markdown",
   "id": "cc10d6c6",
   "metadata": {},
   "source": [
    "### 6. What happens to variables in a local scope when the function call returns?"
   ]
  },
  {
   "cell_type": "markdown",
   "id": "d9b24312",
   "metadata": {},
   "source": [
    "When the function call returns, the local scope that was created for that function is destroyed, and all the variables defined within that local scope are lost."
   ]
  },
  {
   "cell_type": "markdown",
   "id": "6c122e42",
   "metadata": {},
   "source": [
    "### 7. What is the concept of a return value? Is it possible to have a return value in an expression?"
   ]
  },
  {
   "cell_type": "markdown",
   "id": "b97a9c9f",
   "metadata": {},
   "source": [
    "The concept of a return value is central to function. A return value is the value that a function returns to the calling code after it has finished executing.\n",
    "Yes, it is possible to have a return value in an expression. 'return' statement can be used as an expression to return a value."
   ]
  },
  {
   "cell_type": "markdown",
   "id": "643b2cb0",
   "metadata": {},
   "source": [
    "### 8. If a function does not have a return statement, what is the return value of a call to that function?"
   ]
  },
  {
   "cell_type": "markdown",
   "id": "11dfb995",
   "metadata": {},
   "source": [
    "'None' is the return value of a call to that function."
   ]
  },
  {
   "cell_type": "markdown",
   "id": "e250ce62",
   "metadata": {},
   "source": [
    "### 9. How do you make a function variable refer to the global variable?"
   ]
  },
  {
   "cell_type": "markdown",
   "id": "6791a23e",
   "metadata": {},
   "source": [
    "To make a function variable refer to a global variable, we can use the 'global' keyword inside the function to declare the variable as a global variable. Example:"
   ]
  },
  {
   "cell_type": "code",
   "execution_count": 3,
   "id": "a3208441",
   "metadata": {},
   "outputs": [
    {
     "name": "stdout",
     "output_type": "stream",
     "text": [
      "1\n"
     ]
    }
   ],
   "source": [
    "count = 0  \n",
    "\n",
    "def increment():\n",
    "    global count #Declared count as a global variable\n",
    "    count += 1\n",
    "increment()\n",
    "print(count)"
   ]
  },
  {
   "cell_type": "markdown",
   "id": "5e95d9ce",
   "metadata": {},
   "source": [
    "### 10. What is the data type of None?"
   ]
  },
  {
   "cell_type": "markdown",
   "id": "88ccf0ce",
   "metadata": {},
   "source": [
    "'None' is a special keyword that represents an absence of a value, and it is considered as a data type of its own i.e. 'NoneType'."
   ]
  },
  {
   "cell_type": "code",
   "execution_count": 4,
   "id": "dd397a36",
   "metadata": {},
   "outputs": [
    {
     "name": "stdout",
     "output_type": "stream",
     "text": [
      "<class 'NoneType'>\n"
     ]
    }
   ],
   "source": [
    "print(type(None))"
   ]
  },
  {
   "cell_type": "markdown",
   "id": "6acd0f08",
   "metadata": {},
   "source": [
    "### 11. What does the sentence import areallyourpetsnamederic do?"
   ]
  },
  {
   "cell_type": "markdown",
   "id": "1d51718b",
   "metadata": {},
   "source": [
    "'import' keyword is used to bring in functionality from external modules or packages. this will import the module or package named 'areallyourpetsnamederic'. if this package or module is installed."
   ]
  },
  {
   "cell_type": "markdown",
   "id": "25d6d163",
   "metadata": {},
   "source": [
    "### 12. If you had a bacon() feature in a spam module, what would you call it after importing spam?"
   ]
  },
  {
   "cell_type": "code",
   "execution_count": null,
   "id": "6e46fda1",
   "metadata": {},
   "outputs": [],
   "source": [
    "import spam\n",
    "\n",
    "spam.bacon()"
   ]
  },
  {
   "cell_type": "markdown",
   "id": "52736c68",
   "metadata": {},
   "source": [
    "### 13. What can you do to save a programme from crashing if it encounters an error?    "
   ]
  },
  {
   "cell_type": "markdown",
   "id": "f3516bad",
   "metadata": {},
   "source": [
    "We can save a programme from crashing if it encounters an error by Exception Handling, Input Validation or Logging."
   ]
  },
  {
   "cell_type": "markdown",
   "id": "88a67b5d",
   "metadata": {},
   "source": [
    "### 14. What is the purpose of the try clause? What is the purpose of the except clause?"
   ]
  },
  {
   "cell_type": "markdown",
   "id": "8a341695",
   "metadata": {},
   "source": [
    "The purpose of the try clause is to \"try\" to execute the code block enclosed within it and catch any exceptions that might occur."
   ]
  },
  {
   "cell_type": "markdown",
   "id": "aa219a66",
   "metadata": {},
   "source": [
    "The code in the except block is executed only if an exception occurs in the try block. The purpose of the except block is to handle the exception and prevent the program from crashing."
   ]
  }
 ],
 "metadata": {
  "kernelspec": {
   "display_name": "Python 3",
   "language": "python",
   "name": "python3"
  },
  "language_info": {
   "codemirror_mode": {
    "name": "ipython",
    "version": 3
   },
   "file_extension": ".py",
   "mimetype": "text/x-python",
   "name": "python",
   "nbconvert_exporter": "python",
   "pygments_lexer": "ipython3",
   "version": "3.8.8"
  }
 },
 "nbformat": 4,
 "nbformat_minor": 5
}
