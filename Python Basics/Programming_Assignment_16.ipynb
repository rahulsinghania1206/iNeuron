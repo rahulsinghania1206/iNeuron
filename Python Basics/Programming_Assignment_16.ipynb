{
 "cells": [
  {
   "cell_type": "markdown",
   "id": "464f3153",
   "metadata": {},
   "source": [
    "# Programming Assignment_16"
   ]
  },
  {
   "cell_type": "markdown",
   "id": "8f0db3ee",
   "metadata": {},
   "source": [
    "#### Question 1. Write a function that stutters a word as if someone is struggling to read it. The first two letters are repeated twice with an ellipsis ... and space after each, and then the word is pronounced with a question mark ?.\n",
    "Examples<br>\n",
    "stutter(&quot;incredible&quot;) ➞ &quot;in... in... incredible?&quot;<br>\n",
    "stutter(&quot;enthusiastic&quot;) ➞ &quot;en... en... enthusiastic?&quot;<br>\n",
    "stutter(&quot;outstanding&quot;) ➞ &quot;ou... ou... outstanding?&quot;\n",
    "\n",
    "Hint :- Assume all input is in lower case and at least two characters long."
   ]
  },
  {
   "cell_type": "code",
   "execution_count": 1,
   "id": "5ababf1a",
   "metadata": {},
   "outputs": [
    {
     "name": "stdout",
     "output_type": "stream",
     "text": [
      "in... in... incredible?\n",
      "en... en... enthusiastic?\n",
      "ou... ou... outstanding?\n"
     ]
    }
   ],
   "source": [
    "def stutter(word):\n",
    "    stuttered_word = word[:2] + \"... \" + word[:2] + \"... \" + word + \"?\"\n",
    "    return stuttered_word\n",
    "\n",
    "print(stutter(\"incredible\"))      \n",
    "print(stutter(\"enthusiastic\"))  \n",
    "print(stutter(\"outstanding\"))     "
   ]
  },
  {
   "cell_type": "markdown",
   "id": "13931722",
   "metadata": {},
   "source": [
    "#### Question 2.Create a function that takes an angle in radians and returns the corresponding angle in degrees rounded to one decimal place.\n",
    "Examples<br>\n",
    "radians_to_degrees(1) ➞ 57.3<br>\n",
    "radians_to_degrees(20) ➞ 1145.9<br>\n",
    "radians_to_degrees(50) ➞ 2864.8<br>"
   ]
  },
  {
   "cell_type": "code",
   "execution_count": 2,
   "id": "006d56cd",
   "metadata": {},
   "outputs": [
    {
     "name": "stdout",
     "output_type": "stream",
     "text": [
      "57.3\n",
      "1145.9\n",
      "2864.8\n"
     ]
    }
   ],
   "source": [
    "import math\n",
    "\n",
    "def radians_to_degrees(radians):\n",
    "    degrees = radians * (180 / math.pi)\n",
    "    return round(degrees, 1)\n",
    "\n",
    "print(radians_to_degrees(1))   \n",
    "print(radians_to_degrees(20)) \n",
    "print(radians_to_degrees(50)) "
   ]
  },
  {
   "cell_type": "markdown",
   "id": "4cc2a3f5",
   "metadata": {},
   "source": [
    "#### Question 3. In this challenge, establish if a given integer num is a Curzon number. If 1 plus 2 elevated to num is exactly divisible by 1 plus 2 multiplied by num, then num is a Curzon number.\n",
    "Given a non-negative integer num, implement a function that returns True if num is a Curzon number, or False otherwise.<br>\n",
    "**Examples**<br>\n",
    "is_curzon(5) ➞ True<br>\n",
    "#2 ** 5 + 1 = 33<br>\n",
    "#2 * 5 + 1 = 11<br>\n",
    "#33 is a multiple of 11\n",
    "\n",
    "is_curzon(10) ➞ False<br>\n",
    "#2 ** 10 + 1 = 1025<br>\n",
    "#2 * 10 + 1 = 21<br>\n",
    "#1025 is not a multiple of 21\n",
    "\n",
    "is_curzon(14) ➞ True<br>\n",
    "#2 ** 14 + 1 = 16385<br>\n",
    "#2 * 14 + 1 = 29<br>\n",
    "#16385 is a multiple of 29"
   ]
  },
  {
   "cell_type": "code",
   "execution_count": 3,
   "id": "93b8921c",
   "metadata": {},
   "outputs": [
    {
     "name": "stdout",
     "output_type": "stream",
     "text": [
      "True\n",
      "False\n",
      "True\n"
     ]
    }
   ],
   "source": [
    "def is_curzon(num):\n",
    "    numerator = 2 ** num + 1\n",
    "    denominator = 2 * num + 1\n",
    "    return numerator % denominator == 0\n",
    "\n",
    "print(is_curzon(5))  \n",
    "print(is_curzon(10))  \n",
    "print(is_curzon(14))"
   ]
  },
  {
   "cell_type": "markdown",
   "id": "b80f5a62",
   "metadata": {},
   "source": [
    "#### Question 4.Given the side length x find the area of a hexagon.\n",
    "Examples<br>\n",
    "area_of_hexagon(1) ➞ 2.6<br>\n",
    "area_of_hexagon(2) ➞ 10.4<br>\n",
    "area_of_hexagon(3) ➞ 23.4"
   ]
  },
  {
   "cell_type": "code",
   "execution_count": 4,
   "id": "91095824",
   "metadata": {},
   "outputs": [
    {
     "name": "stdout",
     "output_type": "stream",
     "text": [
      "2.6\n",
      "10.4\n",
      "23.4\n"
     ]
    }
   ],
   "source": [
    "import math\n",
    "\n",
    "def area_of_hexagon(x):\n",
    "    area = (3 * math.sqrt(3) * x**2) / 2\n",
    "    return round(area, 1)\n",
    "\n",
    "print(area_of_hexagon(1))   \n",
    "print(area_of_hexagon(2))  \n",
    "print(area_of_hexagon(3))  "
   ]
  },
  {
   "cell_type": "markdown",
   "id": "7bd5cfc9",
   "metadata": {},
   "source": [
    "#### Question 5. Create a function that returns a base-2 (binary) representation of a base-10 (decimal) string number. To convert is simple: ((2) means base-2 and (10) means base-10)\n",
    "010101001(2) = 1 + 8 + 32 + 128.\n",
    "\n",
    "Going from right to left, the value of the most right bit is 1, now from that every bit to the left will be x2 the value, value of an 8 bit binary numbers are (256, 128, 64, 32, 16, 8, 4, 2, 1).\n",
    "\n",
    "Examples<br>\n",
    "binary(1) ➞ &quot;1&quot;<br>\n",
    "#1*1 = 1\n",
    "\n",
    "binary(5) ➞ &quot;101&quot;<br>\n",
    "#1* 1 + 1*4 = 5\n",
    "\n",
    "binary(10) ➞ &quot;1010&quot;<br>\n",
    "#1* 2 + 1*8 = 10"
   ]
  },
  {
   "cell_type": "code",
   "execution_count": 5,
   "id": "2f70e007",
   "metadata": {},
   "outputs": [
    {
     "name": "stdout",
     "output_type": "stream",
     "text": [
      "1\n",
      "101\n",
      "1010\n"
     ]
    }
   ],
   "source": [
    "def binary(decimal):\n",
    "    if decimal == 0:\n",
    "        return \"0\"\n",
    "\n",
    "    binary_digits = []\n",
    "    while decimal > 0:\n",
    "        remainder = decimal % 2\n",
    "        binary_digits.append(str(remainder))\n",
    "        decimal //= 2\n",
    "\n",
    "    binary_digits.reverse()\n",
    "    binary_representation = \"\".join(binary_digits)\n",
    "    return binary_representation\n",
    "\n",
    "\n",
    "# Examples\n",
    "print(binary(1))  \n",
    "print(binary(5))   \n",
    "print(binary(10))  "
   ]
  }
 ],
 "metadata": {
  "kernelspec": {
   "display_name": "Python 3",
   "language": "python",
   "name": "python3"
  },
  "language_info": {
   "codemirror_mode": {
    "name": "ipython",
    "version": 3
   },
   "file_extension": ".py",
   "mimetype": "text/x-python",
   "name": "python",
   "nbconvert_exporter": "python",
   "pygments_lexer": "ipython3",
   "version": "3.8.8"
  }
 },
 "nbformat": 4,
 "nbformat_minor": 5
}
