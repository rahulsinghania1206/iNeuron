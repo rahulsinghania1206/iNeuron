{
 "cells": [
  {
   "cell_type": "markdown",
   "id": "cfa9a613",
   "metadata": {},
   "source": [
    "# Programming Assignment_23"
   ]
  },
  {
   "cell_type": "markdown",
   "id": "813d0b05",
   "metadata": {},
   "source": [
    "#### Question 1 Create a function that takes a number as an argument and returns True or False depending on whether the number is symmetrical or not. A number is symmetrical when it is the same as its reverse.\n",
    "\n",
    "**Examples**<br>\n",
    "is_symmetrical(7227) ➞ True<br>\n",
    "is_symmetrical(12567) ➞ False<br>\n",
    "is_symmetrical(44444444) ➞ True<br>\n",
    "is_symmetrical(9939) ➞ False<br>\n",
    "is_symmetrical(1112111) ➞ True"
   ]
  },
  {
   "cell_type": "code",
   "execution_count": 7,
   "id": "671819cc",
   "metadata": {},
   "outputs": [
    {
     "name": "stdout",
     "output_type": "stream",
     "text": [
      "True\n",
      "False\n",
      "True\n",
      "False\n",
      "True\n"
     ]
    }
   ],
   "source": [
    "def is_symmetrical(num):\n",
    "    num_str = str(num)\n",
    "    reversed_num_str = ''.join(reversed(num_str)) # another approch reversed_num_str = num_str[::-1]\n",
    "    return num_str == reversed_num_str\n",
    "\n",
    "print(is_symmetrical(7227))      \n",
    "print(is_symmetrical(12567))     \n",
    "print(is_symmetrical(44444444))  \n",
    "print(is_symmetrical(9939))      \n",
    "print(is_symmetrical(1112111))   "
   ]
  },
  {
   "cell_type": "markdown",
   "id": "730a4d46",
   "metadata": {},
   "source": [
    "#### Question 2 Given a string of numbers separated by a comma and space, return the product of the numbers.\n",
    "\n",
    "**Examples**<br>\n",
    "multiply_nums(&quot;2, 3&quot;) ➞ 6<br>\n",
    "multiply_nums(&quot;1, 2, 3, 4&quot;) ➞ 24<br>\n",
    "multiply_nums(&quot;54, 75, 453, 0&quot;) ➞ 0<br>\n",
    "multiply_nums(&quot;10, -2&quot;) ➞ -20"
   ]
  },
  {
   "cell_type": "code",
   "execution_count": 8,
   "id": "fed5d326",
   "metadata": {},
   "outputs": [
    {
     "name": "stdout",
     "output_type": "stream",
     "text": [
      "6\n",
      "24\n",
      "0\n",
      "-20\n"
     ]
    }
   ],
   "source": [
    "def multiply_nums(nums_str):\n",
    "    nums_list = nums_str.split(\", \")\n",
    "    product = 1\n",
    "    for num in nums_list:\n",
    "        product *= int(num)\n",
    "    return product\n",
    "\n",
    "print(multiply_nums(\"2, 3\"))             \n",
    "print(multiply_nums(\"1, 2, 3, 4\"))\n",
    "print(multiply_nums(\"54, 75, 453, 0\"))    \n",
    "print(multiply_nums(\"10, -2\"))            "
   ]
  },
  {
   "cell_type": "markdown",
   "id": "5eacaf35",
   "metadata": {},
   "source": [
    "#### Question 3 Create a function that squares every digit of a number.\n",
    "\n",
    "**Examples**<br>\n",
    "square_digits(9119) ➞ 811181<br>\n",
    "square_digits(2483) ➞ 416649<br>\n",
    "square_digits(3212) ➞ 9414\n",
    "\n",
    "**Notes**-The function receives an integer and must return an integer."
   ]
  },
  {
   "cell_type": "code",
   "execution_count": 9,
   "id": "87cf0b1d",
   "metadata": {},
   "outputs": [
    {
     "name": "stdout",
     "output_type": "stream",
     "text": [
      "811181\n",
      "416649\n",
      "9414\n"
     ]
    }
   ],
   "source": [
    "def square_digits(num):\n",
    "    result = \"\"\n",
    "    for digit in str(num):\n",
    "        squared_digit = int(digit) ** 2\n",
    "        result += str(squared_digit)\n",
    "    return int(result)\n",
    "\n",
    "print(square_digits(9119)) \n",
    "print(square_digits(2483))  \n",
    "print(square_digits(3212))  "
   ]
  },
  {
   "cell_type": "markdown",
   "id": "9e4f3fef",
   "metadata": {},
   "source": [
    "#### Question 4 Create a function that sorts a list and removes all duplicate items from it.\n",
    "\n",
    "**Examples**<br>\n",
    "setify([1, 3, 3, 5, 5]) ➞ [1, 3, 5]<br>\n",
    "setify([4, 4, 4, 4]) ➞ [4]<br>\n",
    "setify([5, 7, 8, 9, 10, 15]) ➞ [5, 7, 8, 9, 10, 15]<br>\n",
    "setify([3, 3, 3, 2, 1]) ➞ [1, 2, 3]"
   ]
  },
  {
   "cell_type": "code",
   "execution_count": 10,
   "id": "ba02a8ea",
   "metadata": {},
   "outputs": [
    {
     "name": "stdout",
     "output_type": "stream",
     "text": [
      "[1, 3, 5]\n",
      "[4]\n",
      "[5, 7, 8, 9, 10, 15]\n",
      "[1, 2, 3]\n"
     ]
    }
   ],
   "source": [
    "def setify(lst):\n",
    "    sorted_lst = sorted(lst)\n",
    "    result = []\n",
    "    for num in sorted_lst:\n",
    "        if num not in result:\n",
    "            result.append(num)\n",
    "    return result\n",
    "\n",
    "print(setify([1, 3, 3, 5, 5]))                 \n",
    "print(setify([4, 4, 4, 4]))                   \n",
    "print(setify([5, 7, 8, 9, 10, 15]))            \n",
    "print(setify([3, 3, 3, 2, 1]))                 "
   ]
  },
  {
   "cell_type": "markdown",
   "id": "3d6d518d",
   "metadata": {},
   "source": [
    "#### Question 5 Create a function that returns the mean of all digits.\n",
    "\n",
    "**Examples**<br>\n",
    "mean(42) ➞ 3<br>\n",
    "mean(12345) ➞ 3<br>\n",
    "mean(666) ➞ 6\n",
    "\n",
    "**Notes**<br>\n",
    " The mean of all digits is the sum of digits / how many digits there are (e.g. mean of digits in\n",
    "512 is (5+1+2)/3(number of digits) = 8/3=2).<br>\n",
    " The mean will always be an integer."
   ]
  },
  {
   "cell_type": "code",
   "execution_count": 11,
   "id": "083bc6b7",
   "metadata": {},
   "outputs": [
    {
     "name": "stdout",
     "output_type": "stream",
     "text": [
      "3\n",
      "3\n",
      "6\n"
     ]
    }
   ],
   "source": [
    "def mean(num):\n",
    "    digits = [int(digit) for digit in str(num)]\n",
    "    sum_of_digits = sum(digits)\n",
    "    num_of_digits = len(digits)\n",
    "    return sum_of_digits // num_of_digits\n",
    "\n",
    "print(mean(42))        \n",
    "print(mean(12345))      \n",
    "print(mean(666))        "
   ]
  }
 ],
 "metadata": {
  "kernelspec": {
   "display_name": "Python 3",
   "language": "python",
   "name": "python3"
  },
  "language_info": {
   "codemirror_mode": {
    "name": "ipython",
    "version": 3
   },
   "file_extension": ".py",
   "mimetype": "text/x-python",
   "name": "python",
   "nbconvert_exporter": "python",
   "pygments_lexer": "ipython3",
   "version": "3.8.8"
  }
 },
 "nbformat": 4,
 "nbformat_minor": 5
}
