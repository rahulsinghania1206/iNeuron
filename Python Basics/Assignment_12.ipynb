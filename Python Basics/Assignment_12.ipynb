{
 "cells": [
  {
   "cell_type": "markdown",
   "id": "1d3f4c2e",
   "metadata": {},
   "source": [
    "# Assignment 12"
   ]
  },
  {
   "cell_type": "markdown",
   "id": "0edf25d7",
   "metadata": {},
   "source": [
    "#### 1. In what modes should the PdfFileReader() and PdfFileWriter() File objects will be opened? "
   ]
  },
  {
   "cell_type": "markdown",
   "id": "8a69ec90",
   "metadata": {},
   "source": [
    "using the PdfFileReader() and PdfFileWriter() classes from the PyPDF2 library to read and write PDF files, respectively, we should open the file objects in binary mode ('rb' for reading and 'wb' for writing)."
   ]
  },
  {
   "cell_type": "code",
   "execution_count": null,
   "id": "2036723d",
   "metadata": {},
   "outputs": [],
   "source": [
    "with open('example.pdf', 'rb') as file:\n",
    "    pdf_reader = PdfFileReader(file)"
   ]
  },
  {
   "cell_type": "code",
   "execution_count": null,
   "id": "93757285",
   "metadata": {},
   "outputs": [],
   "source": [
    "with open('output.pdf', 'wb') as file:\n",
    "    pdf_writer = PdfFileWriter()"
   ]
  },
  {
   "cell_type": "markdown",
   "id": "052bba7f",
   "metadata": {},
   "source": [
    "#### 2. From a PdfFileReader object, how do you get a Page object for page 5?"
   ]
  },
  {
   "cell_type": "markdown",
   "id": "c51914ca",
   "metadata": {},
   "source": [
    "By using the getPage() method with an index that starts from 0."
   ]
  },
  {
   "cell_type": "code",
   "execution_count": null,
   "id": "c6d6df59",
   "metadata": {},
   "outputs": [],
   "source": [
    "from PyPDF2 import PdfFileReader\n",
    "\n",
    "# Open the PDF file in binary mode\n",
    "with open('example.pdf', 'rb') as file:\n",
    "    pdf_reader = PdfFileReader(file)\n",
    "    \n",
    "    # Get the Page object for page 5 (index 4)\n",
    "    page = pdf_reader.getPage(4)\n",
    "    \n",
    "    # Perform operations on the Page object\n",
    "    # For example, we can get the page's contents, extract text, etc.\n",
    "    page_contents = page.extractText()\n",
    "    \n",
    "    # Print the contents of the page\n",
    "    print(page_contents)"
   ]
  },
  {
   "cell_type": "markdown",
   "id": "2703d101",
   "metadata": {},
   "source": [
    "#### 3. What PdfFileReader variable stores the number of pages in the PDF document?"
   ]
  },
  {
   "cell_type": "markdown",
   "id": "e61d8ef9",
   "metadata": {},
   "source": [
    "The PdfFileReader class provides a variable called numPages that stores the number of pages in the PDF document. We can access this variable to retrieve the total number of pages in the PDF"
   ]
  },
  {
   "cell_type": "code",
   "execution_count": null,
   "id": "0cb11ffa",
   "metadata": {},
   "outputs": [],
   "source": [
    "from PyPDF2 import PdfFileReader\n",
    "\n",
    "# Open the PDF file in binary mode\n",
    "with open('example.pdf', 'rb') as file:\n",
    "    pdf_reader = PdfFileReader(file)\n",
    "    \n",
    "    # Get the number of pages in the PDF document\n",
    "    num_pages = pdf_reader.numPages\n",
    "    \n",
    "    # Print the number of pages\n",
    "    print(\"Number of Pages:\", num_pages)"
   ]
  },
  {
   "cell_type": "markdown",
   "id": "3625b34d",
   "metadata": {},
   "source": [
    "#### 4. If a PdfFileReader object’s PDF is encrypted with the password swordfish, what must you do before you can obtain Page objects from it?"
   ]
  },
  {
   "cell_type": "markdown",
   "id": "59b6e85c",
   "metadata": {},
   "source": [
    "We need to provide the password to the PdfFileReader object in Python using the **decrypt()** method before you can obtain Page objects from it."
   ]
  },
  {
   "cell_type": "code",
   "execution_count": null,
   "id": "f39ec3c2",
   "metadata": {},
   "outputs": [],
   "source": [
    "from PyPDF2 import PdfFileReader\n",
    "\n",
    "# Open the encrypted PDF file in binary mode\n",
    "with open('encrypted.pdf', 'rb') as file:\n",
    "    pdf_reader = PdfFileReader(file)\n",
    "    \n",
    "    # Check if the PDF is encrypted\n",
    "    if pdf_reader.isEncrypted:\n",
    "        # Decrypt the PDF using the password 'swordfish'\n",
    "        pdf_reader.decrypt('swordfish')\n",
    "    \n",
    "    # Get the number of pages in the PDF document\n",
    "    num_pages = pdf_reader.numPages\n",
    "    \n",
    "    # Perform operations on the PDF, such as obtaining Page objects\n",
    "    # For example, you can get the Page object for page 1\n",
    "    page = pdf_reader.getPage(0)"
   ]
  },
  {
   "cell_type": "markdown",
   "id": "ebf53837",
   "metadata": {},
   "source": [
    "#### 5. What methods do you use to rotate a page?"
   ]
  },
  {
   "cell_type": "markdown",
   "id": "9fea946d",
   "metadata": {},
   "source": [
    "We can use the **rotateClockwise()** and **rotateCounterClockwise()** methods of the Page object to rotate a page clockwise and counterclockwise, respectively. These methods allow us to specify the rotation angle in degrees."
   ]
  },
  {
   "cell_type": "markdown",
   "id": "f0505466",
   "metadata": {},
   "source": [
    "#### 6. What is the difference between a Run object and a Paragraph object?"
   ]
  },
  {
   "cell_type": "markdown",
   "id": "f509d5b4",
   "metadata": {},
   "source": [
    "Run object and a Paragraph object are both part of a Word document and represent different elements within the document.\n",
    "1. Run object: A Run object represents a contiguous run of text within a paragraph in a Word document. It is a portion of text with uniform formatting, such as font, size, style, color, and other attributes. A Run object can contain plain text, as well as formatted text, such as bold, italic, underline, and more. Multiple Runs can be used within a single Paragraph to represent text with different formatting within the same paragraph.\n",
    "\n",
    "2. Paragraph object: A Paragraph object represents a paragraph of text within a Word document. It is a block of text that ends with a paragraph mark and may contain one or more Run objects. A Paragraph object can have its own formatting, such as alignment, indentation, spacing, and more. It is used to define the structure and formatting of a block of text within a Word document."
   ]
  },
  {
   "cell_type": "markdown",
   "id": "1d7b329f",
   "metadata": {},
   "source": [
    "#### 7. How do you obtain a list of Paragraph objects for a Document object that’s stored in a variable named doc?"
   ]
  },
  {
   "cell_type": "markdown",
   "id": "2d7ffa35",
   "metadata": {},
   "source": [
    "We can obtain a list of Paragraph objects from a Document object that is stored in a variable named doc by calling the paragraphs attribute on the Document object. The paragraphs attribute returns a list of all the Paragraph objects in the document."
   ]
  },
  {
   "cell_type": "code",
   "execution_count": null,
   "id": "1670c5c0",
   "metadata": {},
   "outputs": [],
   "source": [
    "from docx import Document\n",
    "\n",
    "# Load the Word document\n",
    "doc = Document('example.docx')\n",
    "\n",
    "# Get a list of Paragraph objects from the Document object\n",
    "paragraphs = doc.paragraphs\n",
    "\n",
    "# Loop through the list of Paragraph objects and perform operations\n",
    "for paragraph in paragraphs:\n",
    "    # Access and modify properties of the Paragraph objects\n",
    "    print(paragraph.text)  # Print the text of the paragraph\n",
    "    paragraph.add_run('New Text')  # Add new text to the paragraph\n",
    "    paragraph.bold = True  # Set the paragraph text to bold"
   ]
  },
  {
   "cell_type": "markdown",
   "id": "28cf4901",
   "metadata": {},
   "source": [
    "#### 8. What type of object has bold, underline, italic, strike, and outline variables?"
   ]
  },
  {
   "cell_type": "markdown",
   "id": "06fa09cf",
   "metadata": {},
   "source": [
    "The bold, underline, italic, strike, and outline variables are attributes that can be found in the Run object of the python-docx library."
   ]
  },
  {
   "cell_type": "markdown",
   "id": "b9bdf354",
   "metadata": {},
   "source": [
    "#### 9. What is the difference between False, True, and None for the bold variable?"
   ]
  },
  {
   "cell_type": "markdown",
   "id": "08be12d1",
   "metadata": {},
   "source": [
    "The bold variable in the python-docx library, False, True, and None represent different settings for the bold attribute of a Run object, which is used to apply or remove bold formatting to text in a Word document.\n",
    "1. False: When the bold attribute of a Run object is set to False, it means that the text within the Run object will not be bold. This is the default setting for the bold attribute.\n",
    "\n",
    "2. True: When the bold attribute of a Run object is set to True, it means that the text within the Run object will be displayed in bold formatting. This will make the text appear with a thicker and darker font weight.\n",
    "\n",
    "3. None: When the bold attribute of a Run object is set to None, it means that the text within the Run object will inherit the bold formatting from the paragraph or style applied to the Run object's parent element, such as a Paragraph or Document object. If no bold formatting is applied to the parent element, the text within the Run object will not be bold."
   ]
  },
  {
   "cell_type": "markdown",
   "id": "5e17605a",
   "metadata": {},
   "source": [
    "#### 10. How do you create a Document object for a new Word document?"
   ]
  },
  {
   "cell_type": "code",
   "execution_count": null,
   "id": "faf771fa",
   "metadata": {},
   "outputs": [],
   "source": [
    "from docx import Document\n",
    "\n",
    "# Create a new Document object\n",
    "doc = Document()\n",
    "\n",
    "# Add content to the document\n",
    "doc.add_paragraph('Hello, World!')  # Add a paragraph with text\n",
    "\n",
    "# Save the document\n",
    "doc.save('example.docx')"
   ]
  },
  {
   "cell_type": "markdown",
   "id": "231532dc",
   "metadata": {},
   "source": [
    "#### 11. How do you add a paragraph with the text &#39;Hello, there!&#39; to a Document object stored in a variable named doc?"
   ]
  },
  {
   "cell_type": "code",
   "execution_count": null,
   "id": "9dd227bb",
   "metadata": {},
   "outputs": [],
   "source": [
    "from docx import Document\n",
    "\n",
    "# Create a Document object\n",
    "doc = Document()\n",
    "\n",
    "# Add a paragraph to the document with text 'Hello, there!'\n",
    "doc.add_paragraph('Hello, there!')\n",
    "\n",
    "# Save the document\n",
    "doc.save('example.docx')"
   ]
  },
  {
   "cell_type": "markdown",
   "id": "ac4f9f76",
   "metadata": {},
   "source": [
    "#### 12. What integers represent the levels of headings available in Word documents?"
   ]
  },
  {
   "cell_type": "markdown",
   "id": "6e16fe60",
   "metadata": {},
   "source": [
    "In Word documents, heading styles are typically used to apply formatting to different levels of headings, such as chapter titles, section headings, and subsection headings. Heading styles are assigned numeric levels, where lower numbers represent higher levels of headings. Word documents can have up to nine levels of headings, from Heading 1 to Heading 9."
   ]
  }
 ],
 "metadata": {
  "kernelspec": {
   "display_name": "Python 3",
   "language": "python",
   "name": "python3"
  },
  "language_info": {
   "codemirror_mode": {
    "name": "ipython",
    "version": 3
   },
   "file_extension": ".py",
   "mimetype": "text/x-python",
   "name": "python",
   "nbconvert_exporter": "python",
   "pygments_lexer": "ipython3",
   "version": "3.8.8"
  }
 },
 "nbformat": 4,
 "nbformat_minor": 5
}
