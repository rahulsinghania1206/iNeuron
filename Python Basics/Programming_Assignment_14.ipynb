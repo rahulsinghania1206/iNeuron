{
 "cells": [
  {
   "cell_type": "markdown",
   "id": "c777b1fc",
   "metadata": {},
   "source": [
    "# Programming Assignment_14"
   ]
  },
  {
   "cell_type": "markdown",
   "id": "9193675c",
   "metadata": {},
   "source": [
    "#### Question 1: Define a class with a generator which can iterate the numbers, which are divisible by 7, between a given range 0 and n."
   ]
  },
  {
   "cell_type": "code",
   "execution_count": 1,
   "id": "c57ee3da",
   "metadata": {},
   "outputs": [
    {
     "name": "stdout",
     "output_type": "stream",
     "text": [
      "Enter the range for number divisible by 7 starts from 0 ends at: 50\n",
      "0\n",
      "7\n",
      "14\n",
      "21\n",
      "28\n",
      "35\n",
      "42\n",
      "49\n"
     ]
    }
   ],
   "source": [
    "class DivisibleBySevenGenerator:\n",
    "    def __init__(self, n):\n",
    "        self.n = n\n",
    "    \n",
    "    def generate_divisible_by_seven(self):\n",
    "        for num in range(self.n + 1):\n",
    "            if num % 7 == 0:\n",
    "                yield num\n",
    "\n",
    "n = int(input(\"Enter the range for number divisible by 7 starts from 0 ends at: \"))\n",
    "generator = DivisibleBySevenGenerator(n)\n",
    "for number in generator.generate_divisible_by_seven():\n",
    "    print(number)"
   ]
  },
  {
   "cell_type": "markdown",
   "id": "79100385",
   "metadata": {},
   "source": [
    "#### Question 2: Write a program to compute the frequency of the words from the input. The output should output after sorting the key alphanumerically.\n",
    "Suppose the following input is supplied to the program:<br>\n",
    "New to Python or choosing between Python 2 and Python 3? Read Python 2 or Python 3.\n",
    "\n",
    "Then, the output should be:<br>\n",
    "2:2<br>\n",
    "3.:1<br>\n",
    "3?:1<br>\n",
    "New:1<br>\n",
    "Python:5<br>\n",
    "Read:1<br>\n",
    "and:1<br>\n",
    "between:1<br>\n",
    "choosing:1<br>\n",
    "or:2<br>\n",
    "to:1"
   ]
  },
  {
   "cell_type": "code",
   "execution_count": 2,
   "id": "96752b3c",
   "metadata": {},
   "outputs": [
    {
     "name": "stdout",
     "output_type": "stream",
     "text": [
      "2:2\n",
      "3.:1\n",
      "3?:1\n",
      "New:1\n",
      "Python:5\n",
      "Read:1\n",
      "and:1\n",
      "between:1\n",
      "choosing:1\n",
      "or:2\n",
      "to:1\n"
     ]
    }
   ],
   "source": [
    "def compute_word_frequency(text):    \n",
    "    words = text.split() # Split the input text into words\n",
    "    frequency = {}\n",
    "\n",
    "    # Count the frequency of each word\n",
    "    for word in words:\n",
    "        if word in frequency:\n",
    "            frequency[word] += 1\n",
    "        else:\n",
    "            frequency[word] = 1\n",
    "\n",
    "    # Sort the words alphabetically\n",
    "    sorted_words = sorted(frequency.keys())\n",
    "\n",
    "    # Print the word frequencies\n",
    "    for word in sorted_words:\n",
    "        print(f\"{word}:{frequency[word]}\")\n",
    "\n",
    "# Test the program with the given input\n",
    "input_text = \"New to Python or choosing between Python 2 and Python 3? Read Python 2 or Python 3.\"\n",
    "compute_word_frequency(input_text)"
   ]
  },
  {
   "cell_type": "markdown",
   "id": "ab6ee4b0",
   "metadata": {},
   "source": [
    "#### Question 3: Define a class Person and its two child classes: Male and Female. All classes have a method &quot;getGender&quot; which can print &quot;Male&quot; for Male class and &quot;Female&quot; for Female class."
   ]
  },
  {
   "cell_type": "code",
   "execution_count": 3,
   "id": "338c1a06",
   "metadata": {},
   "outputs": [
    {
     "name": "stdout",
     "output_type": "stream",
     "text": [
      "Male\n",
      "Female\n"
     ]
    }
   ],
   "source": [
    "class Person:\n",
    "    def getGender(self):\n",
    "        pass\n",
    "\n",
    "class Male(Person):\n",
    "    def getGender(self):\n",
    "        print(\"Male\")\n",
    "\n",
    "class Female(Person):\n",
    "    def getGender(self):\n",
    "        print(\"Female\")\n",
    "\n",
    "male = Male()\n",
    "female = Female()\n",
    "\n",
    "male.getGender()\n",
    "female.getGender()"
   ]
  },
  {
   "cell_type": "markdown",
   "id": "e0c374aa",
   "metadata": {},
   "source": [
    "#### Question 4: Please write a program to generate all sentences where subject is in [&quot;I&quot;, &quot;You&quot;] and verb is in [&quot;Play&quot;, &quot;Love&quot;] and the object is in [&quot;Hockey&quot;,&quot;Football&quot;]."
   ]
  },
  {
   "cell_type": "code",
   "execution_count": 4,
   "id": "bfae8468",
   "metadata": {},
   "outputs": [
    {
     "name": "stdout",
     "output_type": "stream",
     "text": [
      "I Play Hockey.\n",
      "I Play Football.\n",
      "I Love Hockey.\n",
      "I Love Football.\n",
      "You Play Hockey.\n",
      "You Play Football.\n",
      "You Love Hockey.\n",
      "You Love Football.\n"
     ]
    }
   ],
   "source": [
    "subjects = [\"I\", \"You\"]\n",
    "verbs = [\"Play\", \"Love\"]\n",
    "objects = [\"Hockey\", \"Football\"]\n",
    "\n",
    "for subject in subjects:\n",
    "    for verb in verbs:\n",
    "        for obj in objects:\n",
    "            sentence = f\"{subject} {verb} {obj}.\"\n",
    "            print(sentence)"
   ]
  },
  {
   "cell_type": "markdown",
   "id": "5c9409cd",
   "metadata": {},
   "source": [
    "#### Question 5: Please write a program to compress and decompress the string &quot;hello world!hello world!hello world!hello world!&quot;."
   ]
  },
  {
   "cell_type": "code",
   "execution_count": 6,
   "id": "5d0e485a",
   "metadata": {},
   "outputs": [
    {
     "name": "stdout",
     "output_type": "stream",
     "text": [
      "Original string: hello world!hello world!hello world!hello world!\n",
      "Compressed data: b'\\x1f\\x8b\\x08\\x00C|dd\\x02\\xff\\xcbH\\xcd\\xc9\\xc9W(\\xcf/\\xcaIQ\\xcc \\x82\\r\\x00\\xd3\\xe6\\xcf\\xae0\\x00\\x00\\x00'\n",
      "Decompressed string: hello world!hello world!hello world!hello world!\n"
     ]
    }
   ],
   "source": [
    "import gzip\n",
    "\n",
    "def compress_string(string):\n",
    "    # Encode the string as bytes\n",
    "    encoded_data = string.encode('utf-8')\n",
    "\n",
    "    # Compress the encoded data\n",
    "    compressed_data = gzip.compress(encoded_data)\n",
    "\n",
    "    # Return the compressed data as bytes\n",
    "    return compressed_data\n",
    "\n",
    "def decompress_string(compressed_data):\n",
    "    # Decompress the compressed data\n",
    "    decompressed_bytes = gzip.decompress(compressed_data)\n",
    "\n",
    "    # Decode the decompressed bytes as a string\n",
    "    decompressed_string = decompressed_bytes.decode('utf-8')\n",
    "\n",
    "    # Return the decompressed string\n",
    "    return decompressed_string\n",
    "\n",
    "original_string = \"hello world!hello world!hello world!hello world!\"\n",
    "compressed_data = compress_string(original_string)\n",
    "decompressed_string = decompress_string(compressed_data)\n",
    "\n",
    "print(\"Original string:\", original_string)\n",
    "print(\"Compressed data:\", compressed_data)\n",
    "print(\"Decompressed string:\", decompressed_string)"
   ]
  },
  {
   "cell_type": "markdown",
   "id": "c071f268",
   "metadata": {},
   "source": [
    "#### Question 6: Please write a binary search function which searches an item in a sorted list. The function should return the index of element to be searched in the list."
   ]
  },
  {
   "cell_type": "code",
   "execution_count": 7,
   "id": "139b039d",
   "metadata": {},
   "outputs": [
    {
     "name": "stdout",
     "output_type": "stream",
     "text": [
      "Index of 16: 4\n"
     ]
    }
   ],
   "source": [
    "def binary_search(arr, target):\n",
    "    low = 0\n",
    "    high = len(arr) - 1\n",
    "\n",
    "    while low <= high:\n",
    "        mid = (low + high) // 2\n",
    "        if arr[mid] == target:\n",
    "            return mid\n",
    "        elif arr[mid] < target:\n",
    "            low = mid + 1\n",
    "        else:\n",
    "            high = mid - 1\n",
    "\n",
    "    # If the target is not found, return -1\n",
    "    return -1\n",
    "\n",
    "sorted_list = [2, 5, 8, 12, 16, 23, 38, 56, 72, 91]\n",
    "target = 16\n",
    "\n",
    "index = binary_search(sorted_list, target)\n",
    "print(f\"Index of {target}: {index}\")"
   ]
  }
 ],
 "metadata": {
  "kernelspec": {
   "display_name": "Python 3",
   "language": "python",
   "name": "python3"
  },
  "language_info": {
   "codemirror_mode": {
    "name": "ipython",
    "version": 3
   },
   "file_extension": ".py",
   "mimetype": "text/x-python",
   "name": "python",
   "nbconvert_exporter": "python",
   "pygments_lexer": "ipython3",
   "version": "3.8.8"
  }
 },
 "nbformat": 4,
 "nbformat_minor": 5
}
