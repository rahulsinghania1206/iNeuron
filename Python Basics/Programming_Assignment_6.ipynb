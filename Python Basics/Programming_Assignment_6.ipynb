{
 "cells": [
  {
   "cell_type": "markdown",
   "id": "06105fdf",
   "metadata": {},
   "source": [
    "# Programming Assignment_6"
   ]
  },
  {
   "cell_type": "markdown",
   "id": "b3ee95e2",
   "metadata": {},
   "source": [
    "#### 1. Write a Python Program to Display Fibonacci Sequence Using Recursion?"
   ]
  },
  {
   "cell_type": "code",
   "execution_count": 1,
   "id": "6f75acd0",
   "metadata": {},
   "outputs": [
    {
     "name": "stdout",
     "output_type": "stream",
     "text": [
      "Enter the number of terms: 10\n",
      "Fibonacci sequence:\n",
      "0\n",
      "1\n",
      "1\n",
      "2\n",
      "3\n",
      "5\n",
      "8\n",
      "13\n",
      "21\n",
      "34\n"
     ]
    }
   ],
   "source": [
    "def fibonacci(n):\n",
    "    if n <= 1:\n",
    "        return n\n",
    "    else:\n",
    "        return fibonacci(n-1) + fibonacci(n-2)\n",
    "\n",
    "nterms = int(input(\"Enter the number of terms: \"))\n",
    "\n",
    "if nterms <= 0:\n",
    "    print(\"Please enter a positive integer.\")\n",
    "else:\n",
    "    print(\"Fibonacci sequence:\")\n",
    "    for i in range(nterms):\n",
    "        print(fibonacci(i))"
   ]
  },
  {
   "cell_type": "markdown",
   "id": "1e07e976",
   "metadata": {},
   "source": [
    "#### 2. Write a Python Program to Find Factorial of Number Using Recursion?"
   ]
  },
  {
   "cell_type": "code",
   "execution_count": 2,
   "id": "996f3d66",
   "metadata": {},
   "outputs": [
    {
     "name": "stdout",
     "output_type": "stream",
     "text": [
      "Enter a positive integer: 10\n",
      "The factorial of 10 is 3628800.\n"
     ]
    }
   ],
   "source": [
    "def factorial(n):\n",
    "    if n == 0:\n",
    "        return 1\n",
    "    else:\n",
    "        return n * factorial(n - 1)\n",
    "\n",
    "num = int(input(\"Enter a positive integer: \"))\n",
    "\n",
    "if num < 0:\n",
    "    print(\"Factorial cannot be found for negative numbers.\")\n",
    "elif num == 0:\n",
    "    print(\"The factorial of 0 is 1.\")\n",
    "else:\n",
    "    print(f\"The factorial of {num} is {factorial(num)}.\")"
   ]
  },
  {
   "cell_type": "markdown",
   "id": "9d6e864a",
   "metadata": {},
   "source": [
    "#### 3. Write a Python Program to calculate your Body Mass Index?"
   ]
  },
  {
   "cell_type": "code",
   "execution_count": 3,
   "id": "d8cf3a04",
   "metadata": {},
   "outputs": [
    {
     "name": "stdout",
     "output_type": "stream",
     "text": [
      "Enter your height in meters: 1.71\n",
      "Enter your weight in kilograms: 71\n",
      "Your BMI is: 24.28\n"
     ]
    }
   ],
   "source": [
    "height = float(input(\"Enter your height in meters: \"))\n",
    "weight = float(input(\"Enter your weight in kilograms: \"))\n",
    "\n",
    "bmi = weight / (height ** 2)\n",
    "\n",
    "print(f\"Your BMI is: {bmi:.2f}\")"
   ]
  },
  {
   "cell_type": "markdown",
   "id": "9ad7ae71",
   "metadata": {},
   "source": [
    "#### 4. Write a Python Program to calculate the natural logarithm of any number?"
   ]
  },
  {
   "cell_type": "code",
   "execution_count": 5,
   "id": "dc87717c",
   "metadata": {},
   "outputs": [
    {
     "name": "stdout",
     "output_type": "stream",
     "text": [
      "Enter a number: 100\n",
      "The natural logarithm of 100.0 is 4.61\n"
     ]
    }
   ],
   "source": [
    "import math\n",
    "\n",
    "num = float(input(\"Enter a number: \"))\n",
    "\n",
    "log_value = math.log(num)\n",
    "\n",
    "print(f\"The natural logarithm of {num} is {log_value:.2f}\")"
   ]
  },
  {
   "cell_type": "markdown",
   "id": "85882b4c",
   "metadata": {},
   "source": [
    "#### 5. Write a Python Program for cube sum of first n natural numbers?"
   ]
  },
  {
   "cell_type": "code",
   "execution_count": 6,
   "id": "602da2ff",
   "metadata": {},
   "outputs": [
    {
     "name": "stdout",
     "output_type": "stream",
     "text": [
      "Enter the value of n: 5\n",
      "The cube sum of first 5 natural numbers is: 225\n"
     ]
    }
   ],
   "source": [
    "def cube_sum(n):\n",
    "    sum = 0\n",
    "    for i in range(1, n+1):\n",
    "        sum += i ** 3\n",
    "    return sum\n",
    "\n",
    "n = int(input(\"Enter the value of n: \"))\n",
    "result = cube_sum(n)\n",
    "print(f\"The cube sum of first {n} natural numbers is: {result}\")"
   ]
  }
 ],
 "metadata": {
  "kernelspec": {
   "display_name": "Python 3",
   "language": "python",
   "name": "python3"
  },
  "language_info": {
   "codemirror_mode": {
    "name": "ipython",
    "version": 3
   },
   "file_extension": ".py",
   "mimetype": "text/x-python",
   "name": "python",
   "nbconvert_exporter": "python",
   "pygments_lexer": "ipython3",
   "version": "3.8.8"
  }
 },
 "nbformat": 4,
 "nbformat_minor": 5
}
