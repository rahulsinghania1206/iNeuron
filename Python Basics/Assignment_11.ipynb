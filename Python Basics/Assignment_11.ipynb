{
 "cells": [
  {
   "cell_type": "markdown",
   "id": "b6255a44",
   "metadata": {},
   "source": [
    "# Assignment 11"
   ]
  },
  {
   "cell_type": "markdown",
   "id": "1922c216",
   "metadata": {},
   "source": [
    "#### 1. Create an assert statement that throws an AssertionError if the variable spam is a negative integer."
   ]
  },
  {
   "cell_type": "code",
   "execution_count": 3,
   "id": "3f9b8ce9",
   "metadata": {},
   "outputs": [
    {
     "ename": "AssertionError",
     "evalue": "spam must be a non-negative integer",
     "output_type": "error",
     "traceback": [
      "\u001b[1;31m---------------------------------------------------------------------------\u001b[0m",
      "\u001b[1;31mAssertionError\u001b[0m                            Traceback (most recent call last)",
      "\u001b[1;32m<ipython-input-3-c2d1a4ca7e77>\u001b[0m in \u001b[0;36m<module>\u001b[1;34m\u001b[0m\n\u001b[0;32m      1\u001b[0m \u001b[0mspam\u001b[0m \u001b[1;33m=\u001b[0m \u001b[1;33m-\u001b[0m\u001b[1;36m5\u001b[0m\u001b[1;33m\u001b[0m\u001b[1;33m\u001b[0m\u001b[0m\n\u001b[0;32m      2\u001b[0m \u001b[1;33m\u001b[0m\u001b[0m\n\u001b[1;32m----> 3\u001b[1;33m \u001b[1;32massert\u001b[0m \u001b[0mspam\u001b[0m \u001b[1;33m>=\u001b[0m \u001b[1;36m0\u001b[0m\u001b[1;33m,\u001b[0m \u001b[1;34m\"spam must be a non-negative integer\"\u001b[0m  \u001b[1;31m# assert statement\u001b[0m\u001b[1;33m\u001b[0m\u001b[1;33m\u001b[0m\u001b[0m\n\u001b[0m",
      "\u001b[1;31mAssertionError\u001b[0m: spam must be a non-negative integer"
     ]
    }
   ],
   "source": [
    "spam = -5\n",
    "\n",
    "assert spam >= 0, \"spam must be a non-negative integer\"  # assert statement"
   ]
  },
  {
   "cell_type": "markdown",
   "id": "ab94d0df",
   "metadata": {},
   "source": [
    "The assert statement checks if the value of the \"spam\" variable is greater than or equal to 0. If \"spam\" is a negative integer, the assert statement will fail and raise an AssertionError"
   ]
  },
  {
   "cell_type": "markdown",
   "id": "8ae0220f",
   "metadata": {},
   "source": [
    "#### 2. Write an assert statement that triggers an AssertionError if the variables eggs and bacon contain strings that are the same as each other, even if their cases are different (that is, &#39;hello&#39; and &#39;hello&#39; are considered the same, and &#39;goodbye&#39; and &#39;GOODbye&#39; are also considered the same)."
   ]
  },
  {
   "cell_type": "code",
   "execution_count": 6,
   "id": "0418aa12",
   "metadata": {},
   "outputs": [
    {
     "ename": "AssertionError",
     "evalue": "eggs and bacon must not be the same (case-insensitive)",
     "output_type": "error",
     "traceback": [
      "\u001b[1;31m---------------------------------------------------------------------------\u001b[0m",
      "\u001b[1;31mAssertionError\u001b[0m                            Traceback (most recent call last)",
      "\u001b[1;32m<ipython-input-6-17edff154711>\u001b[0m in \u001b[0;36m<module>\u001b[1;34m\u001b[0m\n\u001b[0;32m      2\u001b[0m \u001b[0mbacon\u001b[0m \u001b[1;33m=\u001b[0m \u001b[1;34m\"hello\"\u001b[0m\u001b[1;33m\u001b[0m\u001b[1;33m\u001b[0m\u001b[0m\n\u001b[0;32m      3\u001b[0m \u001b[1;33m\u001b[0m\u001b[0m\n\u001b[1;32m----> 4\u001b[1;33m \u001b[1;32massert\u001b[0m \u001b[0meggs\u001b[0m\u001b[1;33m.\u001b[0m\u001b[0mlower\u001b[0m\u001b[1;33m(\u001b[0m\u001b[1;33m)\u001b[0m \u001b[1;33m!=\u001b[0m \u001b[0mbacon\u001b[0m\u001b[1;33m.\u001b[0m\u001b[0mlower\u001b[0m\u001b[1;33m(\u001b[0m\u001b[1;33m)\u001b[0m\u001b[1;33m,\u001b[0m \u001b[1;34m\"eggs and bacon must not be the same (case-insensitive)\"\u001b[0m  \u001b[1;31m# assert statement\u001b[0m\u001b[1;33m\u001b[0m\u001b[1;33m\u001b[0m\u001b[0m\n\u001b[0m",
      "\u001b[1;31mAssertionError\u001b[0m: eggs and bacon must not be the same (case-insensitive)"
     ]
    }
   ],
   "source": [
    "eggs = \"Hello\" \n",
    "bacon = \"hello\" \n",
    "\n",
    "assert eggs.lower() != bacon.lower(), \"eggs and bacon must not be the same (case-insensitive)\"  # assert statement\n"
   ]
  },
  {
   "cell_type": "code",
   "execution_count": 7,
   "id": "32f9fa7e",
   "metadata": {},
   "outputs": [
    {
     "ename": "AssertionError",
     "evalue": "eggs and bacon must not be the same (case-insensitive)",
     "output_type": "error",
     "traceback": [
      "\u001b[1;31m---------------------------------------------------------------------------\u001b[0m",
      "\u001b[1;31mAssertionError\u001b[0m                            Traceback (most recent call last)",
      "\u001b[1;32m<ipython-input-7-cc03a8fc9c91>\u001b[0m in \u001b[0;36m<module>\u001b[1;34m\u001b[0m\n\u001b[0;32m      2\u001b[0m \u001b[0mbacon\u001b[0m \u001b[1;33m=\u001b[0m \u001b[1;34m\"GOODbye\"\u001b[0m\u001b[1;33m\u001b[0m\u001b[1;33m\u001b[0m\u001b[0m\n\u001b[0;32m      3\u001b[0m \u001b[1;33m\u001b[0m\u001b[0m\n\u001b[1;32m----> 4\u001b[1;33m \u001b[1;32massert\u001b[0m \u001b[0meggs\u001b[0m\u001b[1;33m.\u001b[0m\u001b[0mlower\u001b[0m\u001b[1;33m(\u001b[0m\u001b[1;33m)\u001b[0m \u001b[1;33m!=\u001b[0m \u001b[0mbacon\u001b[0m\u001b[1;33m.\u001b[0m\u001b[0mlower\u001b[0m\u001b[1;33m(\u001b[0m\u001b[1;33m)\u001b[0m\u001b[1;33m,\u001b[0m \u001b[1;34m\"eggs and bacon must not be the same (case-insensitive)\"\u001b[0m  \u001b[1;31m# assert statement\u001b[0m\u001b[1;33m\u001b[0m\u001b[1;33m\u001b[0m\u001b[0m\n\u001b[0m",
      "\u001b[1;31mAssertionError\u001b[0m: eggs and bacon must not be the same (case-insensitive)"
     ]
    }
   ],
   "source": [
    "eggs = \"goodbye\" \n",
    "bacon = \"GOODbye\" \n",
    "\n",
    "assert eggs.lower() != bacon.lower(), \"eggs and bacon must not be the same (case-insensitive)\"  # assert statement\n"
   ]
  },
  {
   "cell_type": "markdown",
   "id": "c0069c62",
   "metadata": {},
   "source": [
    "#### 3. Create an assert statement that throws an AssertionError every time. "
   ]
  },
  {
   "cell_type": "code",
   "execution_count": 8,
   "id": "e77a2b11",
   "metadata": {},
   "outputs": [
    {
     "ename": "AssertionError",
     "evalue": "This assert statement always raises an error",
     "output_type": "error",
     "traceback": [
      "\u001b[1;31m---------------------------------------------------------------------------\u001b[0m",
      "\u001b[1;31mAssertionError\u001b[0m                            Traceback (most recent call last)",
      "\u001b[1;32m<ipython-input-8-4c5270727bc7>\u001b[0m in \u001b[0;36m<module>\u001b[1;34m\u001b[0m\n\u001b[1;32m----> 1\u001b[1;33m \u001b[1;32massert\u001b[0m \u001b[1;32mFalse\u001b[0m\u001b[1;33m,\u001b[0m \u001b[1;34m\"This assert statement always raises an error\"\u001b[0m\u001b[1;33m\u001b[0m\u001b[1;33m\u001b[0m\u001b[0m\n\u001b[0m",
      "\u001b[1;31mAssertionError\u001b[0m: This assert statement always raises an error"
     ]
    }
   ],
   "source": [
    "assert False, \"This assert statement always raises an error\""
   ]
  },
  {
   "cell_type": "markdown",
   "id": "ead80efa",
   "metadata": {},
   "source": [
    "Condition in the assert statement is set to False, which means it will always evaluate to False and trigger an AssertionError"
   ]
  },
  {
   "cell_type": "markdown",
   "id": "ffef1aee",
   "metadata": {},
   "source": [
    "#### 4. What are the two lines that must be present in your software in order to call logging.debug()?"
   ]
  },
  {
   "cell_type": "code",
   "execution_count": 10,
   "id": "67e42b45",
   "metadata": {},
   "outputs": [
    {
     "name": "stderr",
     "output_type": "stream",
     "text": [
      "DEBUG:root:This is a debug-level log message\n"
     ]
    }
   ],
   "source": [
    "import logging # 1st line-import\n",
    "\n",
    "logging.basicConfig(level=logging.DEBUG) #2nd line-Configure the logging module\n",
    "\n",
    "# Now we can call logging.debug() to log debug-level messages\n",
    "logging.debug(\"This is a debug-level log message\")"
   ]
  },
  {
   "cell_type": "markdown",
   "id": "fb922359",
   "metadata": {},
   "source": [
    "The **basicConfig()** function from the logging module is used to configure the logging settings, such as the logging level (in this case, **logging.DEBUG** which enables debug-level logging), logging format, output file, etc. Once the logging module is configured, we can call **logging.debug()**."
   ]
  },
  {
   "cell_type": "markdown",
   "id": "68607287",
   "metadata": {},
   "source": [
    "#### 5. What are the two lines that your program must have in order to have logging.debug() send a logging message to a file named programLog.txt?"
   ]
  },
  {
   "cell_type": "code",
   "execution_count": 11,
   "id": "de1a8457",
   "metadata": {},
   "outputs": [
    {
     "name": "stderr",
     "output_type": "stream",
     "text": [
      "DEBUG:root:This is a debug-level log message\n"
     ]
    }
   ],
   "source": [
    "import logging\n",
    "\n",
    "logging.basicConfig(filename=\"programLog.txt\", level=logging.DEBUG)\n",
    "\n",
    "logging.debug(\"This is a debug-level log message\")"
   ]
  },
  {
   "cell_type": "markdown",
   "id": "f7809d07",
   "metadata": {},
   "source": [
    "The filename parameter specifies the name of the file to which the log messages will be written to \"programLog.txt\". The level parameter specifies the logging level, which is set to logging.DEBUG to enable debug-level logging. Once the logging module is configured, we can call logging.debug() (or other logging methods like logging.info(), logging.warning(), etc.) to log messages at the specified logging level, which in this case is the debug level, and the log messages will be written to the \"programLog.txt\" file."
   ]
  },
  {
   "cell_type": "markdown",
   "id": "56b7e736",
   "metadata": {},
   "source": [
    "#### 6. What are the five levels of logging?"
   ]
  },
  {
   "cell_type": "markdown",
   "id": "8a694799",
   "metadata": {},
   "source": [
    "The five levels of logging in Python's logging module, listed in increasing order of severity, are:<br>\n",
    "1. DEBUG: This is the lowest logging level and is used for detailed debugging information. Typically, debug-level messages are used during development and testing to provide detailed information about the internal workings of the program.\n",
    "<br>\n",
    "2. INFO: This level is used for informational messages that provide general information about the program's progress or status. Info-level messages are typically used to convey high-level information about the program's operation.\n",
    "<br>\n",
    "3. WARNING: This level is used for warning messages that indicate potential issues or unexpected situations that may not be errors, but could cause problems or require attention. Warning-level messages are typically used to indicate situations that need to be addressed or investigated.\n",
    "<br>\n",
    "4. ERROR: This level is used for error messages that indicate failures or errors that may cause the program to malfunction or produce incorrect results. Error-level messages are typically used to indicate critical issues that require immediate attention or resolution.\n",
    "<br>\n",
    "\n",
    "5. CRITICAL: This is the highest logging level and is used for messages that indicate severe errors or critical failures that may result in the program's termination or complete failure. Critical-level messages are typically used to indicate situations that require immediate attention to prevent further damage or loss.\n",
    "<br>"
   ]
  },
  {
   "cell_type": "markdown",
   "id": "d6ca481c",
   "metadata": {},
   "source": [
    "#### 7. What line of code would you add to your software to disable all logging messages?"
   ]
  },
  {
   "cell_type": "code",
   "execution_count": 12,
   "id": "6f5be497",
   "metadata": {},
   "outputs": [],
   "source": [
    "import logging\n",
    "\n",
    "# Disable all logging messages\n",
    "logging.disable(logging.CRITICAL)"
   ]
  },
  {
   "cell_type": "markdown",
   "id": "03e25884",
   "metadata": {},
   "source": [
    "The logging.disable() function from the logging module allows us to disable all logging messages by specifying the logging level to disable. In this case, logging.CRITICAL is used as the logging level, which is the highest logging level, effectively disabling all logging messages. Any logging messages at or below the specified logging level will be ignored and not emitted to the log outputs. This can be useful in cases where we want to suppress all logging messages from being displayed or logged, such as in production environments where logging may not be needed or desired."
   ]
  },
  {
   "cell_type": "markdown",
   "id": "d985a69b",
   "metadata": {},
   "source": [
    "#### 8. Why is using logging messages better than using print() to display the same message?"
   ]
  },
  {
   "cell_type": "markdown",
   "id": "1f906b37",
   "metadata": {},
   "source": [
    "Using logging messages is generally considered better than using print() statements for displaying messages in production code for several reasons:<br>\n",
    "1. Flexibility: Logging allows for more flexibility in managing log messages. We can easily enable or disable logging messages globally or on a per-module basis, change the logging level to control the verbosity of messages, and route log messages to different log outputs (e.g., files, streams, syslog, etc.) based on configuration settings. This provides more control and adaptability in managing log messages compared to print() statements, which are typically scattered throughout the code and can be harder to manage and modify.\n",
    "<br>\n",
    "2. Granularity: Logging allows for different levels of log messages (e.g., DEBUG, INFO, WARNING, ERROR, CRITICAL), which provide varying levels of detail and severity. This allows we to log different types of messages at different levels, and selectively enable or disable certain levels of messages based on the desired logging configuration. With print() statements, We have limited control over the level of detail or severity of the messages, as all messages are typically displayed in the same way.\n",
    "<br>\n",
    "3. Maintainability: Logging messages are more maintainable compared to print() statements, as they can be easily managed and updated globally or on a per-module basis. We can easily disable or enable logging messages during development, testing, and production phases of the software lifecycle, without modifying the code itself. On the other hand, print() statements may need to be manually added, removed, or modified throughout the code, which can be time-consuming and error-prone, especially in large codebases.\n",
    "<br>\n",
    "4. Production-readiness: Logging is designed for production-ready code and follows best practices for logging and error handling. Logging messages are typically more structured and formatted, allowing for easier analysis, monitoring, and troubleshooting of issues in production environments. Logging also provides features such as logging levels, timestamps, log rotation, and log aggregation, which are essential for managing logs in production systems. print() statements, on the other hand, are typically used for temporary debugging or development purposes and may not adhere to best practices for logging in production environments.\n",
    "<br>\n",
    "5. Performance: Logging can be more efficient in terms of performance compared to print() statements, especially when logging is disabled or configured to a lower logging level. In such cases, logging messages are not emitted, and the overhead of logging is minimal. print() statements, on the other hand, are executed every time they are encountered in the code, and their performance impact can be higher, especially in performance-critical sections of the code."
   ]
  },
  {
   "cell_type": "markdown",
   "id": "a2dee0a1",
   "metadata": {},
   "source": [
    "#### 9. What are the differences between the Step Over, Step In, and Step Out buttons in the debugger?"
   ]
  },
  {
   "cell_type": "markdown",
   "id": "461c320d",
   "metadata": {},
   "source": [
    "The Step Over, Step In, and Step Out buttons are commonly used debugging tools in integrated development environments (IDEs) with debugger support. These buttons are used to control the execution of a program during debugging and allow developers to navigate through the code and inspect variables and data at different points in the program's execution.<br>\n",
    "1. **Step Over**: The Step Over button is used to execute the current line of code and move to the next line, without stepping into any function or method calls that may be encountered on the current line. If the current line contains a function or method call, the Step Over button will execute the entire function or method call as a single step, without stepping into the code of the function or method. This is useful when we want to skip over the details of a function or method call and continue to the next line of code in the current scope.\n",
    "<br>\n",
    "2. **Step In**: The Step In button is used to step into a function or method call encountered on the current line of code. When the Step In button is clicked, the debugger will move the execution point to the first line of code inside the function or method being called, allowing us to inspect the details of that function or method call. This is useful when we want to step into the code of a function or method and inspect its behavior and variables.\n",
    "<br>\n",
    "3. **Step Out**: The Step Out button is used to step out of the current function or method being executed and move to the line of code immediately after the function or method call. When the Step Out button is clicked, the debugger will continue the execution of the program until it reaches the end of the current function or method, and then move to the next line of code in the current scope. This is useful when we want to quickly skip over the remaining code of a function or method and continue execution from where the function or method was called."
   ]
  },
  {
   "cell_type": "markdown",
   "id": "14f85112",
   "metadata": {},
   "source": [
    "#### 10. After you click Continue, when will the debugger stop ?"
   ]
  },
  {
   "cell_type": "markdown",
   "id": "96e91922",
   "metadata": {},
   "source": [
    "After clicking the Continue button in a debugger, the debugger will continue to execute the program without stopping until one of the following events occurs:<br>\n",
    "\n",
    "1. A breakpoint is encountered: If a breakpoint is set at a particular line of code, the debugger will stop when the program execution reaches that line. Breakpoints are specific lines of code where you have instructed the debugger to pause the execution and allow you to inspect the state of the program.\n",
    "\n",
    "2. An exception is raised: If an exception is raised during the program's execution, the debugger will stop at the line of code where the exception occurred, allowing you to inspect the details of the exception and understand the cause of the error.\n",
    "\n",
    "3. The program completes execution: If the program completes execution without encountering any breakpoints or exceptions, the debugger will stop automatically at the end of the program.\n",
    "\n",
    "4. An external event occurs: Some debuggers allow you to set conditions for stopping the execution based on specific events or conditions, such as user input, a change in the value of a variable, or a specific time elapsed. If any of these conditions are met, the debugger may stop at the corresponding point in the code."
   ]
  },
  {
   "cell_type": "markdown",
   "id": "e9739ef0",
   "metadata": {},
   "source": [
    "#### 11. What is the concept of a breakpoint?"
   ]
  },
  {
   "cell_type": "markdown",
   "id": "53d1d817",
   "metadata": {},
   "source": [
    "A breakpoint is a point in the source code of a program where we can specify the debugger to pause the program's execution. When the program reaches a breakpoint during runtime, it will stop or \"break\" at that specific line of code, allowing us to inspect the state of the program, including Variable values, Execution flow, Identifying errors, Testing specific scenarios and other runtime information.\n"
   ]
  }
 ],
 "metadata": {
  "kernelspec": {
   "display_name": "Python 3",
   "language": "python",
   "name": "python3"
  },
  "language_info": {
   "codemirror_mode": {
    "name": "ipython",
    "version": 3
   },
   "file_extension": ".py",
   "mimetype": "text/x-python",
   "name": "python",
   "nbconvert_exporter": "python",
   "pygments_lexer": "ipython3",
   "version": "3.8.8"
  }
 },
 "nbformat": 4,
 "nbformat_minor": 5
}
