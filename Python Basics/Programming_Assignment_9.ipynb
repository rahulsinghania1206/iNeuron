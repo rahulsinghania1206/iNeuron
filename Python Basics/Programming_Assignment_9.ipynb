{
 "cells": [
  {
   "cell_type": "markdown",
   "id": "b82d7bb7",
   "metadata": {},
   "source": [
    "# Programming Assignment_9"
   ]
  },
  {
   "cell_type": "markdown",
   "id": "8699eba8",
   "metadata": {},
   "source": [
    "#### 1. Write a Python program to check if the given number is a Disarium Number?"
   ]
  },
  {
   "cell_type": "markdown",
   "id": "f8eda26c",
   "metadata": {},
   "source": [
    "**Disarium number:**  A number whose sum of its digits powered with its respective position equals to the number itself."
   ]
  },
  {
   "cell_type": "code",
   "execution_count": 1,
   "id": "d731cf5d",
   "metadata": {},
   "outputs": [
    {
     "name": "stdout",
     "output_type": "stream",
     "text": [
      "Enter a number: 89\n",
      "89 is a Disarium number.\n"
     ]
    }
   ],
   "source": [
    "def is_disarium_number(num):\n",
    "    digit_count = len(str(num))\n",
    "    sum_of_digits = 0\n",
    "    temp = num\n",
    "    while temp > 0:\n",
    "        digit = temp % 10\n",
    "        sum_of_digits += digit ** digit_count\n",
    "        temp //= 10\n",
    "        digit_count -= 1\n",
    "    return num == sum_of_digits\n",
    "\n",
    "number = int(input(\"Enter a number: \"))\n",
    "if is_disarium_number(number):\n",
    "    print(number, \"is a Disarium number.\")\n",
    "else:\n",
    "    print(number, \"is not a Disarium number.\")"
   ]
  },
  {
   "cell_type": "markdown",
   "id": "fb972b98",
   "metadata": {},
   "source": [
    "#### 2. Write a Python program to print all disarium numbers between 1 to 100?"
   ]
  },
  {
   "cell_type": "code",
   "execution_count": 2,
   "id": "807802a6",
   "metadata": {},
   "outputs": [
    {
     "name": "stdout",
     "output_type": "stream",
     "text": [
      "Disarium numbers between 1 and 100:\n",
      "[1, 2, 3, 4, 5, 6, 7, 8, 9, 89]\n"
     ]
    }
   ],
   "source": [
    "def is_disarium_number(num):\n",
    "    digit_count = len(str(num))\n",
    "    sum_of_digits = 0\n",
    "    temp = num\n",
    "    while temp > 0:\n",
    "        digit = temp % 10\n",
    "        sum_of_digits += digit ** digit_count\n",
    "        temp //= 10\n",
    "        digit_count -= 1\n",
    "    return num == sum_of_digits\n",
    "\n",
    "disarium_numbers = []\n",
    "for i in range(1, 101):\n",
    "    if is_disarium_number(i):\n",
    "        disarium_numbers.append(i)\n",
    "\n",
    "print(\"Disarium numbers between 1 and 100:\")\n",
    "print(disarium_numbers)"
   ]
  },
  {
   "cell_type": "markdown",
   "id": "897ff055",
   "metadata": {},
   "source": [
    "#### 3. Write a Python program to check if the given number is Happy Number?"
   ]
  },
  {
   "cell_type": "markdown",
   "id": "29a160d1",
   "metadata": {},
   "source": [
    "**Happy number:** A number defined by the following process: Starting with any positive integer, replace the number by the sum of the squares of its digits."
   ]
  },
  {
   "cell_type": "code",
   "execution_count": 3,
   "id": "448ca3cc",
   "metadata": {},
   "outputs": [
    {
     "name": "stdout",
     "output_type": "stream",
     "text": [
      "Enter a number: 7\n",
      "7 is a Happy number.\n"
     ]
    }
   ],
   "source": [
    "def is_happy_number(num):\n",
    "    visited = set()\n",
    "    while num != 1:\n",
    "        num = sum(int(digit) ** 2 for digit in str(num))\n",
    "        if num in visited:\n",
    "            return False\n",
    "        visited.add(num)\n",
    "    return True\n",
    "\n",
    "number = int(input(\"Enter a number: \"))\n",
    "if is_happy_number(number):\n",
    "    print(number, \"is a Happy number.\")\n",
    "else:\n",
    "    print(number, \"is not a Happy number.\")"
   ]
  },
  {
   "cell_type": "markdown",
   "id": "539292dc",
   "metadata": {},
   "source": [
    "#### 4. Write a Python program to print all happy numbers between 1 and 100?"
   ]
  },
  {
   "cell_type": "code",
   "execution_count": 4,
   "id": "7f78f17e",
   "metadata": {},
   "outputs": [
    {
     "name": "stdout",
     "output_type": "stream",
     "text": [
      "Happy numbers between 1 and 100:\n",
      "[1, 7, 10, 13, 19, 23, 28, 31, 32, 44, 49, 68, 70, 79, 82, 86, 91, 94, 97, 100]\n"
     ]
    }
   ],
   "source": [
    "def is_happy_number(num):\n",
    "    visited = set()\n",
    "    while num != 1:\n",
    "        num = sum(int(digit) ** 2 for digit in str(num))\n",
    "        if num in visited:\n",
    "            return False\n",
    "        visited.add(num)\n",
    "    return True\n",
    "\n",
    "happy_numbers = []\n",
    "for i in range(1, 101):\n",
    "    if is_happy_number(i):\n",
    "        happy_numbers.append(i)\n",
    "\n",
    "print(\"Happy numbers between 1 and 100:\")\n",
    "print(happy_numbers)"
   ]
  },
  {
   "cell_type": "markdown",
   "id": "7b61a72f",
   "metadata": {},
   "source": [
    "#### 5. Write a Python program to determine whether the given number is a Harshad Number?"
   ]
  },
  {
   "cell_type": "markdown",
   "id": "98523b1e",
   "metadata": {},
   "source": [
    "**Harshad number:** A positive integer which is divisible by the sum of its digits, also called a Niven number."
   ]
  },
  {
   "cell_type": "code",
   "execution_count": 5,
   "id": "5b014187",
   "metadata": {},
   "outputs": [
    {
     "name": "stdout",
     "output_type": "stream",
     "text": [
      "Enter a number: 156\n",
      "156 is a Harshad number.\n"
     ]
    }
   ],
   "source": [
    "def is_harshad_number(num):\n",
    "    sum_of_digits = sum(int(digit) for digit in str(num))\n",
    "    return num % sum_of_digits == 0\n",
    "\n",
    "number = int(input(\"Enter a number: \"))\n",
    "if is_harshad_number(number):\n",
    "    print(number, \"is a Harshad number.\")\n",
    "else:\n",
    "    print(number, \"is not a Harshad number.\")"
   ]
  },
  {
   "cell_type": "markdown",
   "id": "cf65a4d2",
   "metadata": {},
   "source": [
    "#### 6. Write a Python program to print all pronic numbers between 1 and 100?"
   ]
  },
  {
   "cell_type": "markdown",
   "id": "996e1de7",
   "metadata": {},
   "source": [
    "**Pronic number:** A number that is the product of two consecutive integers, that is, a number of the form n ( n + 1 )"
   ]
  },
  {
   "cell_type": "code",
   "execution_count": 6,
   "id": "e7e166cf",
   "metadata": {},
   "outputs": [
    {
     "name": "stdout",
     "output_type": "stream",
     "text": [
      "Pronic numbers between 1 and 100:\n",
      "[2, 6, 12, 20, 30, 42, 56, 72, 90]\n"
     ]
    }
   ],
   "source": [
    "def is_pronic_number(num):\n",
    "    for i in range(1, num):\n",
    "        if i * (i + 1) == num:\n",
    "            return True\n",
    "    return False\n",
    "\n",
    "pronic_numbers = []\n",
    "for i in range(1, 101):\n",
    "    if is_pronic_number(i):\n",
    "        pronic_numbers.append(i)\n",
    "\n",
    "print(\"Pronic numbers between 1 and 100:\")\n",
    "print(pronic_numbers)"
   ]
  }
 ],
 "metadata": {
  "kernelspec": {
   "display_name": "Python 3",
   "language": "python",
   "name": "python3"
  },
  "language_info": {
   "codemirror_mode": {
    "name": "ipython",
    "version": 3
   },
   "file_extension": ".py",
   "mimetype": "text/x-python",
   "name": "python",
   "nbconvert_exporter": "python",
   "pygments_lexer": "ipython3",
   "version": "3.8.8"
  }
 },
 "nbformat": 4,
 "nbformat_minor": 5
}
