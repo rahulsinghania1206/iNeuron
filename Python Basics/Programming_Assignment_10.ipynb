{
 "cells": [
  {
   "cell_type": "markdown",
   "id": "dcb6782c",
   "metadata": {},
   "source": [
    "# Programming Assignment_10"
   ]
  },
  {
   "cell_type": "markdown",
   "id": "679744d1",
   "metadata": {},
   "source": [
    "#### 1. Write a Python program to find sum of elements in list?"
   ]
  },
  {
   "cell_type": "code",
   "execution_count": 1,
   "id": "271944c8",
   "metadata": {},
   "outputs": [
    {
     "name": "stdout",
     "output_type": "stream",
     "text": [
      "Enter the integers for Array separated by spaces: 1 2 3 4 5 6 6  7 8\n",
      "Sum of elements: 42\n"
     ]
    }
   ],
   "source": [
    "elements = input(\"Enter the integers for Array separated by spaces: \")\n",
    "list_str = elements.split()\n",
    "ele_list = [int(x) for x in list_str]\n",
    "sum_result = sum(ele_list)\n",
    "print(\"Sum of elements:\", sum_result)"
   ]
  },
  {
   "cell_type": "markdown",
   "id": "a9c3e716",
   "metadata": {},
   "source": [
    "#### 2. Write a Python program to Multiply all numbers in the list?"
   ]
  },
  {
   "cell_type": "code",
   "execution_count": 2,
   "id": "d336ad9c",
   "metadata": {},
   "outputs": [
    {
     "name": "stdout",
     "output_type": "stream",
     "text": [
      "Product of numbers: 241920\n"
     ]
    }
   ],
   "source": [
    "multiply_result = 1\n",
    "for num in ele_list:\n",
    "    multiply_result *= num\n",
    "print(\"Product of numbers:\", multiply_result)"
   ]
  },
  {
   "cell_type": "markdown",
   "id": "2b45426a",
   "metadata": {},
   "source": [
    "#### 3. Write a Python program to find smallest number in a list?"
   ]
  },
  {
   "cell_type": "code",
   "execution_count": 3,
   "id": "26582d94",
   "metadata": {},
   "outputs": [
    {
     "name": "stdout",
     "output_type": "stream",
     "text": [
      "Smallest number: 1\n"
     ]
    }
   ],
   "source": [
    "smallest_number = min(ele_list)\n",
    "print(\"Smallest number:\", smallest_number)"
   ]
  },
  {
   "cell_type": "markdown",
   "id": "9ca8afe0",
   "metadata": {},
   "source": [
    "#### 4. Write a Python program to find largest number in a list?"
   ]
  },
  {
   "cell_type": "code",
   "execution_count": 5,
   "id": "db1d7364",
   "metadata": {},
   "outputs": [
    {
     "name": "stdout",
     "output_type": "stream",
     "text": [
      "Largest number: 8\n"
     ]
    }
   ],
   "source": [
    "largest_number = max(ele_list)\n",
    "print(\"Largest number:\", largest_number)"
   ]
  },
  {
   "cell_type": "markdown",
   "id": "f186573e",
   "metadata": {},
   "source": [
    "#### 5. Write a Python program to find second largest number in a list?"
   ]
  },
  {
   "cell_type": "code",
   "execution_count": 6,
   "id": "48f2fa23",
   "metadata": {},
   "outputs": [
    {
     "name": "stdout",
     "output_type": "stream",
     "text": [
      "Second largest number: 7\n"
     ]
    }
   ],
   "source": [
    "sorted_list = sorted(ele_list)\n",
    "second_largest_number = sorted_list[-2]\n",
    "print(\"Second largest number:\", second_largest_number)"
   ]
  },
  {
   "cell_type": "markdown",
   "id": "d28c689b",
   "metadata": {},
   "source": [
    "#### 6. Write a Python program to find N largest elements from a list?"
   ]
  },
  {
   "cell_type": "code",
   "execution_count": 8,
   "id": "d6c3f635",
   "metadata": {},
   "outputs": [
    {
     "name": "stdout",
     "output_type": "stream",
     "text": [
      "NUmber of largest number you want to display: 3\n",
      "3 largest elements: [8, 7, 6]\n"
     ]
    }
   ],
   "source": [
    "n = int(input(\"NUmber of largest number you want to display: \"))\n",
    "sorted_list = sorted(ele_list, reverse=True)\n",
    "n_largest_elements = sorted_list[:n]\n",
    "print(f\"{n} largest elements:\", n_largest_elements)"
   ]
  },
  {
   "cell_type": "markdown",
   "id": "8b5640c8",
   "metadata": {},
   "source": [
    "#### 7. Write a Python program to print even numbers in a list?"
   ]
  },
  {
   "cell_type": "code",
   "execution_count": 9,
   "id": "8e98bbe0",
   "metadata": {},
   "outputs": [
    {
     "name": "stdout",
     "output_type": "stream",
     "text": [
      "Even numbers: [2, 4, 6, 6, 8]\n"
     ]
    }
   ],
   "source": [
    "even_numbers = [num for num in ele_list if num % 2 == 0]\n",
    "print(\"Even numbers:\", even_numbers)"
   ]
  },
  {
   "cell_type": "markdown",
   "id": "8ed29747",
   "metadata": {},
   "source": [
    "#### 8. Write a Python program to print odd numbers in a List?"
   ]
  },
  {
   "cell_type": "code",
   "execution_count": 10,
   "id": "9173f174",
   "metadata": {},
   "outputs": [
    {
     "name": "stdout",
     "output_type": "stream",
     "text": [
      "Odd numbers: [1, 3, 5, 7]\n"
     ]
    }
   ],
   "source": [
    "odd_numbers = [num for num in ele_list if num % 2 != 0]\n",
    "print(\"Odd numbers:\", odd_numbers)"
   ]
  },
  {
   "cell_type": "markdown",
   "id": "89c34980",
   "metadata": {},
   "source": [
    "#### 9. Write a Python program to Remove empty List from List?"
   ]
  },
  {
   "cell_type": "code",
   "execution_count": 11,
   "id": "234d72bc",
   "metadata": {},
   "outputs": [
    {
     "name": "stdout",
     "output_type": "stream",
     "text": [
      "List after removing empty lists: [1, [2, 3], 4, [5, 6, 7]]\n"
     ]
    }
   ],
   "source": [
    "def remove_empty_lists(lst):\n",
    "    return [item for item in lst if item]\n",
    "\n",
    "my_list = [1, [], [2, 3], [], 4, [], [5, 6, 7]]\n",
    "new_list = remove_empty_lists(my_list)\n",
    "print(\"List after removing empty lists:\", new_list)"
   ]
  },
  {
   "cell_type": "markdown",
   "id": "57056bc8",
   "metadata": {},
   "source": [
    "#### 10. Write a Python program to Cloning or Copying a list?"
   ]
  },
  {
   "cell_type": "code",
   "execution_count": 12,
   "id": "b4fe2579",
   "metadata": {},
   "outputs": [
    {
     "name": "stdout",
     "output_type": "stream",
     "text": [
      "Cloned list: [1, 2, 3, 4, 5, 6, 6, 7, 8]\n"
     ]
    }
   ],
   "source": [
    "cloned_list = ele_list[:]\n",
    "print(\"Cloned list:\", cloned_list)"
   ]
  },
  {
   "cell_type": "markdown",
   "id": "5e34b84f",
   "metadata": {},
   "source": [
    "#### 11. Write a Python program to Count occurrences of an element in a list?"
   ]
  },
  {
   "cell_type": "code",
   "execution_count": 13,
   "id": "5f330bd7",
   "metadata": {},
   "outputs": [
    {
     "name": "stdout",
     "output_type": "stream",
     "text": [
      "Enter the element of list you want to count the occurance: 6\n",
      "The element 6 occurs 2 time(s) in the list.\n"
     ]
    }
   ],
   "source": [
    "ele_e = int(input(\"Enter the element of list you want to count the occurance: \"))\n",
    "occurrences = ele_list.count(ele_e)\n",
    "print(f\"The element {ele_e} occurs {occurrences} time(s) in the list.\")"
   ]
  }
 ],
 "metadata": {
  "kernelspec": {
   "display_name": "Python 3",
   "language": "python",
   "name": "python3"
  },
  "language_info": {
   "codemirror_mode": {
    "name": "ipython",
    "version": 3
   },
   "file_extension": ".py",
   "mimetype": "text/x-python",
   "name": "python",
   "nbconvert_exporter": "python",
   "pygments_lexer": "ipython3",
   "version": "3.8.8"
  }
 },
 "nbformat": 4,
 "nbformat_minor": 5
}
