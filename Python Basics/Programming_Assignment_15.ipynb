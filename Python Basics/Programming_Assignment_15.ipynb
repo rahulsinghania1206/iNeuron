{
 "cells": [
  {
   "cell_type": "markdown",
   "id": "5beb7fc0",
   "metadata": {},
   "source": [
    "# Programming Assignment_15"
   ]
  },
  {
   "cell_type": "markdown",
   "id": "adee6694",
   "metadata": {},
   "source": [
    "#### Question 1: Please write a program using generator to print the numbers which can be divisible by 5 and 7 between 0 and n in comma separated form while n is input by console.\n",
    "Example:<br>\n",
    "If the following n is given as input to the program:<br>\n",
    "100\n",
    "\n",
    "Then, the output of the program should be:<br>\n",
    "0,35,70"
   ]
  },
  {
   "cell_type": "code",
   "execution_count": 1,
   "id": "13ea4e53",
   "metadata": {},
   "outputs": [
    {
     "name": "stdout",
     "output_type": "stream",
     "text": [
      "Enter a number: 100\n",
      "0,35,70\n"
     ]
    }
   ],
   "source": [
    "def divisible_by_5_and_7(n):\n",
    "    for i in range(n + 1):\n",
    "        if i % 5 == 0 and i % 7 == 0:\n",
    "            yield str(i)\n",
    "\n",
    "n = int(input(\"Enter a number: \"))\n",
    "result = \",\".join(divisible_by_5_and_7(n))\n",
    "print(result)"
   ]
  },
  {
   "cell_type": "markdown",
   "id": "30431eb8",
   "metadata": {},
   "source": [
    "#### Question 2: Please write a program using generator to print the even numbers between 0 and n in comma separated form while n is input by console.\n",
    "Example:<br>\n",
    "If the following n is given as input to the program:<br>\n",
    "10\n",
    "\n",
    "Then, the output of the program should be:<br>\n",
    "0,2,4,6,8,10"
   ]
  },
  {
   "cell_type": "code",
   "execution_count": 2,
   "id": "2e60939b",
   "metadata": {},
   "outputs": [
    {
     "name": "stdout",
     "output_type": "stream",
     "text": [
      "Enter a number: 10\n",
      "0,2,4,6,8,10\n"
     ]
    }
   ],
   "source": [
    "def even_numbers(n):\n",
    "    for i in range(n + 1):\n",
    "        if i % 2 == 0:\n",
    "            yield str(i)\n",
    "\n",
    "n = int(input(\"Enter a number: \"))\n",
    "result = \",\".join(even_numbers(n))\n",
    "print(result)"
   ]
  },
  {
   "cell_type": "markdown",
   "id": "d4fc611c",
   "metadata": {},
   "source": [
    "#### Question 3: The Fibonacci Sequence is computed based on the following formula:\n",
    "f(n)=0 if n=0<br>\n",
    "f(n)=1 if n=1<br>\n",
    "f(n)=f(n-1)+f(n-2) if n&gt;1<br>\n",
    "\n",
    "Please write a program using list comprehension to print the Fibonacci Sequence in comma separated form with a given n input by console.\n",
    "\n",
    "Example:<br>\n",
    "If the following n is given as input to the program:<br>\n",
    "7\n",
    "\n",
    "Then, the output of the program should be:<br>\n",
    "0,1,1,2,3,5,8,13"
   ]
  },
  {
   "cell_type": "code",
   "execution_count": 12,
   "id": "e085fa90",
   "metadata": {},
   "outputs": [
    {
     "name": "stdout",
     "output_type": "stream",
     "text": [
      "Enter a number: 7\n",
      "0,1,1,2,3,5,8,13\n"
     ]
    }
   ],
   "source": [
    "n = int(input(\"Enter a number: \"))\n",
    "\n",
    "fib_sequence = [0, 1]  # Initialize the Fibonacci sequence with the first two numbers\n",
    "\n",
    "if n > 1:\n",
    "    for i in range(2, n+2):\n",
    "        x = fib_sequence[i-1] + fib_sequence[i-2]\n",
    "        fib_sequence.append(x)\n",
    "\n",
    "result = \",\".join(map(str, fib_sequence[:n+1]))\n",
    "print(result)"
   ]
  },
  {
   "cell_type": "markdown",
   "id": "adcffb12",
   "metadata": {},
   "source": [
    "#### Question 4: Assuming that we have some email addresses in the &quot;username@companyname.com&quot; format, please write program to print the user name of a given email address. Both user names and company names are composed of letters only.\n",
    "Example:<br>\n",
    "If the following email address is given as input to the program:<br>\n",
    "john@google.com\n",
    "\n",
    "Then, the output of the program should be:<br>\n",
    "john"
   ]
  },
  {
   "cell_type": "code",
   "execution_count": 13,
   "id": "84d5ce67",
   "metadata": {},
   "outputs": [
    {
     "name": "stdout",
     "output_type": "stream",
     "text": [
      "Enter an email address: sin90.singhania@gmail.com\n",
      "sin90.singhania\n"
     ]
    }
   ],
   "source": [
    "email_address = input(\"Enter an email address: \")\n",
    "\n",
    "username = email_address.split('@')[0]\n",
    "\n",
    "print(username)"
   ]
  },
  {
   "cell_type": "markdown",
   "id": "2f13f53e",
   "metadata": {},
   "source": [
    "#### Question 5: Define a class named Shape and its subclass Square. The Square class has an init function which takes a length as argument. Both classes have a area function which can print the area of the shape where Shape&#39;s area is 0 by default."
   ]
  },
  {
   "cell_type": "code",
   "execution_count": 14,
   "id": "e4f59a25",
   "metadata": {},
   "outputs": [
    {
     "name": "stdout",
     "output_type": "stream",
     "text": [
      "Area: 0\n",
      "Area: 25\n"
     ]
    }
   ],
   "source": [
    "class Shape:\n",
    "    def __init__(self):\n",
    "        self.area = 0\n",
    "\n",
    "    def print_area(self):\n",
    "        print(\"Area:\", self.area)\n",
    "\n",
    "\n",
    "class Square(Shape):\n",
    "    def __init__(self, length):\n",
    "        super().__init__()\n",
    "        self.length = length\n",
    "        self.area = self.length ** 2\n",
    "\n",
    "shape = Shape()\n",
    "shape.print_area() \n",
    "\n",
    "square = Square(5)\n",
    "square.print_area()"
   ]
  }
 ],
 "metadata": {
  "kernelspec": {
   "display_name": "Python 3",
   "language": "python",
   "name": "python3"
  },
  "language_info": {
   "codemirror_mode": {
    "name": "ipython",
    "version": 3
   },
   "file_extension": ".py",
   "mimetype": "text/x-python",
   "name": "python",
   "nbconvert_exporter": "python",
   "pygments_lexer": "ipython3",
   "version": "3.8.8"
  }
 },
 "nbformat": 4,
 "nbformat_minor": 5
}
