{
 "cells": [
  {
   "cell_type": "markdown",
   "id": "3bec6ce8",
   "metadata": {},
   "source": [
    "# Assignment 2"
   ]
  },
  {
   "cell_type": "markdown",
   "id": "ffbcd9ee",
   "metadata": {},
   "source": [
    "### 1. What are the two values of the Boolean data type? How do you write them?"
   ]
  },
  {
   "cell_type": "markdown",
   "id": "6424beeb",
   "metadata": {},
   "source": [
    "Two values of Boolean data type are 'true' and 'false'. and They can also be written as 'True' and 'False'."
   ]
  },
  {
   "cell_type": "markdown",
   "id": "f6a8ab37",
   "metadata": {},
   "source": [
    "### 2. What are the three different types of Boolean operators?"
   ]
  },
  {
   "cell_type": "markdown",
   "id": "0369179d",
   "metadata": {},
   "source": [
    "AND (&&) Operator, OR (||) operator and NOT (!) operator."
   ]
  },
  {
   "cell_type": "markdown",
   "id": "3b93374f",
   "metadata": {},
   "source": [
    "### 3. Make a list of each Boolean operator's truth tables (i.e. every possible combination of Boolean values for the operator and what it evaluate)."
   ]
  },
  {
   "cell_type": "markdown",
   "id": "6dfaaabf",
   "metadata": {},
   "source": [
    "AND Operator:"
   ]
  },
  {
   "cell_type": "markdown",
   "id": "d40489aa",
   "metadata": {},
   "source": [
    "| operand 1| operand 2 | result |\n",
    "| --- | --- | --- |\n",
    "| true | true | true |\n",
    "| true | false | false |\n",
    "| false | true | false |\n",
    "| false | false | false |"
   ]
  },
  {
   "cell_type": "markdown",
   "id": "cc5eabbd",
   "metadata": {},
   "source": [
    "OR Operator:"
   ]
  },
  {
   "cell_type": "markdown",
   "id": "9efc895e",
   "metadata": {},
   "source": [
    "| operand 1| operand 2 | result |\n",
    "| --- | --- | --- |\n",
    "| true | true | true |\n",
    "| true | false | true |\n",
    "| false | true | true |\n",
    "| false | false | false |"
   ]
  },
  {
   "cell_type": "markdown",
   "id": "8cedb41a",
   "metadata": {},
   "source": [
    "NOT Operator:"
   ]
  },
  {
   "cell_type": "markdown",
   "id": "ebb354e5",
   "metadata": {},
   "source": [
    "| operand | operand |\n",
    "| --- | --- |\n",
    "| true | false |\n",
    "| false | true |"
   ]
  },
  {
   "cell_type": "markdown",
   "id": "54109e7b",
   "metadata": {},
   "source": [
    "### 4. What are the values of the following expressions?"
   ]
  },
  {
   "cell_type": "markdown",
   "id": "cb62aa48",
   "metadata": {},
   "source": [
    "(5 > 4) and (3 == 5) -- False"
   ]
  },
  {
   "cell_type": "markdown",
   "id": "c57cffa9",
   "metadata": {},
   "source": [
    "not (5 > 4) -- False"
   ]
  },
  {
   "cell_type": "markdown",
   "id": "cf017d79",
   "metadata": {},
   "source": [
    "(5 > 4) or (3 == 5) -- True"
   ]
  },
  {
   "cell_type": "markdown",
   "id": "7ae18b3c",
   "metadata": {},
   "source": [
    "not ((5 > 4) or (3 == 5)) -- False"
   ]
  },
  {
   "cell_type": "markdown",
   "id": "005b8e87",
   "metadata": {},
   "source": [
    "(True and True) and (True == False) -- False"
   ]
  },
  {
   "cell_type": "markdown",
   "id": "88e89388",
   "metadata": {},
   "source": [
    "(not False) or (not True) -- True"
   ]
  },
  {
   "cell_type": "markdown",
   "id": "0fa1430d",
   "metadata": {},
   "source": [
    "### 5. What are the six comparison operators?"
   ]
  },
  {
   "cell_type": "markdown",
   "id": "a1b419dd",
   "metadata": {},
   "source": [
    "Greater than (>),\n",
    "Less than (<),\n",
    "Greater than or equal to (>=),\n",
    "Less than or equal to (<=),\n",
    "Equal to (==) and Not equal to (!=)."
   ]
  },
  {
   "cell_type": "markdown",
   "id": "19e82b07",
   "metadata": {},
   "source": [
    "### 6. How do you tell the difference between the equal to and assignment operators?Describe a condition and when you would use one."
   ]
  },
  {
   "cell_type": "markdown",
   "id": "0df6cab0",
   "metadata": {},
   "source": [
    "Equal to operator (==) is used to compare two values to check if they are equal, while the assignment operator(=) is used to assign a value to a variable."
   ]
  },
  {
   "cell_type": "markdown",
   "id": "023e3dac",
   "metadata": {},
   "source": [
    "Condition:"
   ]
  },
  {
   "cell_type": "code",
   "execution_count": 7,
   "id": "49981fff",
   "metadata": {},
   "outputs": [
    {
     "name": "stdout",
     "output_type": "stream",
     "text": [
      "5\n",
      "You have entered the number 5\n"
     ]
    }
   ],
   "source": [
    "x = int(input()) #Assignement Operator\n",
    "if (x == 5): #Equal to OPerator\n",
    "    print('You have entered the number 5')"
   ]
  },
  {
   "cell_type": "markdown",
   "id": "ddad1428",
   "metadata": {},
   "source": [
    "### 7. Identify the three blocks in this code:"
   ]
  },
  {
   "cell_type": "code",
   "execution_count": 6,
   "id": "95fb569d",
   "metadata": {},
   "outputs": [
    {
     "name": "stdout",
     "output_type": "stream",
     "text": [
      "ham\n",
      "spam\n",
      "spam\n"
     ]
    }
   ],
   "source": [
    "spam = 0\n",
    "if spam == 10: #1st block\n",
    "    print('eggs')\n",
    "if spam > 5:  #2nd block\n",
    "    print('bacon')\n",
    "else:  #3rd block\n",
    "    print('ham')\n",
    "    print('spam')\n",
    "    print('spam')"
   ]
  },
  {
   "cell_type": "markdown",
   "id": "e5d308a9",
   "metadata": {},
   "source": [
    "### 8. Write code that prints Hello if 1 is stored in spam, prints Howdy if 2 is stored in spam, and prints Greetings! if anything else is stored in spam."
   ]
  },
  {
   "cell_type": "code",
   "execution_count": 9,
   "id": "eb830d50",
   "metadata": {},
   "outputs": [
    {
     "name": "stdout",
     "output_type": "stream",
     "text": [
      "Enter a integer of single digit-2\n",
      "Howdy\n"
     ]
    }
   ],
   "source": [
    "spam = int(input('Enter a integer of single digit-'))\n",
    "if spam == 1: \n",
    "    print('Hello')\n",
    "elif spam == 2:  \n",
    "    print('Howdy')\n",
    "else:  \n",
    "    print('Greetings!')"
   ]
  },
  {
   "cell_type": "markdown",
   "id": "5832dc57",
   "metadata": {},
   "source": [
    "### 9.If your programme is stuck in an endless loop, what keys you’ll press?"
   ]
  },
  {
   "cell_type": "markdown",
   "id": "4fa62963",
   "metadata": {},
   "source": [
    "ctrl + c"
   ]
  },
  {
   "cell_type": "markdown",
   "id": "73e60254",
   "metadata": {},
   "source": [
    "### 10. How can you tell the difference between break and continue?"
   ]
  },
  {
   "cell_type": "markdown",
   "id": "6ad7062b",
   "metadata": {},
   "source": [
    "Break statement breaks out of the loop and terminates its execution. whereas the continue statement skips over the current iteration and moves on to the next iteration."
   ]
  },
  {
   "cell_type": "markdown",
   "id": "c6db80db",
   "metadata": {},
   "source": [
    "### 11. In a for loop, what is the difference between range(10), range(0, 10), and range(0, 10, 1)?"
   ]
  },
  {
   "cell_type": "markdown",
   "id": "9f85fc14",
   "metadata": {},
   "source": [
    "range(10)- This function will take the range from 0 to 9. Iterate the value 10 times.\n",
    "range(0,10) - This function will take the range from 0 to 9 and starts from 0 and end at 9.\n",
    "range(0,10,1) - This function has step size inizilize in it i.e. 1.\n",
    "All these function will give the same output but the way of arguments specified is different."
   ]
  },
  {
   "cell_type": "markdown",
   "id": "f33c79b0",
   "metadata": {},
   "source": [
    "### 12. Write a short program that prints the numbers 1 to 10 using a for loop. Then write an equivalent program that prints the numbers 1 to 10 using a while loop."
   ]
  },
  {
   "cell_type": "markdown",
   "id": "d1fe3734",
   "metadata": {},
   "source": [
    "Using for loop:"
   ]
  },
  {
   "cell_type": "code",
   "execution_count": 10,
   "id": "db3abcd9",
   "metadata": {},
   "outputs": [
    {
     "name": "stdout",
     "output_type": "stream",
     "text": [
      "1\n",
      "2\n",
      "3\n",
      "4\n",
      "5\n",
      "6\n",
      "7\n",
      "8\n",
      "9\n",
      "10\n"
     ]
    }
   ],
   "source": [
    "for i in range(1, 11):\n",
    "    print(i)"
   ]
  },
  {
   "cell_type": "markdown",
   "id": "eea92553",
   "metadata": {},
   "source": [
    "Using while loop:"
   ]
  },
  {
   "cell_type": "code",
   "execution_count": 11,
   "id": "80749456",
   "metadata": {},
   "outputs": [
    {
     "name": "stdout",
     "output_type": "stream",
     "text": [
      "1\n",
      "2\n",
      "3\n",
      "4\n",
      "5\n",
      "6\n",
      "7\n",
      "8\n",
      "9\n",
      "10\n"
     ]
    }
   ],
   "source": [
    "i = 1\n",
    "while i <= 10:\n",
    "    print(i)\n",
    "    i += 1"
   ]
  },
  {
   "cell_type": "markdown",
   "id": "63114f44",
   "metadata": {},
   "source": [
    "### 13. If you had a function named bacon() inside a module named spam, how would you call it after importing spam?"
   ]
  },
  {
   "cell_type": "markdown",
   "id": "26293f18",
   "metadata": {},
   "source": [
    "import spam\n",
    "\n",
    "spam.bacon()"
   ]
  }
 ],
 "metadata": {
  "kernelspec": {
   "display_name": "Python 3",
   "language": "python",
   "name": "python3"
  },
  "language_info": {
   "codemirror_mode": {
    "name": "ipython",
    "version": 3
   },
   "file_extension": ".py",
   "mimetype": "text/x-python",
   "name": "python",
   "nbconvert_exporter": "python",
   "pygments_lexer": "ipython3",
   "version": "3.8.8"
  }
 },
 "nbformat": 4,
 "nbformat_minor": 5
}
