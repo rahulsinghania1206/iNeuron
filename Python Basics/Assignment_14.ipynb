{
 "cells": [
  {
   "cell_type": "markdown",
   "id": "183c4d6b",
   "metadata": {},
   "source": [
    "# Assignment 14"
   ]
  },
  {
   "cell_type": "markdown",
   "id": "8e6e4590",
   "metadata": {},
   "source": [
    "#### 1. What does RGBA stand for?"
   ]
  },
  {
   "cell_type": "markdown",
   "id": "c67b9f06",
   "metadata": {},
   "source": [
    "RGBA stand for Red Green Blue Alpha."
   ]
  },
  {
   "cell_type": "markdown",
   "id": "282b6745",
   "metadata": {},
   "source": [
    "#### 2. From the Pillow module, how do you get the RGBA value of any images?"
   ]
  },
  {
   "cell_type": "markdown",
   "id": "5a2250a2",
   "metadata": {},
   "source": [
    "In the Pillow (PIL) module, you can get the RGBA (Red, Green, Blue, Alpha) value of an image using the **getdata()** method. \n"
   ]
  },
  {
   "cell_type": "code",
   "execution_count": null,
   "id": "8b9705a3",
   "metadata": {},
   "outputs": [],
   "source": [
    "from PIL import Image\n",
    "\n",
    "# Open the image\n",
    "image = Image.open(\"example.png\")  \n",
    "\n",
    "# Get the RGBA data\n",
    "rgba_data = image.getdata()\n",
    "\n",
    "# Loop through each pixel in the image\n",
    "for pixel in rgba_data:\n",
    "    # Unpack the RGBA values\n",
    "    red, green, blue, alpha = pixel\n",
    "\n",
    "    # Print the RGBA values\n",
    "    print(\"Red: {}, Green: {}, Blue: {}, Alpha: {}\".format(red, green, blue, alpha))\n"
   ]
  },
  {
   "cell_type": "markdown",
   "id": "960d6683",
   "metadata": {},
   "source": [
    "#### 3. What is a box tuple, and how does it work?"
   ]
  },
  {
   "cell_type": "markdown",
   "id": "29156ed4",
   "metadata": {},
   "source": [
    "In Pillow (PIL) module, a \"box tuple\" is a tuple that represents a rectangular region or area in an image. It is used to specify coordinates and dimensions of a rectangular region of interest (ROI) within an image.<br>\n",
    "A box tuple consists of four integer values, which represent the left, upper, right, and lower coordinates of the rectangular region in that order. The left and upper coordinates specify the top-left corner of the rectangular region, while the right and lower coordinates specify the bottom-right corner of the rectangular region.<br>\n",
    "The box tuple format is as follows:"
   ]
  },
  {
   "cell_type": "markdown",
   "id": "038067eb",
   "metadata": {},
   "source": [
    "(box_left, box_upper, box_right, box_lower)"
   ]
  },
  {
   "cell_type": "markdown",
   "id": "b84a32d0",
   "metadata": {},
   "source": [
    "1. box_left: The x-coordinate of the top-left corner of the rectangular region.\n",
    "2. box_upper: The y-coordinate of the top-left corner of the rectangular region.\n",
    "3. box_right: The x-coordinate of the bottom-right corner of the rectangular region.\n",
    "4. box_lower: The y-coordinate of the bottom-right corner of the rectangular region."
   ]
  },
  {
   "cell_type": "markdown",
   "id": "57edfda6",
   "metadata": {},
   "source": [
    "We can use box tuples in Pillow (PIL) module for various operations such as cropping, pasting, and drawing on images, by passing them as arguments to relevant methods or functions. For example, we can use the crop() method of an Image object in Pillow by passing a box tuple to specify the region to be cropped from the image. Similarly, we can use the paste() method to paste an image onto another image at a specific location using a box tuple."
   ]
  },
  {
   "cell_type": "markdown",
   "id": "5e502d43",
   "metadata": {},
   "source": [
    "#### 4. Use your image and load in notebook then, How can you find out the width and height of an Image object?"
   ]
  },
  {
   "cell_type": "code",
   "execution_count": 3,
   "id": "c6f4ce03",
   "metadata": {},
   "outputs": [
    {
     "name": "stdout",
     "output_type": "stream",
     "text": [
      "Width:  2754\n",
      "Height:  3883\n"
     ]
    }
   ],
   "source": [
    "from PIL import Image\n",
    "\n",
    "# Open the image\n",
    "image = Image.open(\"rahul.jpeg\") \n",
    "\n",
    "# Get the width and height of the image\n",
    "width, height = image.size\n",
    "\n",
    "# Print the width and height\n",
    "print(\"Width: \", width)\n",
    "print(\"Height: \", height)"
   ]
  },
  {
   "cell_type": "markdown",
   "id": "535ebdd6",
   "metadata": {},
   "source": [
    "#### 5. What method would you call to get Image object for a 100×100 image, excluding the lower-left quarter of it?"
   ]
  },
  {
   "cell_type": "code",
   "execution_count": 4,
   "id": "b9c84555",
   "metadata": {},
   "outputs": [],
   "source": [
    "from PIL import Image\n",
    "\n",
    "# Open the image\n",
    "image = Image.open(\"rahul.jpeg\")  \n",
    "\n",
    "# Get the size of the image\n",
    "width, height = image.size\n",
    "\n",
    "# Calculate the coordinates for the crop region\n",
    "left = 0\n",
    "upper = 0\n",
    "right = width // 2\n",
    "lower = height // 2\n",
    "\n",
    "# Crop the image\n",
    "cropped_image = image.crop((left, upper, right, lower))\n",
    "\n",
    "# Show the cropped image\n",
    "cropped_image.show()"
   ]
  },
  {
   "cell_type": "markdown",
   "id": "46f67666",
   "metadata": {},
   "source": [
    "#### 6. After making changes to an Image object, how could you save it as an image file?"
   ]
  },
  {
   "cell_type": "code",
   "execution_count": 5,
   "id": "2e517dc2",
   "metadata": {},
   "outputs": [],
   "source": [
    "# Save the modified image\n",
    "image.save(\"cropped_image.jpeg\")"
   ]
  },
  {
   "cell_type": "markdown",
   "id": "d891081c",
   "metadata": {},
   "source": [
    "#### 7. What module contains Pillow’s shape-drawing code?"
   ]
  },
  {
   "cell_type": "markdown",
   "id": "69d8cb8b",
   "metadata": {},
   "source": [
    "The ImageDraw module is a part of the Pillow (PIL) library, which provides various functions for drawing shapes such as lines, rectangles, circles, polygons, and text on an Image object. These shapes can be used to add annotations, labels, or visual elements to an image."
   ]
  },
  {
   "cell_type": "markdown",
   "id": "dec1c396",
   "metadata": {},
   "source": [
    "#### 8. Image objects do not have drawing methods. What kind of object does? How do you get this kind of object?"
   ]
  },
  {
   "cell_type": "markdown",
   "id": "0330ce4d",
   "metadata": {},
   "source": [
    "Image objects in Pillow (PIL) do not have drawing methods. Instead, drawing methods are provided by the ImageDraw module, which contains functions for drawing various shapes, such as lines, rectangles, circles, polygons, and text, on an Image object.\n",
    "\n",
    "To get an object that can be used to draw on an Image object, we need to create an ImageDraw object. You can do this using the ImageDraw.Draw() function provided by the ImageDraw module."
   ]
  },
  {
   "cell_type": "code",
   "execution_count": 6,
   "id": "fa74bb48",
   "metadata": {},
   "outputs": [],
   "source": [
    "from PIL import Image, ImageDraw\n",
    "\n",
    "# Open the image\n",
    "image = Image.open(\"rahul.jpeg\")  # Replace \"example.jpg\" with the path to your image file\n",
    "\n",
    "# Create an ImageDraw object\n",
    "draw = ImageDraw.Draw(image)\n"
   ]
  }
 ],
 "metadata": {
  "kernelspec": {
   "display_name": "Python 3",
   "language": "python",
   "name": "python3"
  },
  "language_info": {
   "codemirror_mode": {
    "name": "ipython",
    "version": 3
   },
   "file_extension": ".py",
   "mimetype": "text/x-python",
   "name": "python",
   "nbconvert_exporter": "python",
   "pygments_lexer": "ipython3",
   "version": "3.8.8"
  }
 },
 "nbformat": 4,
 "nbformat_minor": 5
}
