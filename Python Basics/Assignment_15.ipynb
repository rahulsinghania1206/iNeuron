{
 "cells": [
  {
   "cell_type": "markdown",
   "id": "deca3d99",
   "metadata": {},
   "source": [
    "# Assignment 15"
   ]
  },
  {
   "cell_type": "markdown",
   "id": "1f1f02a4",
   "metadata": {},
   "source": [
    "#### 1. How many seconds are in an hour? Use the interactive interpreter as a calculator and multiply the number of seconds in a minute (60) by the number of minutes in an hour (also 60)."
   ]
  },
  {
   "cell_type": "markdown",
   "id": "88834275",
   "metadata": {},
   "source": [
    "Interactive interpreter is a kind of shell which results in the outcome of the commands provided by user."
   ]
  },
  {
   "cell_type": "code",
   "execution_count": 1,
   "id": "a29ca3bb",
   "metadata": {},
   "outputs": [
    {
     "data": {
      "text/plain": [
       "3600"
      ]
     },
     "execution_count": 1,
     "metadata": {},
     "output_type": "execute_result"
    }
   ],
   "source": [
    "60 * 60"
   ]
  },
  {
   "cell_type": "markdown",
   "id": "f402e3ee",
   "metadata": {},
   "source": [
    "#### 2. Assign the result from the previous task (seconds in an hour) to a variable called seconds_per_hour."
   ]
  },
  {
   "cell_type": "code",
   "execution_count": 2,
   "id": "a8afe265",
   "metadata": {},
   "outputs": [],
   "source": [
    "seconds_per_hour = 3600"
   ]
  },
  {
   "cell_type": "markdown",
   "id": "29cd1ac4",
   "metadata": {},
   "source": [
    "#### 3. How many seconds do you think there are in a day? Make use of the variables seconds per hour and minutes per hour."
   ]
  },
  {
   "cell_type": "code",
   "execution_count": 3,
   "id": "7adf9372",
   "metadata": {},
   "outputs": [
    {
     "name": "stdout",
     "output_type": "stream",
     "text": [
      "86400\n"
     ]
    }
   ],
   "source": [
    "minutes_per_hour = 60\n",
    "seconds_per_hour = 3600\n",
    "hour_per_day = 24\n",
    "\n",
    "print(seconds_per_hour * hour_per_day)"
   ]
  },
  {
   "cell_type": "markdown",
   "id": "74fa8e00",
   "metadata": {},
   "source": [
    "#### 4. Calculate seconds per day again, but this time save the result in a variable called seconds_per_day"
   ]
  },
  {
   "cell_type": "code",
   "execution_count": 4,
   "id": "dd5305c8",
   "metadata": {},
   "outputs": [],
   "source": [
    "minutes_per_hour = 60\n",
    "seconds_per_hour = 3600\n",
    "hour_per_day = 24\n",
    "\n",
    "seconds_per_day = seconds_per_hour * hour_per_day"
   ]
  },
  {
   "cell_type": "markdown",
   "id": "7380a227",
   "metadata": {},
   "source": [
    "#### 5. Divide seconds_per_day by seconds_per_hour. Use floating-point (/) division."
   ]
  },
  {
   "cell_type": "code",
   "execution_count": 6,
   "id": "f212cf7f",
   "metadata": {},
   "outputs": [
    {
     "data": {
      "text/plain": [
       "24.0"
      ]
     },
     "execution_count": 6,
     "metadata": {},
     "output_type": "execute_result"
    }
   ],
   "source": [
    "seconds_per_day/seconds_per_hour"
   ]
  },
  {
   "cell_type": "markdown",
   "id": "c5c382c5",
   "metadata": {},
   "source": [
    "#### 6. Divide seconds_per_day by seconds_per_hour, using integer (//) division. Did this number agree with the floating-point value from the previous question, aside from the final .0?"
   ]
  },
  {
   "cell_type": "code",
   "execution_count": 7,
   "id": "5695795f",
   "metadata": {},
   "outputs": [
    {
     "data": {
      "text/plain": [
       "24"
      ]
     },
     "execution_count": 7,
     "metadata": {},
     "output_type": "execute_result"
    }
   ],
   "source": [
    "seconds_per_day//seconds_per_hour"
   ]
  },
  {
   "cell_type": "markdown",
   "id": "51435265",
   "metadata": {},
   "source": [
    "Yes, the number agree with floating-point value"
   ]
  },
  {
   "cell_type": "markdown",
   "id": "319180e1",
   "metadata": {},
   "source": [
    "#### 7. Write a generator, genPrimes, that returns the sequence of prime numbers on successive calls to its next() method: 2, 3, 5, 7, 11, ..."
   ]
  },
  {
   "cell_type": "code",
   "execution_count": 9,
   "id": "e2362ebb",
   "metadata": {},
   "outputs": [
    {
     "name": "stdout",
     "output_type": "stream",
     "text": [
      "Enter the number of prime number you want starting from 2:10\n",
      "2\n",
      "3\n",
      "5\n",
      "7\n",
      "11\n",
      "13\n",
      "17\n",
      "19\n",
      "23\n",
      "29\n"
     ]
    }
   ],
   "source": [
    "def genPrimes():\n",
    "    primes = []\n",
    "    prime_dict = {}\n",
    "\n",
    "    n = 2   # 1st prime number is 2\n",
    "\n",
    "    while True:\n",
    "        # If n is a prime number, yield it\n",
    "        if n not in prime_dict:\n",
    "            primes.append(n)\n",
    "            yield n\n",
    "            prime_dict[n * n] = [n]\n",
    "        # If n is not a prime number, update prime_dict dictionary\n",
    "        else:\n",
    "            for p in prime_dict[n]:\n",
    "                prime_dict.setdefault(p + n, []).append(p)\n",
    "            del prime_dict[n]\n",
    "\n",
    "        # Increment n\n",
    "        n += 1\n",
    "\n",
    "x = int(input(\"Enter the number of prime number you want starting from 2:\"))\n",
    "gen = genPrimes()\n",
    "for i in range(x):\n",
    "    print(next(gen))"
   ]
  }
 ],
 "metadata": {
  "kernelspec": {
   "display_name": "Python 3",
   "language": "python",
   "name": "python3"
  },
  "language_info": {
   "codemirror_mode": {
    "name": "ipython",
    "version": 3
   },
   "file_extension": ".py",
   "mimetype": "text/x-python",
   "name": "python",
   "nbconvert_exporter": "python",
   "pygments_lexer": "ipython3",
   "version": "3.8.8"
  }
 },
 "nbformat": 4,
 "nbformat_minor": 5
}
