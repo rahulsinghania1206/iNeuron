{
 "cells": [
  {
   "cell_type": "markdown",
   "id": "f3e16755",
   "metadata": {},
   "source": [
    "# Assignment 23"
   ]
  },
  {
   "cell_type": "markdown",
   "id": "5c2f14c8",
   "metadata": {},
   "source": [
    "#### 1. What is the result of the code, and why?\n",
    "&gt;&gt;&gt; def func(a, b=6, c=8):<br>\n",
    "print(a, b, c)<br>\n",
    "&gt;&gt;&gt; func(1, 2)<br>"
   ]
  },
  {
   "cell_type": "markdown",
   "id": "b3fd594a",
   "metadata": {},
   "source": [
    "**Result:** 1 2 8<br>\n",
    "When the function is called using func(1, 2), the value of a is set to 1, the value of b is set to 2, and the value of c remains at its default value of 8."
   ]
  },
  {
   "cell_type": "markdown",
   "id": "f8192498",
   "metadata": {},
   "source": [
    "#### 2. What is the result of this code, and why?\n",
    "&gt;&gt;&gt; def func(a, b, c=5):<br>\n",
    "print(a, b, c)<br>\n",
    "&gt;&gt;&gt; func(1, c=3, b=2)"
   ]
  },
  {
   "cell_type": "markdown",
   "id": "d0362f0d",
   "metadata": {},
   "source": [
    "**Result:** 1 2 3<br>\n",
    "When the function is called using func(1,c=3, b=2), the value of a is set to 1, the value of b is set to 2, and the value of c set to 3."
   ]
  },
  {
   "cell_type": "markdown",
   "id": "8e905e14",
   "metadata": {},
   "source": [
    "#### 3. How about this code: what is its result, and why?\n",
    "&gt;&gt;&gt; def func(a, *pargs):<br>\n",
    "print(a, pargs)<br>\n",
    "&gt;&gt;&gt; func(1, 2, 3)"
   ]
  },
  {
   "cell_type": "markdown",
   "id": "1e31be9c",
   "metadata": {},
   "source": [
    "**Result:** 1 (2, 3)<br>\n",
    "Function named func() that takes a mandatory parameter a, followed by a variable-length argument list *pargs.<br>\n",
    "When the function is called using func(1, 2, 3), the value of a is set to 1, and the *pargs parameter receives a tuple of the remaining arguments 2 and 3."
   ]
  },
  {
   "cell_type": "markdown",
   "id": "ca46a5b4",
   "metadata": {},
   "source": [
    "#### 4. What does this code print, and why?\n",
    "&gt;&gt;&gt; def func(a, **kargs):<br>\n",
    "print(a, kargs)<br>\n",
    "&gt;&gt;&gt; func(a=1, c=3, b=2)"
   ]
  },
  {
   "cell_type": "markdown",
   "id": "d9664b51",
   "metadata": {},
   "source": [
    "**Result:** 1 {'c': 3, 'b': 2}<br>\n",
    "The code defines a function named func() that takes a mandatory parameter a, followed by a variable-length keyword argument list **kargs.\n",
    "\n",
    "When the function is called using func(a=1, c=3, b=2), the value of a is set to 1, and the **kargs parameter receives a dictionary containing the remaining keyword arguments c=3 and b=2."
   ]
  },
  {
   "cell_type": "markdown",
   "id": "213421fd",
   "metadata": {},
   "source": [
    "#### 5. What gets printed by this, and explain?\n",
    "&gt;&gt;&gt; def func(a, b, c=8, d=5): print(a, b, c, d)<br>\n",
    "&gt;&gt;&gt; func(1, *(5, 6))"
   ]
  },
  {
   "cell_type": "markdown",
   "id": "c1b4e501",
   "metadata": {},
   "source": [
    "**Result:** 1 5 6 5\n",
    "\n",
    "When the function is called using func(1, *(5, 6)), the value of a is set to 1, the value of b is set to 5, and the value of c is set to 6. The * operator before the (5, 6) tuple unpacks the tuple, and its elements 5 and 6 are passed as separate arguments to the function, which is equivalent to calling the function as func(1, 5, 6)."
   ]
  },
  {
   "cell_type": "markdown",
   "id": "4c52c400",
   "metadata": {},
   "source": [
    "#### 6. what is the result of this, and explain?\n",
    "&gt;&gt;&gt; def func(a, b, c): a = 2; b[0] = &#39;x&#39;; c[&#39;a&#39;] = &#39;y&#39;<br>\n",
    "&gt;&gt;&gt; l=1; m=[1]; n={&#39;a&#39;:0}<br>\n",
    "&gt;&gt;&gt; func(l, m, n)<br>\n",
    "\n",
    "&gt;&gt;&gt; l, m, n"
   ]
  },
  {
   "cell_type": "markdown",
   "id": "98fca8cf",
   "metadata": {},
   "source": [
    "**Result:**<br>\n",
    "l = 1<br>\n",
    "m = ['x']<br>\n",
    "n = {'a': 'y'}<br>\n",
    "The function func() is called with these three variables as arguments using func(l, m, n).<br>\n",
    "Since the list m and the dictionary n are mutable objects, any changes made to them inside the function func() will be reflected outside the function as well."
   ]
  }
 ],
 "metadata": {
  "kernelspec": {
   "display_name": "Python 3",
   "language": "python",
   "name": "python3"
  },
  "language_info": {
   "codemirror_mode": {
    "name": "ipython",
    "version": 3
   },
   "file_extension": ".py",
   "mimetype": "text/x-python",
   "name": "python",
   "nbconvert_exporter": "python",
   "pygments_lexer": "ipython3",
   "version": "3.8.8"
  }
 },
 "nbformat": 4,
 "nbformat_minor": 5
}
