{
 "cells": [
  {
   "cell_type": "markdown",
   "id": "30d1e33d",
   "metadata": {},
   "source": [
    "# Assignment_8"
   ]
  },
  {
   "cell_type": "markdown",
   "id": "2433c3e4",
   "metadata": {},
   "source": [
    "#### 1. Is the Python Standard Library included with PyInputPlus?"
   ]
  },
  {
   "cell_type": "markdown",
   "id": "a8c7c22c",
   "metadata": {},
   "source": [
    "No"
   ]
  },
  {
   "cell_type": "markdown",
   "id": "d0ca655a",
   "metadata": {},
   "source": [
    "#### 2. Why is PyInputPlus commonly imported with import pyinputplus as pypi?"
   ]
  },
  {
   "cell_type": "markdown",
   "id": "4a9594e9",
   "metadata": {},
   "source": [
    "Its just alias name for pyinputplus to use in the code whenever required."
   ]
  },
  {
   "cell_type": "markdown",
   "id": "17279d44",
   "metadata": {},
   "source": [
    "#### 3. How do you distinguish between inputInt() and inputFloat()?"
   ]
  },
  {
   "cell_type": "markdown",
   "id": "6be2763a",
   "metadata": {},
   "source": [
    "inputInt() is used when we want input as an integer and inputFloat() is used when we want input as float point. Both are part of PyInputPlus modules"
   ]
  },
  {
   "cell_type": "markdown",
   "id": "4407fa44",
   "metadata": {},
   "source": [
    "#### 4. Using PyInputPlus, how do you ensure that the user enters a whole number between 0 and 99?"
   ]
  },
  {
   "cell_type": "markdown",
   "id": "29742ba6",
   "metadata": {},
   "source": [
    "To restrict user input as an Integer can use inputInt() from PyInputPlus module and for limit we will give min as 0 and max value as 99."
   ]
  },
  {
   "cell_type": "markdown",
   "id": "2e948a6f",
   "metadata": {},
   "source": [
    "#### 5. What is transferred to the keyword arguments allowRegexes and blockRegexes?"
   ]
  },
  {
   "cell_type": "markdown",
   "id": "d8c99cf7",
   "metadata": {},
   "source": [
    "For both of them keyword arguments are passed as list of regular expression strings that will be defining what function will accept or reject as a correct input."
   ]
  },
  {
   "cell_type": "markdown",
   "id": "79fc998b",
   "metadata": {},
   "source": [
    "#### 6. If a blank input is entered three times, what does inputStr(limit=3) do?"
   ]
  },
  {
   "cell_type": "markdown",
   "id": "5f367161",
   "metadata": {},
   "source": [
    "It will throw a exception once the 3 times blank input is given."
   ]
  },
  {
   "cell_type": "markdown",
   "id": "28abd6e5",
   "metadata": {},
   "source": [
    "#### 7. If blank input is entered three times, what does inputStr(limit=3, default='hello') do?"
   ]
  },
  {
   "cell_type": "markdown",
   "id": "c8940842",
   "metadata": {},
   "source": [
    "It will return the default value given \"hello\" once 3 times blank input is given."
   ]
  }
 ],
 "metadata": {
  "kernelspec": {
   "display_name": "Python 3",
   "language": "python",
   "name": "python3"
  },
  "language_info": {
   "codemirror_mode": {
    "name": "ipython",
    "version": 3
   },
   "file_extension": ".py",
   "mimetype": "text/x-python",
   "name": "python",
   "nbconvert_exporter": "python",
   "pygments_lexer": "ipython3",
   "version": "3.8.8"
  }
 },
 "nbformat": 4,
 "nbformat_minor": 5
}
