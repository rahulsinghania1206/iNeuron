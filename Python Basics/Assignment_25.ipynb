{
 "cells": [
  {
   "cell_type": "markdown",
   "id": "d7f0ae03",
   "metadata": {},
   "source": [
    "# Assignment 25"
   ]
  },
  {
   "cell_type": "markdown",
   "id": "043bb8d1",
   "metadata": {},
   "source": [
    "#### 1. What is the difference between enclosing a list comprehension in square brackets and parentheses?"
   ]
  },
  {
   "cell_type": "markdown",
   "id": "2fa2c948",
   "metadata": {},
   "source": [
    "Enclosing a list comprehension in square brackets ([ ]) produces a list, while enclosing it in parentheses (( )) produces a generator expression.<br>\n",
    "A list comprehension creates a new list by applying an expression to each element of an iterable. but a generator expression creates a generator object, which is an iterable that produces values on-the-fly as you iterate over it. "
   ]
  },
  {
   "cell_type": "code",
   "execution_count": 1,
   "id": "1fce42cb",
   "metadata": {},
   "outputs": [
    {
     "name": "stdout",
     "output_type": "stream",
     "text": [
      "[1, 4, 9, 16, 25]\n"
     ]
    }
   ],
   "source": [
    "#list comprehension\n",
    "numbers = [1, 2, 3, 4, 5]\n",
    "squares = [x**2 for x in numbers]\n",
    "print(squares)"
   ]
  },
  {
   "cell_type": "code",
   "execution_count": 2,
   "id": "2f9d7c08",
   "metadata": {},
   "outputs": [
    {
     "name": "stdout",
     "output_type": "stream",
     "text": [
      "<generator object <genexpr> at 0x0000027FEF161E40>\n"
     ]
    }
   ],
   "source": [
    "#generator expression\n",
    "numbers = [1, 2, 3, 4, 5]\n",
    "squares = (x**2 for x in numbers)\n",
    "print(squares)"
   ]
  },
  {
   "cell_type": "markdown",
   "id": "222c0ba9",
   "metadata": {},
   "source": [
    "#### 2. What is the relationship between generators and iterators?"
   ]
  },
  {
   "cell_type": "markdown",
   "id": "e8060440",
   "metadata": {},
   "source": [
    "An iterator is an object that implements the iterator protocol, which requires it to have a __next__() method that returns the next value in a sequence, and to raise a StopIteration exception when there are no more values in the sequence. The __iter__() method returns the iterator object itself."
   ]
  },
  {
   "cell_type": "markdown",
   "id": "e19a9599",
   "metadata": {},
   "source": [
    "Generators are a convenient way to create iterators. A generator is a function that uses the yield keyword to return a value from the function, while also pausing the function's execution state so that it can be resumed later. When a generator function is called, it returns a generator object, which can be used to iterate over the values produced by the generator."
   ]
  },
  {
   "cell_type": "markdown",
   "id": "f2dffdec",
   "metadata": {},
   "source": [
    "Generators are a type of iterator that are created using a generator function, and they allow you to generate an arbitrary sequence of values on the fly."
   ]
  },
  {
   "cell_type": "markdown",
   "id": "0df9d548",
   "metadata": {},
   "source": [
    "#### 3. What are the signs that a function is a generator function?"
   ]
  },
  {
   "cell_type": "markdown",
   "id": "a928422e",
   "metadata": {},
   "source": [
    "A function is a generator function if it contains at least one yield statement and returns a generator object when called."
   ]
  },
  {
   "cell_type": "markdown",
   "id": "bd6c5618",
   "metadata": {},
   "source": [
    "#### 4. What is the purpose of a yield statement?}"
   ]
  },
  {
   "cell_type": "markdown",
   "id": "50f6cfb7",
   "metadata": {},
   "source": [
    "1. It returns a value from the generator function.\n",
    "2. It pauses the execution state of the generator function."
   ]
  },
  {
   "cell_type": "markdown",
   "id": "45b23868",
   "metadata": {},
   "source": [
    "#### 5. What is the relationship between map calls and list comprehensions? Make a comparison and contrast between the two."
   ]
  },
  {
   "cell_type": "markdown",
   "id": "1f5943f6",
   "metadata": {},
   "source": [
    "Both map() calls and list comprehensions are used to transform and manipulate data in collections such as lists, tuples, and sets. However, they differ in their syntax, behavior, and usage.<br>\n",
    "**Map** calls are used to apply a function to each element of a sequence and return a new sequence of the same length with the transformed values."
   ]
  },
  {
   "cell_type": "code",
   "execution_count": 1,
   "id": "82e6fb54",
   "metadata": {},
   "outputs": [
    {
     "name": "stdout",
     "output_type": "stream",
     "text": [
      "[2, 4, 6, 8, 10]\n"
     ]
    }
   ],
   "source": [
    "my_list = [1, 2, 3, 4, 5]\n",
    "new_list = map(lambda x: x * 2, my_list) #map(function, sequence)\n",
    "print(list(new_list))"
   ]
  },
  {
   "cell_type": "markdown",
   "id": "671c67fa",
   "metadata": {},
   "source": [
    "**List** comprehensions, on the other hand, are used to create a new list by applying an expression to each element of a sequence. "
   ]
  },
  {
   "cell_type": "code",
   "execution_count": 2,
   "id": "60ca4ea7",
   "metadata": {},
   "outputs": [
    {
     "name": "stdout",
     "output_type": "stream",
     "text": [
      "[2, 4, 6, 8, 10]\n"
     ]
    }
   ],
   "source": [
    "my_list = [1, 2, 3, 4, 5]\n",
    "new_list = [x * 2 for x in my_list] #[expression for element in sequence]\n",
    "print(new_list)"
   ]
  },
  {
   "cell_type": "markdown",
   "id": "8070e0aa",
   "metadata": {},
   "source": [
    "some differences:\n",
    "1. Syntax: map() calls require the use of a separate function, whereas list comprehensions use an expression.\n",
    "2. Behavior: map() calls always return an iterable object, whereas list comprehensions always return a list.\n",
    "3. Usage: map() calls are often used for more complex operations that require a separate function, whereas list comprehensions are often used for simpler operations that can be expressed in a single expression.\n",
    "\n"
   ]
  }
 ],
 "metadata": {
  "kernelspec": {
   "display_name": "Python 3",
   "language": "python",
   "name": "python3"
  },
  "language_info": {
   "codemirror_mode": {
    "name": "ipython",
    "version": 3
   },
   "file_extension": ".py",
   "mimetype": "text/x-python",
   "name": "python",
   "nbconvert_exporter": "python",
   "pygments_lexer": "ipython3",
   "version": "3.8.8"
  }
 },
 "nbformat": 4,
 "nbformat_minor": 5
}
