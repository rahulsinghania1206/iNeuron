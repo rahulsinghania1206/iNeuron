{
 "cells": [
  {
   "cell_type": "markdown",
   "id": "42167a7d",
   "metadata": {},
   "source": [
    "# Assignment 13"
   ]
  },
  {
   "cell_type": "markdown",
   "id": "8d25b2e8",
   "metadata": {},
   "source": [
    "#### 1. What advantages do Excel spreadsheets have over CSV spreadsheets?"
   ]
  },
  {
   "cell_type": "markdown",
   "id": "d2dedcae",
   "metadata": {},
   "source": [
    "Excel spreadsheets are saved in the .xlsx file format, offer several advantages over CSV (Comma-Separated Values) spreadsheets:\n",
    "1. Data Formatting: Excel spreadsheets allow for formatting of data, including font styles, colors, cell borders, and conditional formatting, which can make the data more visually appealing and easier to interpret. CSV, on the other hand, is a plain text format and does not support formatting.\n",
    "\n",
    "2. Data Validation: Excel allows for data validation, where we can define rules to validate data input in specific cells, such as setting data types, custom formulas, or drop-down lists. This helps to ensure data accuracy and consistency. CSV does not have built-in data validation features.\n",
    "\n",
    "3. Formulas and Functions: Excel has a wide range of built-in formulas and functions for performing calculations, data analysis, and complex calculations. These formulas and functions can be used in Excel spreadsheets to automate calculations and data processing tasks. CSV files do not support formulas or functions.\n",
    "\n",
    "4. Multiple Sheets: Excel allows for multiple sheets within a single workbook, which can be used to organize and manage data across different tabs or sheets. This can be useful for creating complex data structures or managing large datasets. CSV files contain only one sheet of data.\n",
    "\n",
    "5. Data Visualization: Excel offers various charting and graphing options, which can be used to create visual representations of data for analysis and reporting purposes. This can help in understanding complex data patterns and trends. CSV files do not have built-in data visualization capabilities.\n",
    "\n",
    "6. Data Protection: Excel provides features for password protection and access controls, which can help secure sensitive data in a spreadsheet. CSV files do not have built-in security features.\n",
    "\n",
    "7. Advanced Data Analysis: Excel has advanced data analysis tools such as PivotTables, Power Query, and Power Pivot, which allow for data consolidation, transformation, and advanced data analysis tasks. These advanced features are not available in CSV files."
   ]
  },
  {
   "cell_type": "markdown",
   "id": "c6010be7",
   "metadata": {},
   "source": [
    "#### 2. What do you pass to csv.reader() and csv.writer() to create reader and writer objects?"
   ]
  },
  {
   "cell_type": "markdown",
   "id": "3343c8d3",
   "metadata": {},
   "source": [
    "To create reader and writer objects using the csv module, we need to pass file objects as arguments to the csv.reader() and csv.writer() functions, respectively. Example:"
   ]
  },
  {
   "cell_type": "code",
   "execution_count": null,
   "id": "12974b8b",
   "metadata": {},
   "outputs": [],
   "source": [
    "import csv\n",
    "\n",
    "# Creating a CSV file for writing\n",
    "with open('example.csv', 'w', newline='') as csvfile:\n",
    "    writer = csv.writer(csvfile)\n",
    "    # Writing data to the CSV file\n",
    "    writer.writerow(['Name', 'Age', 'City'])\n",
    "    writer.writerow(['John Doe', 25, 'New York'])\n",
    "    writer.writerow(['Jane Smith', 30, 'Los Angeles'])\n",
    "\n",
    "# Creating a CSV file for reading\n",
    "with open('example.csv', 'r', newline='') as csvfile:\n",
    "    reader = csv.reader(csvfile)\n",
    "    # Reading data from the CSV file\n",
    "    for row in reader:\n",
    "        print(row)"
   ]
  },
  {
   "cell_type": "markdown",
   "id": "54083b65",
   "metadata": {},
   "source": [
    "#### 3. What modes do File objects for reader and writer objects need to be opened in?"
   ]
  },
  {
   "cell_type": "markdown",
   "id": "29195e06",
   "metadata": {},
   "source": [
    "For csv.reader objects, the File object needs to be opened in text mode ('r' or 'rt') to read data from a CSV file."
   ]
  },
  {
   "cell_type": "code",
   "execution_count": null,
   "id": "6b9715d2",
   "metadata": {},
   "outputs": [],
   "source": [
    "import csv\n",
    "\n",
    "# Opening a CSV file for reading\n",
    "with open('example.csv', 'r', newline='') as csvfile:\n",
    "    reader = csv.reader(csvfile)\n",
    "    # Reading data from the CSV file\n",
    "    for row in reader:\n",
    "        print(row)"
   ]
  },
  {
   "cell_type": "markdown",
   "id": "6dbd9c9b",
   "metadata": {},
   "source": [
    "For csv.writer objects, the File object needs to be opened in text mode ('w' or 'wt') to write data to a CSV file."
   ]
  },
  {
   "cell_type": "code",
   "execution_count": null,
   "id": "7d212cff",
   "metadata": {},
   "outputs": [],
   "source": [
    "import csv\n",
    "\n",
    "# Opening a CSV file for writing\n",
    "with open('example.csv', 'w', newline='') as csvfile:\n",
    "    writer = csv.writer(csvfile)\n",
    "    # Writing data to the CSV file\n",
    "    writer.writerow(['Name', 'Age', 'City'])\n",
    "    writer.writerow(['Rahul', 28, 'Gwalior'])\n",
    "    writer.writerow(['Tanmay', 26, 'Bangalore'])"
   ]
  },
  {
   "cell_type": "markdown",
   "id": "cb57ac1a",
   "metadata": {},
   "source": [
    "#### 4. What method takes a list argument and writes it to a CSV file?"
   ]
  },
  {
   "cell_type": "markdown",
   "id": "827f4ea9",
   "metadata": {},
   "source": [
    "The csv.writer object in Python's csv module provides a **writerow()** method that takes a list argument and writes it as a row to a CSV file."
   ]
  },
  {
   "cell_type": "markdown",
   "id": "9282c26d",
   "metadata": {},
   "source": [
    "#### 5. What do the keyword arguments delimiter and line terminator do?"
   ]
  },
  {
   "cell_type": "markdown",
   "id": "961bac34",
   "metadata": {},
   "source": [
    "The delimiter and lineterminator are optional keyword arguments that can be used with csv.writer and csv.reader objects to specify custom delimiters and line terminators for CSV files.\n",
    "1. **delimiter**: The delimiter keyword argument specifies a custom character or string that should be used as the field delimiter in the CSV file. By default, the field delimiter is a comma (,). Different delimiter such as a tab (\\t), a semicolon (;), or a pipe (|).\n",
    "2. **lineterminator**: The lineterminator keyword argument specifies a custom string that should be used as the line terminator in the CSV file. By default, the line terminator is a newline (\\n). Different line terminator such as a carriage return (\\r), a carriage return followed by a newline (\\r\\n), or a space (' ')."
   ]
  },
  {
   "cell_type": "markdown",
   "id": "479a552b",
   "metadata": {},
   "source": [
    "#### 6. What function takes a string of JSON data and returns a Python data structure?"
   ]
  },
  {
   "cell_type": "markdown",
   "id": "bbadb87f",
   "metadata": {},
   "source": [
    "The 'json' module in Python provides a function called json.loads() that takes a string of JSON data as input and returns a Python data structure. The loads in json.loads() stands for \"load string\" and indicates that the function is used to load JSON data from a string."
   ]
  },
  {
   "cell_type": "code",
   "execution_count": 1,
   "id": "1ff07300",
   "metadata": {},
   "outputs": [
    {
     "name": "stdout",
     "output_type": "stream",
     "text": [
      "Rahul\n",
      "28\n",
      "Gwalior\n"
     ]
    }
   ],
   "source": [
    "import json\n",
    "\n",
    "# Example JSON data as a string\n",
    "json_string = '{\"name\": \"Rahul\", \"age\": 28, \"city\": \"Gwalior\"}'\n",
    "\n",
    "# Parsing JSON data from a string\n",
    "data = json.loads(json_string)\n",
    "\n",
    "# Accessing values in the Python data structure\n",
    "print(data['name'])  \n",
    "print(data['age'])  \n",
    "print(data['city']) \n"
   ]
  },
  {
   "cell_type": "markdown",
   "id": "b0db631a",
   "metadata": {},
   "source": [
    "#### 7. What function takes a Python data structure and returns a string of JSON data?"
   ]
  },
  {
   "cell_type": "markdown",
   "id": "f0ba6380",
   "metadata": {},
   "source": [
    "The json module in Python provides a function called json.dumps() that takes a Python data structure as input and returns a string of JSON data. The dumps in json.dumps() stands for \"dump string\" and indicates that the function is used to serialize a Python object to a JSON-formatted string."
   ]
  },
  {
   "cell_type": "code",
   "execution_count": 2,
   "id": "a411881a",
   "metadata": {},
   "outputs": [
    {
     "name": "stdout",
     "output_type": "stream",
     "text": [
      "{\"name\": \"Rahul\", \"age\": 28, \"city\": \"Gwalior\"}\n"
     ]
    }
   ],
   "source": [
    "import json\n",
    "\n",
    "# Example Python dictionary\n",
    "data = {\"name\": \"Rahul\", \"age\": 28, \"city\": \"Gwalior\"}\n",
    "\n",
    "# Converting Python dictionary to JSON string\n",
    "json_string = json.dumps(data)\n",
    "\n",
    "# Printing JSON string\n",
    "print(json_string)"
   ]
  }
 ],
 "metadata": {
  "kernelspec": {
   "display_name": "Python 3",
   "language": "python",
   "name": "python3"
  },
  "language_info": {
   "codemirror_mode": {
    "name": "ipython",
    "version": 3
   },
   "file_extension": ".py",
   "mimetype": "text/x-python",
   "name": "python",
   "nbconvert_exporter": "python",
   "pygments_lexer": "ipython3",
   "version": "3.8.8"
  }
 },
 "nbformat": 4,
 "nbformat_minor": 5
}
