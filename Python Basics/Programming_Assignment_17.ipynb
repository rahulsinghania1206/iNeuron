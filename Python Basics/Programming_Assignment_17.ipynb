{
 "cells": [
  {
   "cell_type": "markdown",
   "id": "2c521556",
   "metadata": {},
   "source": [
    "# Programming Assignment_17"
   ]
  },
  {
   "cell_type": "markdown",
   "id": "a6ffae93",
   "metadata": {},
   "source": [
    "#### Question 1. Create a function that takes three arguments a, b, c and returns the sum of the numbers that are evenly divided by c from the range a, b inclusive.\n",
    "Examples<br>\n",
    "evenly_divisible(1, 10, 20) ➞ 0<br>\n",
    "#No number between 1 and 10 can be evenly divided by 20.\n",
    "\n",
    "evenly_divisible(1, 10, 2) ➞ 30<br>\n",
    "#2 + 4 + 6 + 8 + 10 = 30\n",
    "\n",
    "evenly_divisible(1, 10, 3) ➞ 18<br>\n",
    "#3 + 6 + 9 = 18"
   ]
  },
  {
   "cell_type": "code",
   "execution_count": 1,
   "id": "64e9e9e9",
   "metadata": {},
   "outputs": [
    {
     "name": "stdout",
     "output_type": "stream",
     "text": [
      "0\n",
      "30\n",
      "18\n"
     ]
    }
   ],
   "source": [
    "def evenly_divisible(a, b, c):\n",
    "    total = 0\n",
    "    for num in range(a, b+1):\n",
    "        if num % c == 0:\n",
    "            total += num\n",
    "    return total\n",
    "\n",
    "print(evenly_divisible(1, 10, 20))  \n",
    "print(evenly_divisible(1, 10, 2))   \n",
    "print(evenly_divisible(1, 10, 3))  "
   ]
  },
  {
   "cell_type": "markdown",
   "id": "90a6112e",
   "metadata": {},
   "source": [
    "#### Question 2. Create a function that returns True if a given inequality expression is correct and False otherwise.\n",
    "Examples<br>\n",
    "correct_signs(&quot;3 &lt; 7 &lt; 11&quot;) ➞ True<br>\n",
    "correct_signs(&quot;13 &gt; 44 &gt; 33 &gt; 1&quot;) ➞ False<br>\n",
    "correct_signs(&quot;1 &lt; 2 &lt; 6 &lt; 9 &gt; 3&quot;) ➞ True"
   ]
  },
  {
   "cell_type": "code",
   "execution_count": 2,
   "id": "13f5046c",
   "metadata": {},
   "outputs": [
    {
     "name": "stdout",
     "output_type": "stream",
     "text": [
      "True\n",
      "False\n",
      "True\n"
     ]
    }
   ],
   "source": [
    "def correct_signs(expression):\n",
    "    return eval(expression)\n",
    "\n",
    "print(correct_signs(\"3 < 7 < 11\"))          \n",
    "print(correct_signs(\"13 > 44 > 33 > 1\"))    \n",
    "print(correct_signs(\"1 < 2 < 6 < 9 > 3\"))    "
   ]
  },
  {
   "cell_type": "markdown",
   "id": "ad935294",
   "metadata": {},
   "source": [
    "#### Question 3. Create a function that replaces all the vowels in a string with a specified character.\n",
    "Examples<br>\n",
    "replace_vowels(&quot;the aardvark&quot;, &quot;#&quot;) ➞ &quot;th# ##rdv#rk&quot;<br>\n",
    "replace_vowels(&quot;minnie mouse&quot;, &quot;?&quot;) ➞ &quot;m?nn?? m??s?&quot;<br>\n",
    "replace_vowels(&quot;shakespeare&quot;, &quot;*&quot;) ➞ &quot;sh*k*sp**r*&quot;"
   ]
  },
  {
   "cell_type": "code",
   "execution_count": 3,
   "id": "c8a119e0",
   "metadata": {},
   "outputs": [
    {
     "name": "stdout",
     "output_type": "stream",
     "text": [
      "th# ##rdv#rk\n",
      "m?nn?? m??s?\n",
      "sh*k*sp**r*\n"
     ]
    }
   ],
   "source": [
    "def replace_vowels(string, char):\n",
    "    vowels = ['a', 'e', 'i', 'o', 'u', 'A', 'E', 'I', 'O', 'U']\n",
    "    for vowel in vowels:\n",
    "        string = string.replace(vowel, char)\n",
    "    return string\n",
    "\n",
    "print(replace_vowels(\"the aardvark\", \"#\"))     \n",
    "print(replace_vowels(\"minnie mouse\", \"?\"))  \n",
    "print(replace_vowels(\"shakespeare\", \"*\"))      "
   ]
  },
  {
   "cell_type": "markdown",
   "id": "71a65dcb",
   "metadata": {},
   "source": [
    "#### Question4. Write a function that calculates the factorial of a number recursively.\n",
    "Examples<br>\n",
    "factorial(5) ➞ 120<br>\n",
    "factorial(3) ➞ 6<br>\n",
    "factorial(1) ➞ 1<br>\n",
    "factorial(0) ➞ 1"
   ]
  },
  {
   "cell_type": "code",
   "execution_count": 4,
   "id": "cf94f26b",
   "metadata": {},
   "outputs": [
    {
     "name": "stdout",
     "output_type": "stream",
     "text": [
      "120\n",
      "6\n",
      "1\n",
      "1\n"
     ]
    }
   ],
   "source": [
    "def factorial(n):\n",
    "    if n == 0 or n == 1:\n",
    "        return 1\n",
    "    else:\n",
    "        return n * factorial(n - 1)\n",
    "\n",
    "print(factorial(5))  \n",
    "print(factorial(3))\n",
    "print(factorial(1))  \n",
    "print(factorial(0))"
   ]
  },
  {
   "cell_type": "markdown",
   "id": "3a54e3d3",
   "metadata": {},
   "source": [
    "#### Question 5 Hamming distance is the number of characters that differ between two strings.\n",
    "To illustrate:<br>\n",
    "String1: &quot;abcbba&quot;<br>\n",
    "String2: &quot;abcbda&quot;\n",
    "\n",
    "Hamming Distance: 1 - &quot;b&quot; vs. &quot;d&quot; is the only difference.\n",
    "\n",
    "Create a function that computes the hamming distance between two strings.\n",
    "\n",
    "Examples<br>\n",
    "hamming_distance(&quot;abcde&quot;, &quot;bcdef&quot;) ➞ 5<br>\n",
    "hamming_distance(&quot;abcde&quot;, &quot;abcde&quot;) ➞ 0<br>\n",
    "hamming_distance(&quot;strong&quot;, &quot;strung&quot;) ➞ 1"
   ]
  },
  {
   "cell_type": "code",
   "execution_count": 5,
   "id": "ada8f20f",
   "metadata": {},
   "outputs": [
    {
     "name": "stdout",
     "output_type": "stream",
     "text": [
      "5\n",
      "0\n",
      "1\n"
     ]
    }
   ],
   "source": [
    "def hamming_distance(string1, string2):\n",
    "    if len(string1) != len(string2):\n",
    "        raise ValueError(\"Strings must have the same length\")\n",
    "    \n",
    "    distance = 0\n",
    "    for char1, char2 in zip(string1, string2):\n",
    "        if char1 != char2:\n",
    "            distance += 1\n",
    "    \n",
    "    return distance\n",
    "\n",
    "print(hamming_distance(\"abcde\", \"bcdef\"))   \n",
    "print(hamming_distance(\"abcde\", \"abcde\"))   \n",
    "print(hamming_distance(\"strong\", \"strung\")) "
   ]
  }
 ],
 "metadata": {
  "kernelspec": {
   "display_name": "Python 3",
   "language": "python",
   "name": "python3"
  },
  "language_info": {
   "codemirror_mode": {
    "name": "ipython",
    "version": 3
   },
   "file_extension": ".py",
   "mimetype": "text/x-python",
   "name": "python",
   "nbconvert_exporter": "python",
   "pygments_lexer": "ipython3",
   "version": "3.8.8"
  }
 },
 "nbformat": 4,
 "nbformat_minor": 5
}
