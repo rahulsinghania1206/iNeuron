{
 "cells": [
  {
   "cell_type": "markdown",
   "id": "1a07ffca",
   "metadata": {},
   "source": [
    "# Assignment 4 "
   ]
  },
  {
   "cell_type": "markdown",
   "id": "c198050c",
   "metadata": {},
   "source": [
    "### 1. What exactly is [ ]?"
   ]
  },
  {
   "cell_type": "markdown",
   "id": "829045dd",
   "metadata": {},
   "source": [
    "[ ] are used to define a list"
   ]
  },
  {
   "cell_type": "markdown",
   "id": "ce6ee564",
   "metadata": {},
   "source": [
    "### 2. In a list of values stored in a variable called spam, how would you assign the value &#39;hello&#39; as the third value? (Assume [2, 4, 6, 8, 10] are in spam.) "
   ]
  },
  {
   "cell_type": "code",
   "execution_count": 11,
   "id": "2ee2610a",
   "metadata": {},
   "outputs": [
    {
     "name": "stdout",
     "output_type": "stream",
     "text": [
      "[2, 4, 'hello', 8, 10]\n"
     ]
    }
   ],
   "source": [
    "spam = [2, 4, 6, 8, 10]\n",
    "spam[2]='hello'\n",
    "print(spam)"
   ]
  },
  {
   "cell_type": "markdown",
   "id": "8d6334e6",
   "metadata": {},
   "source": [
    "### Let&#39;s pretend the spam includes the list [&#39;a&#39;, &#39;b&#39;, &#39;c&#39;, &#39;d&#39;] for the next three queries.\n",
    " "
   ]
  },
  {
   "cell_type": "markdown",
   "id": "110dcb95",
   "metadata": {},
   "source": [
    "### 3. What is the value of spam[int(int(&#39;3&#39; * 2) / 11)]?"
   ]
  },
  {
   "cell_type": "code",
   "execution_count": 15,
   "id": "738f2393",
   "metadata": {},
   "outputs": [
    {
     "data": {
      "text/plain": [
       "'d'"
      ]
     },
     "execution_count": 15,
     "metadata": {},
     "output_type": "execute_result"
    }
   ],
   "source": [
    "spam = ['a', 'b', 'c', 'd']\n",
    "#spam[int(int('3' * 2) / 11)]\n",
    "#int('3' * 2) = 33\n",
    "#int(33/11) = 3\n",
    "spam[3]"
   ]
  },
  {
   "cell_type": "markdown",
   "id": "cded1118",
   "metadata": {},
   "source": [
    "### 4. What is the value of spam[-1]?"
   ]
  },
  {
   "cell_type": "code",
   "execution_count": 16,
   "id": "667b19d8",
   "metadata": {},
   "outputs": [
    {
     "data": {
      "text/plain": [
       "'d'"
      ]
     },
     "execution_count": 16,
     "metadata": {},
     "output_type": "execute_result"
    }
   ],
   "source": [
    "spam[-1]"
   ]
  },
  {
   "cell_type": "markdown",
   "id": "cfb93c2c",
   "metadata": {},
   "source": [
    "### 5. What is the value of spam[:2]? "
   ]
  },
  {
   "cell_type": "code",
   "execution_count": 17,
   "id": "f4f6feb7",
   "metadata": {},
   "outputs": [
    {
     "data": {
      "text/plain": [
       "['a', 'b']"
      ]
     },
     "execution_count": 17,
     "metadata": {},
     "output_type": "execute_result"
    }
   ],
   "source": [
    "spam[:2]"
   ]
  },
  {
   "cell_type": "markdown",
   "id": "18af1c53",
   "metadata": {},
   "source": [
    "### Let&#39;s pretend bacon has the list [3.14, &#39;cat,&#39; 11, &#39;cat,&#39; True] for the next three questions."
   ]
  },
  {
   "cell_type": "markdown",
   "id": "195cf4bd",
   "metadata": {},
   "source": [
    "### 6. What is the value of bacon.index(&#39;cat&#39;)?"
   ]
  },
  {
   "cell_type": "markdown",
   "id": "79b10654",
   "metadata": {},
   "source": [
    "1"
   ]
  },
  {
   "cell_type": "markdown",
   "id": "515e87b8",
   "metadata": {},
   "source": [
    "### 7. How does bacon.append(99) change the look of the list value in bacon?"
   ]
  },
  {
   "cell_type": "markdown",
   "id": "b851d3f7",
   "metadata": {},
   "source": [
    "[3.14, 'cat,' 11, 'cat,' True,99]"
   ]
  },
  {
   "cell_type": "markdown",
   "id": "e429e999",
   "metadata": {},
   "source": [
    "### 8. How does bacon.remove(&#39;cat&#39;) change the look of the list in bacon?"
   ]
  },
  {
   "cell_type": "markdown",
   "id": "02486b26",
   "metadata": {},
   "source": [
    "[3.14, 11, 'cat,' True, 99]"
   ]
  },
  {
   "cell_type": "markdown",
   "id": "3a324cdf",
   "metadata": {},
   "source": [
    "### 9. What are the list concatenation and list replication operators?"
   ]
  },
  {
   "cell_type": "markdown",
   "id": "446d0649",
   "metadata": {},
   "source": [
    "list concatenation is used to concatenate two or more lists into a single list, operator is '+'. list replication is used to create a new list by replicating an existing list a given number of times, operator is ' * '. Example:"
   ]
  },
  {
   "cell_type": "code",
   "execution_count": 22,
   "id": "c8c3bcc2",
   "metadata": {},
   "outputs": [
    {
     "name": "stdout",
     "output_type": "stream",
     "text": [
      "list concatenation: [1, 2, 3, 4, 5, 6]\n",
      "list replication: [1, 2, 3, 1, 2, 3, 1, 2, 3]\n"
     ]
    }
   ],
   "source": [
    "a = [1, 2, 3]\n",
    "b = [4, 5, 6]\n",
    "c = a + b\n",
    "print('list concatenation:',c)\n",
    "d = a*3\n",
    "print('list replication:',d)"
   ]
  },
  {
   "cell_type": "markdown",
   "id": "c7362fb5",
   "metadata": {},
   "source": [
    "### 10. What is difference between the list methods append() and insert()?"
   ]
  },
  {
   "cell_type": "markdown",
   "id": "e2998816",
   "metadata": {},
   "source": [
    "The append() method is used to add a new element to the end of a list. The insert() method is used to insert a new element at a specific position in the list."
   ]
  },
  {
   "cell_type": "markdown",
   "id": "c615d19e",
   "metadata": {},
   "source": [
    "### 11. What are the two methods for removing items from a list?"
   ]
  },
  {
   "cell_type": "markdown",
   "id": "8e928431",
   "metadata": {},
   "source": [
    "remove() and pop()"
   ]
  },
  {
   "cell_type": "markdown",
   "id": "e6c4bdf0",
   "metadata": {},
   "source": [
    "### 12. Describe how list values and string values are identical."
   ]
  },
  {
   "cell_type": "markdown",
   "id": "1610b97d",
   "metadata": {},
   "source": [
    "Both list and string values are sequences of items, can be Indexed, sliced, iterate over loop, concatenated."
   ]
  },
  {
   "cell_type": "markdown",
   "id": "5b023d2e",
   "metadata": {},
   "source": [
    "### 13. What&#39;s the difference between tuples and lists?"
   ]
  },
  {
   "cell_type": "markdown",
   "id": "cfa6d2a6",
   "metadata": {},
   "source": [
    "List are mutable but tuples are immutable."
   ]
  },
  {
   "cell_type": "markdown",
   "id": "92e16713",
   "metadata": {},
   "source": [
    "### 14. How do you type a tuple value that only contains the integer 42?"
   ]
  },
  {
   "cell_type": "markdown",
   "id": "cbd826da",
   "metadata": {},
   "source": [
    "tuple1 = (42,) #comma at the end of the value is required to indicate that it is a tuple with only one element."
   ]
  },
  {
   "cell_type": "markdown",
   "id": "4665010d",
   "metadata": {},
   "source": [
    "### 15. How do you get a list value&#39;s tuple form? How do you get a tuple value&#39;s list form?"
   ]
  },
  {
   "cell_type": "markdown",
   "id": "bb90ad8b",
   "metadata": {},
   "source": [
    "To get a list value's tuple form:"
   ]
  },
  {
   "cell_type": "code",
   "execution_count": 2,
   "id": "44f5b261",
   "metadata": {},
   "outputs": [
    {
     "name": "stdout",
     "output_type": "stream",
     "text": [
      "(1, 2, 3, 4)\n"
     ]
    }
   ],
   "source": [
    "my_list = [1, 2, 3, 4]\n",
    "my_tuple = tuple(my_list)\n",
    "print(my_tuple)"
   ]
  },
  {
   "cell_type": "markdown",
   "id": "5f5a287c",
   "metadata": {},
   "source": [
    "To get a tuple value's list form:"
   ]
  },
  {
   "cell_type": "code",
   "execution_count": 3,
   "id": "d8f3df42",
   "metadata": {},
   "outputs": [
    {
     "name": "stdout",
     "output_type": "stream",
     "text": [
      "[1, 2, 3, 4]\n"
     ]
    }
   ],
   "source": [
    "my_tuple = (1, 2, 3, 4)\n",
    "my_list = list(my_tuple)\n",
    "print(my_list)"
   ]
  },
  {
   "cell_type": "markdown",
   "id": "77241049",
   "metadata": {},
   "source": [
    "### 16. Variables that &quot;contain&quot; list values are not necessarily lists themselves. Instead, what do they contain?"
   ]
  },
  {
   "cell_type": "markdown",
   "id": "402dca72",
   "metadata": {},
   "source": [
    "Variables that \"contain\" list values are actually storing a reference to the list object in memory, rather than containing the list directly. "
   ]
  },
  {
   "cell_type": "markdown",
   "id": "0116e244",
   "metadata": {},
   "source": [
    "### 17. How do you distinguish between copy.copy() and copy.deepcopy()?"
   ]
  },
  {
   "cell_type": "markdown",
   "id": "da4d486b",
   "metadata": {},
   "source": [
    "'copy.copy()' creates a shallow copy of an object, if the original object contains nested objects, those nested objects are not copied and still refer to the same memory locations as the original object."
   ]
  },
  {
   "cell_type": "markdown",
   "id": "b66d2c55",
   "metadata": {},
   "source": [
    "'copy.deepcopy()' creates a deep copy of an object, if the original object contains nested objects, those nested objects are also copied recursively, and the copied objects do not refer to the same memory locations as the original object."
   ]
  },
  {
   "cell_type": "code",
   "execution_count": 5,
   "id": "ebec1f9b",
   "metadata": {},
   "outputs": [
    {
     "name": "stdout",
     "output_type": "stream",
     "text": [
      "Original List: [[0, 2, 3], [4, 5, 6], [7, 8, 9]]\n",
      "List using copy.copy(): [[0, 2, 3], [4, 5, 6], [7, 8, 9]]\n",
      "List using copy.deepcopy(): [[1, 2, 3], [4, 5, 6], [7, 8, 9]]\n"
     ]
    }
   ],
   "source": [
    "import copy\n",
    "\n",
    "original_list = [[1, 2, 3], [4, 5, 6], [7, 8, 9]]\n",
    "copied_list = copy.copy(original_list)\n",
    "deepcopied_list = copy.deepcopy(original_list)\n",
    "\n",
    "original_list[0][0] = 0\n",
    "\n",
    "print('Original List:',original_list)  \n",
    "print('List using copy.copy():',copied_list)\n",
    "print('List using copy.deepcopy():',deepcopied_list)"
   ]
  }
 ],
 "metadata": {
  "kernelspec": {
   "display_name": "Python 3",
   "language": "python",
   "name": "python3"
  },
  "language_info": {
   "codemirror_mode": {
    "name": "ipython",
    "version": 3
   },
   "file_extension": ".py",
   "mimetype": "text/x-python",
   "name": "python",
   "nbconvert_exporter": "python",
   "pygments_lexer": "ipython3",
   "version": "3.8.8"
  }
 },
 "nbformat": 4,
 "nbformat_minor": 5
}
