{
 "cells": [
  {
   "cell_type": "markdown",
   "id": "335ed50b",
   "metadata": {},
   "source": [
    "# Programming Assignment_8"
   ]
  },
  {
   "cell_type": "markdown",
   "id": "8af7959e",
   "metadata": {},
   "source": [
    "#### 1. Write a Python Program to Add Two Matrices?"
   ]
  },
  {
   "cell_type": "code",
   "execution_count": 1,
   "id": "0bfe20a6",
   "metadata": {},
   "outputs": [
    {
     "name": "stdout",
     "output_type": "stream",
     "text": [
      "Enter the number of rows: 2\n",
      "Enter the number of columns: 2\n",
      "Enter the elements of matrix 1:\n",
      "Enter element at position (1,1): 1\n",
      "Enter element at position (1,2): 2\n",
      "Enter element at position (2,1): 3\n",
      "Enter element at position (2,2): 4\n",
      "Enter the elements of matrix 2:\n",
      "Enter element at position (1,1): 5\n",
      "Enter element at position (1,2): 6\n",
      "Enter element at position (2,1): 7\n",
      "Enter element at position (2,2): 8\n",
      "[6, 8]\n",
      "[10, 12]\n"
     ]
    }
   ],
   "source": [
    "def add_matrices(matrix1, matrix2):\n",
    "    result = []\n",
    "    for i in range(len(matrix1)):\n",
    "        row = []\n",
    "        for j in range(len(matrix1[0])):\n",
    "            row.append(matrix1[i][j] + matrix2[i][j])\n",
    "        result.append(row)\n",
    "    return result\n",
    "\n",
    "rows = int(input(\"Enter the number of rows: \"))\n",
    "columns = int(input(\"Enter the number of columns: \"))\n",
    "\n",
    "print(\"Enter the elements of matrix 1:\")\n",
    "matrix1 = []\n",
    "for i in range(rows):\n",
    "    row = []\n",
    "    for j in range(columns):\n",
    "        element = int(input(f\"Enter element at position ({i+1},{j+1}): \"))\n",
    "        row.append(element)\n",
    "    matrix1.append(row)\n",
    "\n",
    "print(\"Enter the elements of matrix 2:\")\n",
    "matrix2 = []\n",
    "for i in range(rows):\n",
    "    row = []\n",
    "    for j in range(columns):\n",
    "        element = int(input(f\"Enter element at position ({i+1},{j+1}): \"))\n",
    "        row.append(element)\n",
    "    matrix2.append(row)\n",
    "\n",
    "result = add_matrices(matrix1, matrix2)\n",
    "for row in result:\n",
    "    print(row)"
   ]
  },
  {
   "cell_type": "markdown",
   "id": "8867e603",
   "metadata": {},
   "source": [
    "#### 2. Write a Python Program to Multiply Two Matrices?"
   ]
  },
  {
   "cell_type": "code",
   "execution_count": 3,
   "id": "10f19a8d",
   "metadata": {},
   "outputs": [
    {
     "name": "stdout",
     "output_type": "stream",
     "text": [
      "Enter the number of rows for matrix 1: 2\n",
      "Enter the number of columns for matrix 1: 3\n",
      "Enter the elements of matrix 1:\n",
      "Enter element at position (1,1): 1\n",
      "Enter element at position (1,2): 2\n",
      "Enter element at position (1,3): 3\n",
      "Enter element at position (2,1): 4\n",
      "Enter element at position (2,2): 5\n",
      "Enter element at position (2,3): 6\n",
      "Enter the number of rows for matrix 2: 3\n",
      "Enter the number of columns for matrix 2: 2\n",
      "Enter the elements of matrix 2:\n",
      "Enter element at position (1,1): 9\n",
      "Enter element at position (1,2): 8\n",
      "Enter element at position (2,1): 7\n",
      "Enter element at position (2,2): 6\n",
      "Enter element at position (3,1): 5\n",
      "Enter element at position (3,2): 4\n",
      "[38, 32]\n",
      "[101, 86]\n"
     ]
    }
   ],
   "source": [
    "def multiply_matrices(matrix1, matrix2):\n",
    "    result = []\n",
    "    for i in range(len(matrix1)):\n",
    "        row = []\n",
    "        for j in range(len(matrix2[0])):\n",
    "            element = 0\n",
    "            for k in range(len(matrix2)):\n",
    "                element += matrix1[i][k] * matrix2[k][j]\n",
    "            row.append(element)\n",
    "        result.append(row)\n",
    "    return result\n",
    "\n",
    "# Taking input for matrix 1\n",
    "rows1 = int(input(\"Enter the number of rows for matrix 1: \"))\n",
    "columns1 = int(input(\"Enter the number of columns for matrix 1: \"))\n",
    "\n",
    "print(\"Enter the elements of matrix 1:\")\n",
    "matrix1 = []\n",
    "for i in range(rows1):\n",
    "    row = []\n",
    "    for j in range(columns1):\n",
    "        element = int(input(f\"Enter element at position ({i+1},{j+1}): \"))\n",
    "        row.append(element)\n",
    "    matrix1.append(row)\n",
    "\n",
    "# Taking input for matrix 2\n",
    "rows2 = int(input(\"Enter the number of rows for matrix 2: \"))\n",
    "columns2 = int(input(\"Enter the number of columns for matrix 2: \"))\n",
    "\n",
    "print(\"Enter the elements of matrix 2:\")\n",
    "matrix2 = []\n",
    "for i in range(rows2):\n",
    "    row = []\n",
    "    for j in range(columns2):\n",
    "        element = int(input(f\"Enter element at position ({i+1},{j+1}): \"))\n",
    "        row.append(element)\n",
    "    matrix2.append(row)\n",
    "\n",
    "result = multiply_matrices(matrix1, matrix2)\n",
    "for row in result:\n",
    "    print(row)"
   ]
  },
  {
   "cell_type": "markdown",
   "id": "ef24b12c",
   "metadata": {},
   "source": [
    "#### 3. Write a Python Program to Transpose a Matrix?"
   ]
  },
  {
   "cell_type": "code",
   "execution_count": 4,
   "id": "3576b9b0",
   "metadata": {},
   "outputs": [
    {
     "name": "stdout",
     "output_type": "stream",
     "text": [
      "Enter the number of rows: 3\n",
      "Enter the number of columns: 2\n",
      "Enter the elements of matrix 1:\n",
      "Enter element at position (1,1): 1\n",
      "Enter element at position (1,2): 2\n",
      "Enter element at position (2,1): 3\n",
      "Enter element at position (2,2): 4\n",
      "Enter element at position (3,1): 5\n",
      "Enter element at position (3,2): 6\n",
      "[1, 3, 5]\n",
      "[2, 4, 6]\n"
     ]
    }
   ],
   "source": [
    "def transpose_matrix(matrix):\n",
    "    rows = len(matrix)\n",
    "    columns = len(matrix[0])\n",
    "    result = []\n",
    "    for j in range(columns):\n",
    "        row = []\n",
    "        for i in range(rows):\n",
    "            row.append(matrix[i][j])\n",
    "        result.append(row)\n",
    "    return result\n",
    "\n",
    "rows = int(input(\"Enter the number of rows: \"))\n",
    "columns = int(input(\"Enter the number of columns: \"))\n",
    "\n",
    "print(\"Enter the elements of matrix 1:\")\n",
    "matrix = []\n",
    "for i in range(rows):\n",
    "    row = []\n",
    "    for j in range(columns):\n",
    "        element = int(input(f\"Enter element at position ({i+1},{j+1}): \"))\n",
    "        row.append(element)\n",
    "    matrix.append(row)\n",
    "\n",
    "result = transpose_matrix(matrix)\n",
    "for row in result:\n",
    "    print(row)"
   ]
  },
  {
   "cell_type": "markdown",
   "id": "7c412228",
   "metadata": {},
   "source": [
    "#### 4. Write a Python Program to Sort Words in Alphabetic Order?"
   ]
  },
  {
   "cell_type": "code",
   "execution_count": 5,
   "id": "76e3da52",
   "metadata": {},
   "outputs": [
    {
     "name": "stdout",
     "output_type": "stream",
     "text": [
      "Enter any string to get it sort in alphatic order: my name is rahul singhania and i am 28 year old.\n",
      "28 am and i is my name old. rahul singhania year\n"
     ]
    }
   ],
   "source": [
    "def sort_words(sentence):\n",
    "    words = sentence.split()\n",
    "    words.sort()\n",
    "    return ' '.join(words)\n",
    "\n",
    "sentence = input(\"Enter any string to get it sort in alphatic order: \")\n",
    "sorted_sentence = sort_words(sentence)\n",
    "print(sorted_sentence)"
   ]
  },
  {
   "cell_type": "markdown",
   "id": "a15ce543",
   "metadata": {},
   "source": [
    "#### 5. Write a Python Program to Remove Punctuation From a String?"
   ]
  },
  {
   "cell_type": "code",
   "execution_count": 6,
   "id": "eb87a013",
   "metadata": {},
   "outputs": [
    {
     "name": "stdout",
     "output_type": "stream",
     "text": [
      "Enter string with punctuation: Hello! how are you?\n",
      "Hello how are you\n"
     ]
    }
   ],
   "source": [
    "import string\n",
    "\n",
    "def remove_punctuation(text):\n",
    "    translator = str.maketrans('', '', string.punctuation)\n",
    "    return text.translate(translator)\n",
    "\n",
    "text = input(\"Enter string with punctuation: \")\n",
    "clean_text = remove_punctuation(text)\n",
    "print(clean_text)"
   ]
  }
 ],
 "metadata": {
  "kernelspec": {
   "display_name": "Python 3",
   "language": "python",
   "name": "python3"
  },
  "language_info": {
   "codemirror_mode": {
    "name": "ipython",
    "version": 3
   },
   "file_extension": ".py",
   "mimetype": "text/x-python",
   "name": "python",
   "nbconvert_exporter": "python",
   "pygments_lexer": "ipython3",
   "version": "3.8.8"
  }
 },
 "nbformat": 4,
 "nbformat_minor": 5
}
