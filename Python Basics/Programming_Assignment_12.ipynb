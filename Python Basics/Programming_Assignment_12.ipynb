{
 "cells": [
  {
   "cell_type": "markdown",
   "id": "f673e827",
   "metadata": {},
   "source": [
    "# Programming Assignment_12"
   ]
  },
  {
   "cell_type": "markdown",
   "id": "6fc9d513",
   "metadata": {},
   "source": [
    "#### 1. Write a Python program to Extract Unique values dictionary values?"
   ]
  },
  {
   "cell_type": "code",
   "execution_count": 1,
   "id": "405b5b36",
   "metadata": {},
   "outputs": [
    {
     "name": "stdout",
     "output_type": "stream",
     "text": [
      "{1, 2, 3, 4, 5}\n"
     ]
    }
   ],
   "source": [
    "def extract_unique_values(dictionary):\n",
    "    unique_values = set()\n",
    "    for values in dictionary.values():\n",
    "        if isinstance(values, list):\n",
    "            unique_values.update(values)\n",
    "        else:\n",
    "            unique_values.add(values)\n",
    "    return unique_values\n",
    "\n",
    "dictionary = {'a': [1, 2, 3], 'b': [2, 3, 4], 'c': [3, 4, 5]}\n",
    "unique_values = extract_unique_values(dictionary)\n",
    "print(unique_values)"
   ]
  },
  {
   "cell_type": "markdown",
   "id": "0784ce6b",
   "metadata": {},
   "source": [
    "#### 2. Write a Python program to find the sum of all items in a dictionary?"
   ]
  },
  {
   "cell_type": "code",
   "execution_count": 2,
   "id": "97546152",
   "metadata": {},
   "outputs": [
    {
     "name": "stdout",
     "output_type": "stream",
     "text": [
      "60\n"
     ]
    }
   ],
   "source": [
    "dictionary = {'a': 10, 'b': 20, 'c': 30}\n",
    "total_sum = sum(dictionary.values())\n",
    "print(total_sum)"
   ]
  },
  {
   "cell_type": "markdown",
   "id": "59453c18",
   "metadata": {},
   "source": [
    "#### 3. Write a Python program to Merging two Dictionaries?"
   ]
  },
  {
   "cell_type": "code",
   "execution_count": 3,
   "id": "732c0488",
   "metadata": {},
   "outputs": [
    {
     "name": "stdout",
     "output_type": "stream",
     "text": [
      "{'a': 1, 'b': 2, 'c': 3, 'd': 4}\n"
     ]
    }
   ],
   "source": [
    "def merge_dictionaries(dict1, dict2):\n",
    "    merged_dict = {**dict1, **dict2}\n",
    "    return merged_dict\n",
    "\n",
    "dict1 = {'a': 1, 'b': 2}\n",
    "dict2 = {'c': 3, 'd': 4}\n",
    "merged_dict = merge_dictionaries(dict1, dict2)\n",
    "print(merged_dict)"
   ]
  },
  {
   "cell_type": "markdown",
   "id": "a8901d83",
   "metadata": {},
   "source": [
    "#### 4. Write a Python program to convert key-values list to flat dictionary?"
   ]
  },
  {
   "cell_type": "code",
   "execution_count": 4,
   "id": "4f775cb6",
   "metadata": {},
   "outputs": [
    {
     "name": "stdout",
     "output_type": "stream",
     "text": [
      "{'a': 1, 'b': 2, 'c': 3}\n"
     ]
    }
   ],
   "source": [
    "keys = ['a', 'b', 'c']\n",
    "values = [1, 2, 3]\n",
    "flat_dict = dict(zip(keys, values))\n",
    "print(flat_dict)"
   ]
  },
  {
   "cell_type": "markdown",
   "id": "668b24a5",
   "metadata": {},
   "source": [
    "#### 5. Write a Python program to insertion at the beginning in OrderedDict?"
   ]
  },
  {
   "cell_type": "code",
   "execution_count": 6,
   "id": "061ff835",
   "metadata": {},
   "outputs": [
    {
     "name": "stdout",
     "output_type": "stream",
     "text": [
      "OrderedDict([('x', 0), ('a', 1), ('b', 2), ('c', 3)])\n"
     ]
    }
   ],
   "source": [
    "from collections import OrderedDict\n",
    "\n",
    "def insert_at_beginning(dictionary, key, value):\n",
    "    dictionary.update({key: value})\n",
    "    dictionary.move_to_end(key, last=False)\n",
    "\n",
    "ordered_dict = OrderedDict([('a', 1), ('b', 2), ('c', 3)])\n",
    "insert_at_beginning(ordered_dict, 'x', 0)\n",
    "print(ordered_dict)"
   ]
  },
  {
   "cell_type": "markdown",
   "id": "e9ed6b2f",
   "metadata": {},
   "source": [
    "#### 6. Write a Python program to check order of character in string using OrderedDict()?"
   ]
  },
  {
   "cell_type": "code",
   "execution_count": 7,
   "id": "7c4a613f",
   "metadata": {},
   "outputs": [
    {
     "name": "stdout",
     "output_type": "stream",
     "text": [
      "True\n"
     ]
    }
   ],
   "source": [
    "from collections import OrderedDict\n",
    "\n",
    "def check_order_of_characters(string, pattern):\n",
    "    ordered_dict = OrderedDict.fromkeys(string)\n",
    "    pattern_length = 0\n",
    "    for key in ordered_dict:\n",
    "        if key == pattern[pattern_length]:\n",
    "            pattern_length += 1\n",
    "        if pattern_length == len(pattern):\n",
    "            return True\n",
    "    return False\n",
    "\n",
    "string = \"Hello, World!\"\n",
    "pattern = \"oW\"\n",
    "order_match = check_order_of_characters(string, pattern)\n",
    "print(order_match)"
   ]
  },
  {
   "cell_type": "markdown",
   "id": "ce46994d",
   "metadata": {},
   "source": [
    "#### 7. Write a Python program to sort Python Dictionaries by Key or Value?"
   ]
  },
  {
   "cell_type": "code",
   "execution_count": 9,
   "id": "95e1cb68",
   "metadata": {},
   "outputs": [
    {
     "name": "stdout",
     "output_type": "stream",
     "text": [
      "Enter the number of key-value pairs: 3\n",
      "Enter key 1: c\n",
      "Enter value 1: 2\n",
      "Enter key 2: a\n",
      "Enter value 2: 1\n",
      "Enter key 3: b\n",
      "Enter value 3: 3\n",
      "{'a': '1', 'b': '3', 'c': '2'}\n",
      "{'a': '1', 'c': '2', 'b': '3'}\n"
     ]
    }
   ],
   "source": [
    "def sort_dictionary(dictionary, by_key=True):\n",
    "    sorted_dict = {}\n",
    "    if by_key:\n",
    "        for key in sorted(dictionary.keys()):\n",
    "            sorted_dict[key] = dictionary[key]\n",
    "    else:\n",
    "        for key, value in sorted(dictionary.items(), key=lambda x: x[1]):\n",
    "            sorted_dict[key] = value\n",
    "    return sorted_dict\n",
    "\n",
    "dictionary = {}\n",
    "n = int(input(\"Enter the number of key-value pairs: \"))\n",
    "for i in range(n):\n",
    "    key = input(\"Enter key {}: \".format(i + 1))\n",
    "    value = input(\"Enter value {}: \".format(i + 1))\n",
    "    dictionary[key] = value\n",
    "\n",
    "sorted_by_key = sort_dictionary(dictionary, by_key=True)\n",
    "sorted_by_value = sort_dictionary(dictionary, by_key=False)\n",
    "print(sorted_by_key)\n",
    "print(sorted_by_value)"
   ]
  }
 ],
 "metadata": {
  "kernelspec": {
   "display_name": "Python 3",
   "language": "python",
   "name": "python3"
  },
  "language_info": {
   "codemirror_mode": {
    "name": "ipython",
    "version": 3
   },
   "file_extension": ".py",
   "mimetype": "text/x-python",
   "name": "python",
   "nbconvert_exporter": "python",
   "pygments_lexer": "ipython3",
   "version": "3.8.8"
  }
 },
 "nbformat": 4,
 "nbformat_minor": 5
}
