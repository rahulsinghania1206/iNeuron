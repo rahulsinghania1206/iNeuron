{
 "cells": [
  {
   "cell_type": "markdown",
   "id": "da502e45",
   "metadata": {},
   "source": [
    "# Assignment_10"
   ]
  },
  {
   "cell_type": "markdown",
   "id": "28c2aa01",
   "metadata": {},
   "source": [
    "#### 1. How do you distinguish between shutil.copy() and shutil.copytree()?"
   ]
  },
  {
   "cell_type": "markdown",
   "id": "fe48a08e",
   "metadata": {},
   "source": [
    "**shutil.copy()** is basically used to copy a file and **shutil.copytree()**  is used to copy an entire directory tree to another locaion."
   ]
  },
  {
   "cell_type": "markdown",
   "id": "0df09476",
   "metadata": {},
   "source": [
    "#### 2. What function is used to rename files??"
   ]
  },
  {
   "cell_type": "markdown",
   "id": "df62de0d",
   "metadata": {},
   "source": [
    "Generally we use rename method of os module to rename our files."
   ]
  },
  {
   "cell_type": "code",
   "execution_count": null,
   "id": "d7ce396b",
   "metadata": {},
   "outputs": [],
   "source": [
    "import os\n",
    "os.rename(\"oldFile.txt\",\"newFile.txt\")"
   ]
  },
  {
   "cell_type": "markdown",
   "id": "65994286",
   "metadata": {},
   "source": [
    "#### 3. What is the difference between the delete functions in the send2trash and shutil modules?"
   ]
  },
  {
   "cell_type": "markdown",
   "id": "92d6b2b6",
   "metadata": {},
   "source": [
    "**send2trash** contains snd2trash() function which does not delete our file or directory completely from our system. It sends the file or directory to recyle bin or system trash folder. But **shutil** contains several method like os.remove(), os.unlink(), and shutil.rmtree() and these methods delete the file or directory permanently from the system."
   ]
  },
  {
   "cell_type": "markdown",
   "id": "9681c8ff",
   "metadata": {},
   "source": [
    "#### 4. ZipFile objects have a close() method just like File objects’ close() method. What ZipFile method is equivalent to File objects’ open() method?"
   ]
  },
  {
   "cell_type": "markdown",
   "id": "fa1ea246",
   "metadata": {},
   "source": [
    "ZipFile method equivalent to file object open() is the Zipfie constructor which is used to a new ZipFile object and returns a file object that works as a File object open() method."
   ]
  },
  {
   "cell_type": "markdown",
   "id": "d92184e2",
   "metadata": {},
   "source": [
    "#### 5. Create a programme that searches a folder tree for files with a certain file extension (such as .pdf or .jpg). Copy these files from whatever location they are in to a new folder."
   ]
  },
  {
   "cell_type": "code",
   "execution_count": null,
   "id": "f51a697c",
   "metadata": {},
   "outputs": [],
   "source": [
    "import os\n",
    "import shutil\n",
    "\n",
    "# Function to search for files with a specific extension and copy them to a new folder\n",
    "def search_and_copy_files(src_folder, dst_folder, file_extension):\n",
    "    for foldername, subfolders, filenames in os.walk(src_folder):\n",
    "        for filename in filenames:\n",
    "            if filename.endswith(file_extension):\n",
    "                src_file = os.path.join(foldername, filename)\n",
    "                dst_file = os.path.join(dst_folder, filename)\n",
    "                shutil.copy(src_file, dst_file)\n",
    "                print(f\"File '{filename}' copied to '{dst_folder}'\")\n",
    "\n",
    "# Input folder to search for files\n",
    "src_folder = input(\"Enter the folder path to search for files: \")\n",
    "\n",
    "# Input file extension to search for\n",
    "file_extension = input(\"Enter the file extension to search for (e.g., .pdf, .jpg): \")\n",
    "\n",
    "# Input folder to copy files to\n",
    "dst_folder = input(\"Enter the destination folder path to copy the files: \")\n",
    "\n",
    "# Call the function to search and copy files\n",
    "search_and_copy_files(src_folder, dst_folder, file_extension)\n"
   ]
  }
 ],
 "metadata": {
  "kernelspec": {
   "display_name": "Python 3",
   "language": "python",
   "name": "python3"
  },
  "language_info": {
   "codemirror_mode": {
    "name": "ipython",
    "version": 3
   },
   "file_extension": ".py",
   "mimetype": "text/x-python",
   "name": "python",
   "nbconvert_exporter": "python",
   "pygments_lexer": "ipython3",
   "version": "3.8.8"
  }
 },
 "nbformat": 4,
 "nbformat_minor": 5
}
