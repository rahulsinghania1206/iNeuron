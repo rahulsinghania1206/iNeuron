{
 "cells": [
  {
   "cell_type": "markdown",
   "id": "bd4adf63",
   "metadata": {},
   "source": [
    "# Assignment 22"
   ]
  },
  {
   "cell_type": "markdown",
   "id": "e58bb1ad",
   "metadata": {},
   "source": [
    "#### 1. What is the result of the code, and explain?\n",
    "&gt;&gt;&gt; X = &#39;iNeuron&#39;<br>\n",
    "&gt;&gt;&gt; def func():<br>\n",
    "print(X)\n",
    "\n",
    "&gt;&gt;&gt; func()"
   ]
  },
  {
   "cell_type": "markdown",
   "id": "e1d30860",
   "metadata": {},
   "source": [
    "Result: iNeuron"
   ]
  },
  {
   "cell_type": "markdown",
   "id": "f63428c8",
   "metadata": {},
   "source": [
    "The code defines a variable X with the value 'iNeuron', and a function func() that simply prints the value of X. When the function is called using func(), it will print the value of X, which is 'iNeuron'."
   ]
  },
  {
   "cell_type": "markdown",
   "id": "20111d37",
   "metadata": {},
   "source": [
    "#### 2. What is the result of the code, and explain?\n",
    "\n",
    "&gt;&gt;&gt; X = &#39;iNeuron&#39;<br>\n",
    "&gt;&gt;&gt; def func():<br>\n",
    "X = &#39;NI!&#39;<br>\n",
    "\n",
    "&gt;&gt;&gt; func()<br>\n",
    "&gt;&gt;&gt; print(X)"
   ]
  },
  {
   "cell_type": "markdown",
   "id": "70b4d311",
   "metadata": {},
   "source": [
    "**Result:** iNeuron"
   ]
  },
  {
   "cell_type": "markdown",
   "id": "99fe8f3f",
   "metadata": {},
   "source": [
    "When the function is called using func(), it sets the value of X to 'NI!' but does not return anything or print any output.\n",
    "\n",
    "After the function call, the value of X is still 'iNeuron' because the variable X inside the function func() is a local variable that only exists within the function's scope. The print(X) statement outside the function therefore outputs the original value of X, which is 'iNeuron'."
   ]
  },
  {
   "cell_type": "markdown",
   "id": "3886ecd7",
   "metadata": {},
   "source": [
    "#### 3. What does this code print, and why?\n",
    "&gt;&gt;&gt; X = &#39;iNeuron&#39;<br>\n",
    "&gt;&gt;&gt; def func():<br>\n",
    "X = &#39;NI&#39;<br>\n",
    "print(X)<br>\n",
    "\n",
    "&gt;&gt;&gt; func()<br>\n",
    "&gt;&gt;&gt; print(X)"
   ]
  },
  {
   "cell_type": "markdown",
   "id": "1ad3e977",
   "metadata": {},
   "source": [
    "**Result:** <br>\n",
    "NI<br>\n",
    "iNeuron<br>\n",
    "When the function is called using func(), it sets the value of X to 'NI!' and then prints it, which outputs 'NI'. However, this X is a local variable that only exists within the scope of the function func().\n",
    "\n",
    "After the function call, the value of X is still 'iNeuron' because the variable X inside the function func() is a local variable that only exists within the function's scope. The print(X) statement outside the function therefore outputs the original value of X, which is 'iNeuron'."
   ]
  },
  {
   "cell_type": "markdown",
   "id": "9d36eafc",
   "metadata": {},
   "source": [
    "#### 4. What output does this code produce? Why?\n",
    "&gt;&gt;&gt; X = &#39;iNeuron&#39;<br>\n",
    "&gt;&gt;&gt; def func():<br>\n",
    "global X<br>\n",
    "X = &#39;NI&#39;<br>\n",
    "\n",
    "&gt;&gt;&gt; func()<br>\n",
    "&gt;&gt;&gt; print(X)"
   ]
  },
  {
   "cell_type": "markdown",
   "id": "e9e75223",
   "metadata": {},
   "source": [
    "**Result:** <br>\n",
    "NI<br>\n",
    "NI<br>\n",
    "When the function is called using func(), it sets the value of the global variable X to 'NI'.\n",
    "\n",
    "After the function call, the value of X is 'NI' because X is a global variable, which means the assignment inside the function has modified the value of the variable outside the function. The print(X) statement therefore outputs 'NI'."
   ]
  },
  {
   "cell_type": "markdown",
   "id": "6f2890ab",
   "metadata": {},
   "source": [
    "#### 5. What about this code—what’s the output, and why?\n",
    "&gt;&gt;&gt; X = &#39;iNeuron&#39;<br>\n",
    "&gt;&gt;&gt; def func():<br>\n",
    "X = &#39;NI&#39;<br>\n",
    "def nested():<br>\n",
    "print(X)<br>\n",
    "nested()<br>\n",
    "\n",
    "&gt;&gt;&gt; func()<br>\n",
    "&gt;&gt;&gt; X"
   ]
  },
  {
   "cell_type": "markdown",
   "id": "9ed2cc09",
   "metadata": {},
   "source": [
    "**Result:** <br>\n",
    "NI<br>\n",
    "iNeuron<br>\n",
    "After the function call, the value of X is still 'iNeuron' because the assignment inside the function func() only affects the local variable X within the function's scope.\n",
    "\n",
    "When we call the nested function nested() using func(), it prints the value of X, which is the value of the local variable X in the outer function func(), which is 'NI'.\n",
    "\n",
    "Finally, when we print the value of X after the function call using print(X), it outputs the original value of X, which is 'iNeuron'."
   ]
  },
  {
   "cell_type": "markdown",
   "id": "a90cf3a7",
   "metadata": {},
   "source": [
    "#### 6. How about this code: what is its output in Python 3, and explain?\n",
    "&gt;&gt;&gt; def func():<br>\n",
    "X = &#39;NI&#39;<br>\n",
    "def nested():<br>\n",
    "nonlocal X<br>\n",
    "X = &#39;Spam&#39;<br>\n",
    "nested()<br>\n",
    "print(X)<br>\n",
    "\n",
    "&gt;&gt;&gt; func()<br>"
   ]
  },
  {
   "cell_type": "markdown",
   "id": "e2edbc01",
   "metadata": {},
   "source": [
    "**Result:** <br>\n",
    "Spam<br>\n",
    "The nested function nested() uses the nonlocal keyword to indicate that X refers to the variable X in the outer function's scope, rather than defining a new local variable. It then sets the value of X to 'Spam'.\n",
    "\n",
    "When the function func() is called, it defines a local variable X with the value 'NI', and then calls the nested function nested(), which sets the value of the nonlocal variable X to 'Spam'.\n",
    "\n",
    "After the function call, the value of X is 'Spam' because the nested function nested() modified the nonlocal variable X. The print(X) statement therefore outputs 'Spam'."
   ]
  },
  {
   "cell_type": "code",
   "execution_count": null,
   "id": "1ce60e08",
   "metadata": {},
   "outputs": [],
   "source": []
  }
 ],
 "metadata": {
  "kernelspec": {
   "display_name": "Python 3",
   "language": "python",
   "name": "python3"
  },
  "language_info": {
   "codemirror_mode": {
    "name": "ipython",
    "version": 3
   },
   "file_extension": ".py",
   "mimetype": "text/x-python",
   "name": "python",
   "nbconvert_exporter": "python",
   "pygments_lexer": "ipython3",
   "version": "3.8.8"
  }
 },
 "nbformat": 4,
 "nbformat_minor": 5
}
