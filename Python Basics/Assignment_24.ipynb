{
 "cells": [
  {
   "cell_type": "markdown",
   "id": "e4f1a849",
   "metadata": {},
   "source": [
    "# Assignment 24"
   ]
  },
  {
   "cell_type": "markdown",
   "id": "ba3a704f",
   "metadata": {},
   "source": [
    "#### 1. What is the relationship between def statements and lambda expressions ?"
   ]
  },
  {
   "cell_type": "markdown",
   "id": "b8d8c0d1",
   "metadata": {},
   "source": [
    "**def** statements are used for more complex functions that require multiple lines of code or that need to be used repeatedly in a program, while **lambda** expressions are used for simpler functions that can be defined on the fly and used in a more limited scope."
   ]
  },
  {
   "cell_type": "markdown",
   "id": "56899fab",
   "metadata": {},
   "source": [
    "#### 2. What is the benefit of lambda?"
   ]
  },
  {
   "cell_type": "markdown",
   "id": "44e02f00",
   "metadata": {},
   "source": [
    "It has ability to create small, anonymous functions quickly and easily.\n",
    "1. Concise code: lambda expressions allow you to define a function in a single line of code, making the code more concise and easier to read.\n",
    "2. Reduced complexity: Because lambda expressions are anonymous, they don't require a separate name or function definition.\n",
    "3. Higher-order functions: lambda expressions are often used with higher-order functions, such as map, filter, and reduce, which take functions as arguments. This allows you to write more flexible and reusable code."
   ]
  },
  {
   "cell_type": "markdown",
   "id": "0e86ef6f",
   "metadata": {},
   "source": [
    "#### 3. Compare and contrast map, filter, and reduce."
   ]
  },
  {
   "cell_type": "markdown",
   "id": "4fcb18d9",
   "metadata": {},
   "source": [
    "map, filter, and reduce are three built-in functions in Python that are commonly used for processing iterable data structures such as lists, tuples, and sets."
   ]
  },
  {
   "cell_type": "markdown",
   "id": "540fdd91",
   "metadata": {},
   "source": [
    "**map:**<br>\n",
    "map applies a given function to each item in an iterable and returns a new iterable with the transformed values.<br>\n",
    "It takes two arguments: the first argument is the function to apply, and the second argument is the iterable to apply the function to."
   ]
  },
  {
   "cell_type": "code",
   "execution_count": 1,
   "id": "0a7c1bc7",
   "metadata": {},
   "outputs": [
    {
     "name": "stdout",
     "output_type": "stream",
     "text": [
      "[2, 4, 6, 8]\n"
     ]
    }
   ],
   "source": [
    "my_list = [1, 2, 3, 4]\n",
    "new_list = list(map(lambda x: x*2, my_list))\n",
    "print(new_list)"
   ]
  },
  {
   "cell_type": "markdown",
   "id": "704fb901",
   "metadata": {},
   "source": [
    "**filter:**<br>\n",
    "filter applies a given function to each item in an iterable and returns a new iterable containing only the items for which the function returns True.<br>\n",
    "It also takes two arguments."
   ]
  },
  {
   "cell_type": "code",
   "execution_count": 2,
   "id": "993eeca3",
   "metadata": {},
   "outputs": [
    {
     "name": "stdout",
     "output_type": "stream",
     "text": [
      "[2, 4]\n"
     ]
    }
   ],
   "source": [
    "my_list = [1, 2, 3, 4]\n",
    "new_list = list(filter(lambda x: x % 2 == 0, my_list))\n",
    "print(new_list)"
   ]
  },
  {
   "cell_type": "markdown",
   "id": "2f42a14a",
   "metadata": {},
   "source": [
    "**reduce:**\n",
    "reduce applies a given function to the items in an iterable, reducing them to a single value.<br>\n",
    "It also takes two arguments.\n"
   ]
  },
  {
   "cell_type": "code",
   "execution_count": 3,
   "id": "664550d1",
   "metadata": {},
   "outputs": [
    {
     "name": "stdout",
     "output_type": "stream",
     "text": [
      "10\n"
     ]
    }
   ],
   "source": [
    "from functools import reduce\n",
    "my_list = [1, 2, 3, 4]\n",
    "result = reduce(lambda x, y: x + y, my_list)\n",
    "print(result)"
   ]
  },
  {
   "cell_type": "markdown",
   "id": "6ea25e9b",
   "metadata": {},
   "source": [
    "#### 4. What are function annotations, and how are they used?"
   ]
  },
  {
   "cell_type": "markdown",
   "id": "34f2bf2a",
   "metadata": {},
   "source": [
    "Function annotations are a feature that allow you to add arbitrary metadata to function arguments and return values. They are optional and do not affect the runtime behavior of the function. Instead, they provide additional information that can be used by tools such as type checkers, documentation generators, and code analysis tools.<br>\n",
    "Function annotations are expressed using a colon and the type or expression that you want to annotate. You can annotate arguments, return values, and even variables within the function body."
   ]
  },
  {
   "cell_type": "code",
   "execution_count": 4,
   "id": "895d09a0",
   "metadata": {},
   "outputs": [
    {
     "name": "stdout",
     "output_type": "stream",
     "text": [
      "Hello, Rahul! You are 28 years old.\n"
     ]
    }
   ],
   "source": [
    "def greet(name: str, age: int) -> str:\n",
    "    return f\"Hello, {name}! You are {age} years old.\"\n",
    "\n",
    "print(greet(\"Rahul\", 28))"
   ]
  },
  {
   "cell_type": "markdown",
   "id": "bbf2704a",
   "metadata": {},
   "source": [
    "#### 5. What are recursive functions, and how are they used?"
   ]
  },
  {
   "cell_type": "markdown",
   "id": "ffda7a04",
   "metadata": {},
   "source": [
    "A recursive function is a function that calls itself, either directly or indirectly, in order to solve a problem. It break down a problem into smaller subproblems, solve each subproblem recursively, and then combine the solutions to the subproblems to obtain a solution to the original problem.<br>\n",
    "Recursive functions can be used to solve a variety of problems, including searching and sorting algorithms, tree and graph traversal, and many other applications."
   ]
  },
  {
   "cell_type": "code",
   "execution_count": 8,
   "id": "19c39bcb",
   "metadata": {},
   "outputs": [
    {
     "name": "stdout",
     "output_type": "stream",
     "text": [
      "Factorial of:5\n",
      "120\n"
     ]
    }
   ],
   "source": [
    "def factorial(n):\n",
    "    if n == 0:\n",
    "        return 1\n",
    "    else:\n",
    "        return n * factorial(n-1)\n",
    "x = int(input(\"Factorial of:\"))\n",
    "print(factorial(x))"
   ]
  },
  {
   "cell_type": "markdown",
   "id": "0ed9a13e",
   "metadata": {},
   "source": [
    "#### 6. What are some general design guidelines for coding functions?"
   ]
  },
  {
   "cell_type": "markdown",
   "id": "95d46fcd",
   "metadata": {},
   "source": [
    "1. Keep functions small\n",
    "2. Use descriptive and meaningful names\n",
    "3. Use consistent naming conventions\n",
    "4. Use comments to explain complex code\n",
    "5. Avoid global variables\n",
    "6. Use default arguments\n",
    "7. Write testable code"
   ]
  },
  {
   "cell_type": "markdown",
   "id": "c43839d3",
   "metadata": {},
   "source": [
    "#### 7. Name three or more ways that functions can communicate results to a caller."
   ]
  },
  {
   "cell_type": "markdown",
   "id": "000dd835",
   "metadata": {},
   "source": [
    "1. Return statement: Functions can use the return statement to send a value or object back to the caller.\n",
    "2. Output parameters: Functions can use output parameters to communicate results back to the caller. Output parameters are typically passed in as arguments to the function, and the function modifies their values to reflect the results of its computation.\n",
    "3. Exceptions: Functions can raise exceptions to indicate an error or exceptional condition to the caller. This approach is commonly used to handle errors.\n",
    "4. Side effects: Functions can also communicate results to the caller through side effects, which occur when the function modifies the state of an object or variable outside of its own scope."
   ]
  }
 ],
 "metadata": {
  "kernelspec": {
   "display_name": "Python 3",
   "language": "python",
   "name": "python3"
  },
  "language_info": {
   "codemirror_mode": {
    "name": "ipython",
    "version": 3
   },
   "file_extension": ".py",
   "mimetype": "text/x-python",
   "name": "python",
   "nbconvert_exporter": "python",
   "pygments_lexer": "ipython3",
   "version": "3.8.8"
  }
 },
 "nbformat": 4,
 "nbformat_minor": 5
}
