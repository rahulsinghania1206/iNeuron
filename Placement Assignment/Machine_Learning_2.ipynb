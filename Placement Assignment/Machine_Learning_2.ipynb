{
 "cells": [
  {
   "cell_type": "markdown",
   "id": "3a31d2ec",
   "metadata": {},
   "source": [
    "#### Answer 5"
   ]
  },
  {
   "cell_type": "code",
   "execution_count": 4,
   "id": "5224dade",
   "metadata": {},
   "outputs": [
    {
     "name": "stdout",
     "output_type": "stream",
     "text": [
      "Mean Squared Error: 87.18083714909837\n"
     ]
    }
   ],
   "source": [
    "import pandas as pd\n",
    "from sklearn.cluster import KMeans\n",
    "from sklearn.model_selection import train_test_split\n",
    "from sklearn.linear_model import LinearRegression\n",
    "from sklearn.metrics import mean_squared_error\n",
    "import folium\n",
    "\n",
    "# Load the dataset\n",
    "data = pd.read_csv('rideshare_kaggle.csv')\n",
    "\n",
    "# Check if the dataset is empty or missing\n",
    "if data.empty:\n",
    "    print(\"Error: Dataset is empty or missing.\")\n",
    "    exit()\n",
    "\n",
    "# Preprocess the dataset\n",
    "data = data[['price', 'latitude', 'longitude']]  # Select relevant columns\n",
    "\n",
    "# Drop rows with missing values\n",
    "data = data.dropna()\n",
    "\n",
    "# Perform unsupervised learning for high booking area prediction\n",
    "kmeans = KMeans(n_clusters=5, random_state=42)\n",
    "data['booking_area_cluster'] = kmeans.fit_predict(data[['latitude', 'longitude']])\n",
    "\n",
    "# Perform supervised learning for price prediction\n",
    "X = data.drop(['price', 'booking_area_cluster'], axis=1)\n",
    "y = data['price']\n",
    "X_train, X_test, y_train, y_test = train_test_split(X, y, test_size=0.2, random_state=42)\n",
    "linear_regression = LinearRegression()\n",
    "linear_regression.fit(X_train, y_train)\n",
    "y_pred = linear_regression.predict(X_test)\n",
    "mse = mean_squared_error(y_test, y_pred)\n",
    "print(\"Mean Squared Error:\", mse)\n",
    "\n",
    "# Create a map\n",
    "m = folium.Map(location=[data['latitude'].mean(), data['longitude'].mean()], zoom_start=10)\n",
    "\n",
    "# Add markers for high booking areas\n",
    "for index, row in data.iterrows():\n",
    "    if row['booking_area_cluster'] == 0:\n",
    "        color = 'blue'\n",
    "    elif row['booking_area_cluster'] == 1:\n",
    "        color = 'green'\n",
    "    elif row['booking_area_cluster'] == 2:\n",
    "        color = 'red'\n",
    "    elif row['booking_area_cluster'] == 3:\n",
    "        color = 'orange'\n",
    "    else:\n",
    "        color = 'purple'\n",
    "    folium.Marker(location=[row['latitude'], row['longitude']], icon=folium.Icon(color=color)).add_to(m)\n",
    "\n",
    "# Display the map\n",
    "m.save('booking_areas_map.html')"
   ]
  },
  {
   "cell_type": "markdown",
   "id": "f5f382bf",
   "metadata": {},
   "source": [
    "#### Answer 7"
   ]
  },
  {
   "cell_type": "code",
   "execution_count": 7,
   "id": "b924105e",
   "metadata": {},
   "outputs": [
    {
     "name": "stdout",
     "output_type": "stream",
     "text": [
      "Silhouette Score: 0.4589073526363415\n",
      " * Serving Flask app \"__main__\" (lazy loading)\n",
      " * Environment: production\n",
      "   WARNING: This is a development server. Do not use it in a production deployment.\n",
      "   Use a production WSGI server instead.\n",
      " * Debug mode: on\n"
     ]
    },
    {
     "name": "stderr",
     "output_type": "stream",
     "text": [
      " * Restarting with windowsapi reloader\n"
     ]
    },
    {
     "ename": "SystemExit",
     "evalue": "1",
     "output_type": "error",
     "traceback": [
      "An exception has occurred, use %tb to see the full traceback.\n",
      "\u001b[1;31mSystemExit\u001b[0m\u001b[1;31m:\u001b[0m 1\n"
     ]
    },
    {
     "name": "stderr",
     "output_type": "stream",
     "text": [
      "C:\\Users\\sin90\\anaconda3\\lib\\site-packages\\IPython\\core\\interactiveshell.py:3445: UserWarning: To exit: use 'exit', 'quit', or Ctrl-D.\n",
      "  warn(\"To exit: use 'exit', 'quit', or Ctrl-D.\", stacklevel=1)\n"
     ]
    }
   ],
   "source": [
    "import pandas as pd\n",
    "from sklearn.cluster import KMeans\n",
    "from sklearn.metrics import silhouette_score\n",
    "import matplotlib.pyplot as plt\n",
    "from flask import Flask, render_template\n",
    "\n",
    "# Step 1: Load the dataset\n",
    "data = pd.read_csv('data.csv')\n",
    "\n",
    "# Step 2: Preprocess the data (if necessary)\n",
    "\n",
    "# Remove the 'filename' column\n",
    "data = data.drop('filename', axis=1)\n",
    "\n",
    "# Step 3: Apply unsupervised algorithm\n",
    "X = data.drop('label', axis=1)  # Features\n",
    "y = data['label']  # Labels (if available)\n",
    "\n",
    "# Example: Using K-means clustering\n",
    "k = 5  # Number of clusters\n",
    "kmeans = KMeans(n_clusters=k)\n",
    "kmeans.fit(X)\n",
    "\n",
    "# Step 4: Fit the model\n",
    "\n",
    "# Step 5: Obtain cluster assignments or reduced-dimensional representations\n",
    "cluster_labels = kmeans.labels_\n",
    "\n",
    "# Step 6: Evaluate accuracy or quality of clusters\n",
    "silhouette_avg = silhouette_score(X, cluster_labels)\n",
    "\n",
    "print(\"Silhouette Score:\", silhouette_avg)\n",
    "\n",
    "# Step 7: Display results in the frontend\n",
    "app = Flask(__name__)\n",
    "\n",
    "@app.route('/')\n",
    "def home():\n",
    "    return render_template('index.html', labels=cluster_labels)\n",
    "\n",
    "if __name__ == '__main__':\n",
    "    app.run(debug=True)"
   ]
  }
 ],
 "metadata": {
  "kernelspec": {
   "display_name": "Python 3",
   "language": "python",
   "name": "python3"
  },
  "language_info": {
   "codemirror_mode": {
    "name": "ipython",
    "version": 3
   },
   "file_extension": ".py",
   "mimetype": "text/x-python",
   "name": "python",
   "nbconvert_exporter": "python",
   "pygments_lexer": "ipython3",
   "version": "3.8.8"
  }
 },
 "nbformat": 4,
 "nbformat_minor": 5
}
