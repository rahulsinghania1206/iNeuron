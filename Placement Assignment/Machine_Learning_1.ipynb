{
 "cells": [
  {
   "cell_type": "markdown",
   "id": "f88353bf",
   "metadata": {},
   "source": [
    "# Machine Learning"
   ]
  },
  {
   "cell_type": "markdown",
   "id": "fc402a85",
   "metadata": {},
   "source": [
    "#### Q-1. Imagine you have a dataset where you have different Instagram features like u sername , Caption , Hashtag , Followers , Time_Since_posted , and likes , now your task is to predict the number of likes and Time Since posted and the rest of the features are your input features. Now you have to build a model which can predict the number of likes and Time Since posted. This is the Dataset You can use this dataset for this question.\n",
    "Dataset-https://www.kaggle.com/datasets/rxsraghavagrawal/instagram-reach?resource=download"
   ]
  },
  {
   "cell_type": "code",
   "execution_count": 3,
   "id": "8e0fa828",
   "metadata": {},
   "outputs": [
    {
     "name": "stdout",
     "output_type": "stream",
     "text": [
      "Mean Squared Error (MSE): 1038.0575042696987\n",
      "Mean Absolute Error (MAE): 22.718871322012863\n",
      "R-squared Score: 0.2677501640806921\n"
     ]
    },
    {
     "data": {
      "text/plain": [
       "['likes_prediction_model.pkl']"
      ]
     },
     "execution_count": 3,
     "metadata": {},
     "output_type": "execute_result"
    }
   ],
   "source": [
    "import pandas as pd\n",
    "\n",
    "data = pd.read_csv('instagram_reach.csv')\n",
    "\n",
    "from sklearn.model_selection import train_test_split\n",
    "\n",
    "# Split the dataset into training and testing sets\n",
    "X = pd.get_dummies(data[['USERNAME', 'Caption', 'Hashtags', 'Followers', 'Time since posted']])\n",
    "y_likes = data['Likes']\n",
    "y_time_since_posted = data['Time since posted']\n",
    "\n",
    "X_train, X_test, y_likes_train, y_likes_test, y_time_train, y_time_test = train_test_split(X, y_likes, y_time_since_posted, test_size=0.2, random_state=42)\n",
    "\n",
    "from sklearn.linear_model import LinearRegression\n",
    "from sklearn.metrics import mean_squared_error, mean_absolute_error, r2_score\n",
    "\n",
    "# Initialize and train the model\n",
    "model_likes = LinearRegression()\n",
    "model_likes.fit(X_train, y_likes_train)\n",
    "\n",
    "# Make predictions on the testing data\n",
    "likes_predictions = model_likes.predict(X_test)\n",
    "\n",
    "# Evaluate the model\n",
    "mse = mean_squared_error(y_likes_test, likes_predictions)\n",
    "mae = mean_absolute_error(y_likes_test, likes_predictions)\n",
    "r2 = r2_score(y_likes_test, likes_predictions)\n",
    "print('Mean Squared Error (MSE):', mse)\n",
    "print('Mean Absolute Error (MAE):', mae)\n",
    "print('R-squared Score:', r2)\n",
    "\n",
    "import joblib\n",
    "\n",
    "# Save the trained model\n",
    "joblib.dump(model_likes, 'likes_prediction_model.pkl')"
   ]
  },
  {
   "cell_type": "markdown",
   "id": "f657078d",
   "metadata": {},
   "source": [
    "#### Q-4. Imagine you working as a sale manager now you need to predict the Revenue and whether that particular revenue is on the weekend or not and find the Informational_Duration using the Ensemble learning algorithm\n",
    "Dataset-https://www.kaggle.com/datasets/henrysue/online-shoppers-intention\n",
    "\n",
    "This is the Dataset You can use this dataset for this question."
   ]
  },
  {
   "cell_type": "code",
   "execution_count": 5,
   "id": "903710f6",
   "metadata": {},
   "outputs": [
    {
     "name": "stdout",
     "output_type": "stream",
     "text": [
      "Revenue Prediction Accuracy: 0.8888888888888888\n",
      "Revenue Prediction Classification Report:\n",
      "              precision    recall  f1-score   support\n",
      "\n",
      "       False       0.91      0.96      0.94      2055\n",
      "        True       0.74      0.51      0.61       411\n",
      "\n",
      "    accuracy                           0.89      2466\n",
      "   macro avg       0.82      0.74      0.77      2466\n",
      "weighted avg       0.88      0.89      0.88      2466\n",
      "\n",
      "Mean Squared Error for Informational Duration: 13995.616144280026\n",
      "Predicted Results:\n",
      "       Actual Revenue  Predicted Revenue  Actual Informational Duration  \\\n",
      "8916            False              False                           0.00   \n",
      "772              True              False                         235.55   \n",
      "12250           False              False                           0.00   \n",
      "7793            False              False                           0.00   \n",
      "6601            False               True                         733.80   \n",
      "...               ...                ...                            ...   \n",
      "295              True               True                           0.00   \n",
      "3694            False              False                           0.00   \n",
      "4974            False              False                          23.00   \n",
      "10383            True              False                           9.50   \n",
      "2611            False              False                           0.00   \n",
      "\n",
      "       Predicted Informational Duration  \n",
      "8916                           0.000000  \n",
      "772                          229.308817  \n",
      "12250                          0.000000  \n",
      "7793                           0.000000  \n",
      "6601                         384.430176  \n",
      "...                                 ...  \n",
      "295                            0.000000  \n",
      "3694                           0.000000  \n",
      "4974                          76.747000  \n",
      "10383                        424.397024  \n",
      "2611                           0.000000  \n",
      "\n",
      "[2466 rows x 4 columns]\n"
     ]
    }
   ],
   "source": [
    "import pandas as pd\n",
    "from sklearn.model_selection import train_test_split\n",
    "from sklearn.ensemble import RandomForestClassifier, RandomForestRegressor\n",
    "from sklearn.metrics import accuracy_score, classification_report, mean_squared_error\n",
    "\n",
    "# Load the dataset\n",
    "data = pd.read_csv('online_shoppers_intention.csv')\n",
    "\n",
    "# Preprocessing\n",
    "# Drop irrelevant columns\n",
    "data = data.drop(['Month', 'OperatingSystems', 'Browser', 'Region', 'TrafficType'], axis=1)\n",
    "\n",
    "# Split the dataset into features (X) and target variables (y_revenue, y_informational_duration)\n",
    "X = data.drop(['Revenue', 'Informational_Duration'], axis=1)\n",
    "y_revenue = data['Revenue']\n",
    "y_informational_duration = data['Informational_Duration']\n",
    "\n",
    "# Convert categorical variables to numerical using one-hot encoding\n",
    "X = pd.get_dummies(X, drop_first=True)\n",
    "\n",
    "# Split the data into training and testing sets\n",
    "X_train, X_test, y_train_revenue, y_test_revenue, y_train_informational_duration, y_test_informational_duration = train_test_split(\n",
    "    X, y_revenue, y_informational_duration, test_size=0.2, random_state=42\n",
    ")\n",
    "\n",
    "# Ensemble Learning - Random Forest Classifier for revenue prediction\n",
    "rf_classifier_revenue = RandomForestClassifier(n_estimators=100, random_state=42)\n",
    "rf_classifier_revenue.fit(X_train, y_train_revenue)\n",
    "\n",
    "# Predict revenue for the test set\n",
    "y_pred_revenue = rf_classifier_revenue.predict(X_test)\n",
    "\n",
    "# Evaluation for revenue prediction\n",
    "accuracy_revenue = accuracy_score(y_test_revenue, y_pred_revenue)\n",
    "classification_report_revenue = classification_report(y_test_revenue, y_pred_revenue)\n",
    "\n",
    "print(\"Revenue Prediction Accuracy:\", accuracy_revenue)\n",
    "print(\"Revenue Prediction Classification Report:\")\n",
    "print(classification_report_revenue)\n",
    "\n",
    "# Ensemble Learning - Random Forest Regressor for informational duration prediction\n",
    "rf_regressor_informational_duration = RandomForestRegressor(n_estimators=100, random_state=42)\n",
    "rf_regressor_informational_duration.fit(X_train, y_train_informational_duration)\n",
    "\n",
    "# Predict informational duration for the test set\n",
    "y_pred_informational_duration = rf_regressor_informational_duration.predict(X_test)\n",
    "\n",
    "# Evaluation for informational duration prediction\n",
    "mse_informational_duration = mean_squared_error(y_test_informational_duration, y_pred_informational_duration)\n",
    "\n",
    "print(\"Mean Squared Error for Informational Duration:\", mse_informational_duration)\n",
    "\n",
    "# Print the predicted revenue and informational duration\n",
    "results_df = pd.DataFrame({\n",
    "    'Actual Revenue': y_test_revenue,\n",
    "    'Predicted Revenue': y_pred_revenue,\n",
    "    'Actual Informational Duration': y_test_informational_duration,\n",
    "    'Predicted Informational Duration': y_pred_informational_duration\n",
    "})\n",
    "print(\"Predicted Results:\")\n",
    "print(results_df)"
   ]
  }
 ],
 "metadata": {
  "kernelspec": {
   "display_name": "Python 3",
   "language": "python",
   "name": "python3"
  },
  "language_info": {
   "codemirror_mode": {
    "name": "ipython",
    "version": 3
   },
   "file_extension": ".py",
   "mimetype": "text/x-python",
   "name": "python",
   "nbconvert_exporter": "python",
   "pygments_lexer": "ipython3",
   "version": "3.8.8"
  }
 },
 "nbformat": 4,
 "nbformat_minor": 5
}
