{
 "cells": [
  {
   "cell_type": "markdown",
   "id": "8dd8b16e",
   "metadata": {},
   "source": [
    "# Assignment_1"
   ]
  },
  {
   "cell_type": "markdown",
   "id": "f9a7e01d",
   "metadata": {},
   "source": [
    "#### Q1. What is the purpose of Python&#39;s OOP?"
   ]
  },
  {
   "cell_type": "markdown",
   "id": "7e9b3d13",
   "metadata": {},
   "source": [
    "The purpose of Python's Object-Oriented Programming (OOP) is to provide a way to structure and organize code by creating reusable and modular components called classes. OOP allows for the creation of objects that encapsulate data (attributes) and behavior (methods) into a single entity. It promotes code reusability, modularity, and allows for easier maintenance and understanding of complex systems."
   ]
  },
  {
   "cell_type": "markdown",
   "id": "783f562f",
   "metadata": {},
   "source": [
    "#### Q2. Where does an inheritance search look for an attribute?"
   ]
  },
  {
   "cell_type": "markdown",
   "id": "c00f6111",
   "metadata": {},
   "source": [
    "Inheritance search for an attribute in Python follows a specific order known as the Method Resolution Order (MRO). When accessing an attribute in a class instance, Python first checks the instance itself, then the class it was instantiated from, and finally, the superclass hierarchy in a depth-first, left-to-right manner. This order is determined by the inheritance structure defined using the inheritance keyword."
   ]
  },
  {
   "cell_type": "markdown",
   "id": "f1e7b16e",
   "metadata": {},
   "source": [
    "#### Q3. How do you distinguish between a class object and an instance object?"
   ]
  },
  {
   "cell_type": "markdown",
   "id": "9e4e6295",
   "metadata": {},
   "source": [
    "A class object represents the class itself, while an instance object represents a specific instance (or object) created from that class. The class object contains information about the class, such as its methods and attributes, and can be used to create instances of the class. On the other hand, an instance object is created using the class object and holds its own set of attribute values."
   ]
  },
  {
   "cell_type": "markdown",
   "id": "f1249836",
   "metadata": {},
   "source": [
    "#### Q4. What makes the first argument in a class’s method function special?"
   ]
  },
  {
   "cell_type": "markdown",
   "id": "be7840a2",
   "metadata": {},
   "source": [
    "The first argument in a class's method function is conventionally named self (although you can use any valid variable name). It refers to the instance object through which the method is being called. By convention, the first parameter of an instance method should always be self. It allows the method to access and manipulate the attributes and methods of the instance object itself."
   ]
  },
  {
   "cell_type": "markdown",
   "id": "31165caf",
   "metadata": {},
   "source": [
    "#### Q5. What is the purpose of the __init__ method?"
   ]
  },
  {
   "cell_type": "markdown",
   "id": "198d748d",
   "metadata": {},
   "source": [
    " The __init__ method is a special method in Python classes. It is automatically called when an instance of a class is created. The purpose of the __init__ method is to initialize the attributes of the instance object. It is commonly used to set the initial state of the object by accepting arguments and assigning them to instance variables. This method allows you to customize the creation of instances and perform any necessary setup operations."
   ]
  },
  {
   "cell_type": "markdown",
   "id": "b83c0d7b",
   "metadata": {},
   "source": [
    "#### Q6. What is the process for creating a class instance?"
   ]
  },
  {
   "cell_type": "markdown",
   "id": "6629bf75",
   "metadata": {},
   "source": [
    "To create a class instance (also known as an object) in Python, you need to follow these steps:\n",
    "\n",
    "1. Define a class: Create a class with the desired attributes and methods.\n",
    "2. Instantiate the class: Use the class name followed by parentheses to create an instance of the class. This calls the class's __init__ method and returns a new instance object.\n",
    "3. Optional: Assign the instance object to a variable for future use."
   ]
  },
  {
   "cell_type": "code",
   "execution_count": 1,
   "id": "0eccdf80",
   "metadata": {},
   "outputs": [
    {
     "name": "stdout",
     "output_type": "stream",
     "text": [
      "Hello, John\n"
     ]
    }
   ],
   "source": [
    "# Step 1: Define a class\n",
    "class MyClass:\n",
    "    def __init__(self, name):\n",
    "        self.name = name\n",
    "\n",
    "    def say_hello(self):\n",
    "        print(\"Hello, \" + self.name)\n",
    "\n",
    "# Step 2: Instantiate the class\n",
    "my_instance = MyClass(\"John\")\n",
    "\n",
    "# Step 3: Use the instance object\n",
    "my_instance.say_hello()  # Output: Hello, John"
   ]
  },
  {
   "cell_type": "markdown",
   "id": "2833a86b",
   "metadata": {},
   "source": [
    "#### Q7. What is the process for creating a class?"
   ]
  },
  {
   "cell_type": "markdown",
   "id": "f599b57c",
   "metadata": {},
   "source": [
    "The process for creating a class in Python involves defining the class structure, including its attributes and methods. Here's the general process:\n",
    "\n",
    "1. Use the class keyword followed by the class name to define a new class.\n",
    "2. Define the class attributes: These are variables that belong to the class and are shared among all instances.\n",
    "3. Define the methods: These are functions that define the behavior of the class. They can access the class attributes and operate on the instance objects.\n",
    "4. Optionally, define the __init__ method: This special method is called when an instance is created and allows you to initialize the instance attributes.\n",
    "5. Use the defined class to create instances (objects) by calling the class name followed by parentheses."
   ]
  },
  {
   "cell_type": "markdown",
   "id": "72d42584",
   "metadata": {},
   "source": [
    "#### Q8. How would you define the superclasses of a class?"
   ]
  },
  {
   "cell_type": "markdown",
   "id": "2de62ed9",
   "metadata": {},
   "source": [
    "The superclasses of a class are defined by specifying them within parentheses after the class name during its definition. This is known as class inheritance, where a class can inherit attributes and methods from one or more existing classes."
   ]
  },
  {
   "cell_type": "code",
   "execution_count": null,
   "id": "c7563de9",
   "metadata": {},
   "outputs": [],
   "source": [
    "class ClassName(Superclass1, Superclass2, ...):\n",
    "    # Class definition\n",
    "    # Attributes and methods"
   ]
  },
  {
   "cell_type": "markdown",
   "id": "0a81c38a",
   "metadata": {},
   "source": [
    "By including the names of the superclass(es) inside the parentheses after the class name, you indicate that the class being defined inherits from those superclasses. If there are multiple superclasses, they are separated by commas."
   ]
  },
  {
   "cell_type": "code",
   "execution_count": 3,
   "id": "d971cf1a",
   "metadata": {},
   "outputs": [
    {
     "name": "stdout",
     "output_type": "stream",
     "text": [
      "Buddy\n",
      "Woof!\n",
      "Playing with pet\n"
     ]
    }
   ],
   "source": [
    "# Define superclass 1\n",
    "class Animal:\n",
    "    def __init__(self, name):\n",
    "        self.name = name\n",
    "\n",
    "    def speak(self):\n",
    "        print(\"Generic animal sound\")\n",
    "\n",
    "# Define superclass 2\n",
    "class Pet:\n",
    "    def play(self):\n",
    "        print(\"Playing with pet\")\n",
    "\n",
    "# Define class with superclasses\n",
    "class Dog(Animal, Pet):\n",
    "    def speak(self):\n",
    "        print(\"Woof!\")\n",
    "\n",
    "# Create instance of Dog class\n",
    "my_dog = Dog(\"Buddy\")\n",
    "\n",
    "# Access attributes and methods\n",
    "print(my_dog.name) \n",
    "my_dog.speak() \n",
    "my_dog.play()  "
   ]
  }
 ],
 "metadata": {
  "kernelspec": {
   "display_name": "Python 3",
   "language": "python",
   "name": "python3"
  },
  "language_info": {
   "codemirror_mode": {
    "name": "ipython",
    "version": 3
   },
   "file_extension": ".py",
   "mimetype": "text/x-python",
   "name": "python",
   "nbconvert_exporter": "python",
   "pygments_lexer": "ipython3",
   "version": "3.8.8"
  }
 },
 "nbformat": 4,
 "nbformat_minor": 5
}
