{
 "cells": [
  {
   "cell_type": "markdown",
   "id": "4d02b8f7",
   "metadata": {},
   "source": [
    "# Assignment_10"
   ]
  },
  {
   "cell_type": "markdown",
   "id": "6736dddf",
   "metadata": {},
   "source": [
    "#### Q1. What is the difference between __getattr__ and __getattribute__?"
   ]
  },
  {
   "cell_type": "markdown",
   "id": "d9b4a79a",
   "metadata": {},
   "source": [
    "__getattr__: This method is called when an attribute is accessed and not found in the normal way (i.e., not present as an instance variable or through inheritance). It is a fallback method that allows you to define custom behavior when accessing non-existing attributes. If __getattr__ is not defined, accessing a non-existing attribute will raise an AttributeError."
   ]
  },
  {
   "cell_type": "code",
   "execution_count": 1,
   "id": "2e32d966",
   "metadata": {},
   "outputs": [
    {
     "name": "stdout",
     "output_type": "stream",
     "text": [
      "Attribute 'some_attribute' not found.\n"
     ]
    }
   ],
   "source": [
    "class MyClass:\n",
    "    def __getattr__(self, name):\n",
    "        return f\"Attribute '{name}' not found.\"\n",
    "\n",
    "obj = MyClass()\n",
    "print(obj.some_attribute)  # Output: \"Attribute 'some_attribute' not found.\""
   ]
  },
  {
   "cell_type": "markdown",
   "id": "753b8415",
   "metadata": {},
   "source": [
    "__getattribute__: This method is called every time an attribute is accessed, regardless of whether the attribute is present or not. It gives you the opportunity to customize the attribute access behavior entirely. If you need to intercept all attribute access and modify it dynamically, you can use __getattribute__."
   ]
  },
  {
   "cell_type": "code",
   "execution_count": 2,
   "id": "8bcc66a1",
   "metadata": {},
   "outputs": [
    {
     "name": "stdout",
     "output_type": "stream",
     "text": [
      "Accessing attribute 'some_attribute'.\n"
     ]
    }
   ],
   "source": [
    "class MyClass:\n",
    "    def __getattribute__(self, name):\n",
    "        return f\"Accessing attribute '{name}'.\"\n",
    "\n",
    "obj = MyClass()\n",
    "print(obj.some_attribute)  # Output: \"Accessing attribute 'some_attribute'.\""
   ]
  },
  {
   "cell_type": "markdown",
   "id": "ad71b16c",
   "metadata": {},
   "source": [
    "#### Q2. What is the difference between properties and descriptors?"
   ]
  },
  {
   "cell_type": "markdown",
   "id": "f7c9f527",
   "metadata": {},
   "source": [
    "**Properties:** Properties are a simple way to add customized getters, setters, and deleters for an attribute. They are defined using the property built-in function and are accessed like regular attributes. Properties are used to encapsulate the access to an attribute without explicitly calling getter and setter methods."
   ]
  },
  {
   "cell_type": "code",
   "execution_count": 3,
   "id": "cf0ae8f8",
   "metadata": {},
   "outputs": [
    {
     "name": "stdout",
     "output_type": "stream",
     "text": [
      "5\n",
      "10\n"
     ]
    }
   ],
   "source": [
    "class Circle:\n",
    "    def __init__(self, radius):\n",
    "        self._radius = radius\n",
    "\n",
    "    @property\n",
    "    def radius(self):\n",
    "        return self._radius\n",
    "\n",
    "    @radius.setter\n",
    "    def radius(self, value): \n",
    "        if value < 0:\n",
    "            raise ValueError(\"Radius cannot be negative.\")\n",
    "        self._radius = value\n",
    "\n",
    "circle = Circle(5)\n",
    "print(circle.radius)  \n",
    "circle.radius = 10\n",
    "print(circle.radius)  "
   ]
  },
  {
   "cell_type": "markdown",
   "id": "e6f17b48",
   "metadata": {},
   "source": [
    "**Descriptors:** Descriptors provide a more advanced and flexible way to customize attribute access. They are defined by creating a separate class with __get__, __set__, and optionally __delete__ methods. Descriptors are explicitly assigned to the class attribute they are intended to manage."
   ]
  },
  {
   "cell_type": "code",
   "execution_count": 4,
   "id": "b7b7e8e4",
   "metadata": {},
   "outputs": [
    {
     "name": "stdout",
     "output_type": "stream",
     "text": [
      "5\n",
      "10\n"
     ]
    }
   ],
   "source": [
    "class LengthDescriptor:\n",
    "    def __get__(self, instance, owner):\n",
    "        return instance._length\n",
    "\n",
    "    def __set__(self, instance, value):\n",
    "        if value < 0:\n",
    "            raise ValueError(\"Length cannot be negative.\")\n",
    "        instance._length = value\n",
    "\n",
    "class Rectangle:\n",
    "    def __init__(self, length):\n",
    "        self._length = length\n",
    "\n",
    "    length = LengthDescriptor()\n",
    "\n",
    "rectangle = Rectangle(5)\n",
    "print(rectangle.length)  \n",
    "rectangle.length = 10\n",
    "print(rectangle.length)  "
   ]
  },
  {
   "cell_type": "markdown",
   "id": "81a08e57",
   "metadata": {},
   "source": [
    "#### Q3. What are the key differences in functionality between __getattr__ and __getattribute__, as well as properties and descriptors?"
   ]
  },
  {
   "cell_type": "markdown",
   "id": "8576b92e",
   "metadata": {},
   "source": [
    "__getattr__ vs. __getattribute__:\n",
    "\n",
    "1. Trigger: __getattr__ is called when an attribute is not found, while __getattribute__ is called for every attribute access, regardless of whether the attribute is present or not.\n",
    "2. Purpose: __getattr__ is used to define fallback behavior for non-existing attributes, while __getattribute__ is used to customize the behavior for all attribute accesses.\n",
    "3. Caution: Be careful when implementing __getattribute__, as it can lead to infinite recursion if you try to access the same attribute within the method."
   ]
  },
  {
   "cell_type": "markdown",
   "id": "50b31ca7",
   "metadata": {},
   "source": [
    "**Properties** vs. **Descriptors**:\n",
    "\n",
    "1. Implementation: Properties are defined using the property decorator and are assigned to individual instance attributes, while descriptors are separate classes with __get__, __set__, and optionally __delete__ methods, and are assigned to class attributes.\n",
    "2. Extensibility: Descriptors provide more flexibility and control over attribute access because they can implement custom __set__ and __delete__ behaviors, whereas properties only provide a getter, setter, and deleter.\n",
    "3. Simplicity: Properties are simpler to use and are well-suited for basic attribute access control, while descriptors are more advanced and are better suited for complex attribute manipulation or delegation scenarios."
   ]
  }
 ],
 "metadata": {
  "kernelspec": {
   "display_name": "Python 3",
   "language": "python",
   "name": "python3"
  },
  "language_info": {
   "codemirror_mode": {
    "name": "ipython",
    "version": 3
   },
   "file_extension": ".py",
   "mimetype": "text/x-python",
   "name": "python",
   "nbconvert_exporter": "python",
   "pygments_lexer": "ipython3",
   "version": "3.8.8"
  }
 },
 "nbformat": 4,
 "nbformat_minor": 5
}
