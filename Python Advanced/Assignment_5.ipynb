{
 "cells": [
  {
   "cell_type": "markdown",
   "id": "31344cf3",
   "metadata": {},
   "source": [
    "# Assignment_5"
   ]
  },
  {
   "cell_type": "markdown",
   "id": "a9dfd39f",
   "metadata": {},
   "source": [
    "#### Q1. What is the meaning of multiple inheritance?"
   ]
  },
  {
   "cell_type": "markdown",
   "id": "6b5872c5",
   "metadata": {},
   "source": [
    "A class can inherit attributes and methods from multiple base classes. This allows the derived class to combine and reuse functionality from different sources, enabling greater flexibility and code reuse."
   ]
  },
  {
   "cell_type": "markdown",
   "id": "ac7c1a05",
   "metadata": {},
   "source": [
    "#### Q2. What is the concept of delegation?"
   ]
  },
  {
   "cell_type": "markdown",
   "id": "3636d293",
   "metadata": {},
   "source": [
    "The concept of delegation in programming involves one object passing on a responsibility or task to another object to perform on its behalf. Rather than implementing the functionality itself, an object delegates the task to another object, known as the delegate. This allows for better code organization, separation of concerns, and modularity, as different objects can handle specific tasks without needing to know all the implementation details."
   ]
  },
  {
   "cell_type": "markdown",
   "id": "f4455346",
   "metadata": {},
   "source": [
    "#### Q3. What is the concept of composition?"
   ]
  },
  {
   "cell_type": "markdown",
   "id": "e749dc53",
   "metadata": {},
   "source": [
    "Composition is a concept in object-oriented programming where a class contains objects of other classes as member variables. It is a way to build complex objects by combining simpler objects or components. The composed objects can be thought of as building blocks that contribute to the behavior and functionality of the enclosing class. Composition promotes code reuse, modularity, and flexibility by creating relationships between objects based on their roles and responsibilities."
   ]
  },
  {
   "cell_type": "markdown",
   "id": "d6ec2eb3",
   "metadata": {},
   "source": [
    "#### Q4. What are bound methods and how do we use them?"
   ]
  },
  {
   "cell_type": "markdown",
   "id": "b7b92584",
   "metadata": {},
   "source": [
    "Bound methods are methods that are associated with a specific instance of a class. When a method is called on an instance, the instance itself is implicitly passed as the first argument to the method, typically referred to as \"self\" in Python. This binding of the instance to the method is what makes it a bound method. Bound methods have access to the instance's attributes and can modify its state. They are commonly used to define behavior that is specific to a particular instance of a class."
   ]
  },
  {
   "cell_type": "markdown",
   "id": "9405c19e",
   "metadata": {},
   "source": [
    "#### Q5. What is the purpose of pseudoprivate attributes?"
   ]
  },
  {
   "cell_type": "markdown",
   "id": "0ce85adf",
   "metadata": {},
   "source": [
    "Pseudoprivate attributes, sometimes referred to as name mangling, are a convention in Python to create class attributes that are intended to be private, but still accessible within the class and its subclasses. In Python, an attribute with a double underscore prefix, followed by at most one underscore at the end (e.g., __attribute__), undergoes name mangling. This means that the attribute's name is transformed to include the class name as a prefix, making it harder to accidentally access or override the attribute from outside the class. Pseudoprivate attributes are primarily used to indicate that an attribute is intended for internal use within the class and should not be directly accessed by external code."
   ]
  }
 ],
 "metadata": {
  "kernelspec": {
   "display_name": "Python 3",
   "language": "python",
   "name": "python3"
  },
  "language_info": {
   "codemirror_mode": {
    "name": "ipython",
    "version": 3
   },
   "file_extension": ".py",
   "mimetype": "text/x-python",
   "name": "python",
   "nbconvert_exporter": "python",
   "pygments_lexer": "ipython3",
   "version": "3.8.8"
  }
 },
 "nbformat": 4,
 "nbformat_minor": 5
}
