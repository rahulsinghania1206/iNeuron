{
 "cells": [
  {
   "cell_type": "markdown",
   "id": "bcac4fdb",
   "metadata": {},
   "source": [
    "# Assignment_12"
   ]
  },
  {
   "cell_type": "markdown",
   "id": "e27dbc5b",
   "metadata": {},
   "source": [
    "#### Q1. Does assigning a value to a string&#39;s indexed character violate Python&#39;s string immutability?\n",
    "\n",
    "\n",
    "\n",
    "\n",
    "\n",
    "\n",
    "\n",
    "\n",
    "\n",
    "\n",
    "\n",
    "\n",
    "\n",
    "\n",
    "\n"
   ]
  },
  {
   "cell_type": "markdown",
   "id": "b6d01c30",
   "metadata": {},
   "source": [
    "No, assigning a value to a string's indexed character does not violate Python's string immutability. Strings in Python are immutable, which means you cannot modify the content of an existing string directly. However, when you attempt to assign a value to an indexed character of a string, Python will create a new string with the modified value, leaving the original string unchanged."
   ]
  },
  {
   "cell_type": "markdown",
   "id": "e47ef84b",
   "metadata": {},
   "source": [
    "#### Q2. Does using the += operator to concatenate strings violate Python&#39;s string immutability? Why or why not?"
   ]
  },
  {
   "cell_type": "markdown",
   "id": "e29176a3",
   "metadata": {},
   "source": [
    "Using the += operator to concatenate strings does not violate Python's string immutability. While strings are immutable, the += operator is overloaded for strings to perform concatenation efficiently. When you use += to concatenate strings, Python creates a new string that contains the concatenated result, leaving the original strings unchanged."
   ]
  },
  {
   "cell_type": "markdown",
   "id": "d2088e67",
   "metadata": {},
   "source": [
    "#### Q3. In Python, how many different ways are there to index a character?"
   ]
  },
  {
   "cell_type": "markdown",
   "id": "02808d8e",
   "metadata": {},
   "source": [
    "In Python, there are two primary ways to index a character in a string:\n",
    "1. Using positive integers to access characters from the beginning of the string (e.g., string[0], string[1], ...)\n",
    "2. Using negative integers to access characters from the end of the string (e.g., string[-1], string[-2], ...)"
   ]
  },
  {
   "cell_type": "markdown",
   "id": "b79a80b0",
   "metadata": {},
   "source": [
    "#### Q4. What is the relationship between indexing and slicing?"
   ]
  },
  {
   "cell_type": "markdown",
   "id": "07f20c98",
   "metadata": {},
   "source": [
    "The relationship between indexing and slicing in Python is that slicing is a more generalized operation compared to indexing. Indexing is used to access individual characters at specific positions in a string, while slicing allows you to extract a substring (a portion of the original string) by specifying a start and end index. The syntax for slicing is: string[start:end], where start is the index of the first character to include, and end is the index of the first character to exclude from the sliced substring."
   ]
  },
  {
   "cell_type": "markdown",
   "id": "37272683",
   "metadata": {},
   "source": [
    "#### Q5. What is an indexed character&#39;s exact data type? What is the data form of a slicing-generated substring?"
   ]
  },
  {
   "cell_type": "markdown",
   "id": "af7a0057",
   "metadata": {},
   "source": [
    "An indexed character in Python is a single character, and its exact data type is a string of length 1. For example, string[0] returns a single-character string. The data form of a slicing-generated substring is also a string."
   ]
  },
  {
   "cell_type": "markdown",
   "id": "96475ef6",
   "metadata": {},
   "source": [
    "#### Q6. What is the relationship between string and character &quot;types&quot; in Python?"
   ]
  },
  {
   "cell_type": "markdown",
   "id": "631f5fb1",
   "metadata": {},
   "source": [
    "In Python, there is no separate \"character\" data type. Characters are represented as strings with a length of 1. So, a single character is essentially a string of length 1. Python handles characters and strings uniformly."
   ]
  },
  {
   "cell_type": "markdown",
   "id": "dcccbc7d",
   "metadata": {},
   "source": [
    "#### Q7. Identify at least two operators and one method that allow you to combine one or more smaller strings to create a larger string."
   ]
  },
  {
   "cell_type": "markdown",
   "id": "bdde970d",
   "metadata": {},
   "source": [
    "Two operators that allow you to combine smaller strings into a larger string are:\n",
    "1. The + operator: It is used for string concatenation. For example, \"Hello, \" + \"world!\" would produce the string \"Hello, world!\".\n",
    "2. The * operator: It is used for string repetition. For example, \"la\" * 3 would produce the string \"lalala\"."
   ]
  },
  {
   "cell_type": "code",
   "execution_count": 1,
   "id": "7c7e3700",
   "metadata": {},
   "outputs": [],
   "source": [
    "separator = \", \"\n",
    "words = [\"apple\", \"banana\", \"orange\"]\n",
    "result = separator.join(words)\n",
    "# Output: \"apple, banana, orange\""
   ]
  },
  {
   "cell_type": "markdown",
   "id": "131d0a35",
   "metadata": {},
   "source": [
    "#### Q8. What is the benefit of first checking the target string with in or not in before using the index method to find a substring?"
   ]
  },
  {
   "cell_type": "markdown",
   "id": "6fdbc053",
   "metadata": {},
   "source": [
    "The benefit of first checking the target string with in or not in before using the index method to find a substring is to avoid raising a ValueError when the substring is not found. The in and not in operators return a Boolean value (True or False) based on whether the substring is present in the string or not. By using these operators, you can handle cases where the substring is not found without causing an exception."
   ]
  },
  {
   "cell_type": "markdown",
   "id": "d81d7dcd",
   "metadata": {},
   "source": [
    "#### Q9. Which operators and built-in string methods produce simple Boolean (true/false) results?"
   ]
  },
  {
   "cell_type": "markdown",
   "id": "46ad78f3",
   "metadata": {},
   "source": [
    "The following operators and built-in string methods produce simple Boolean (true/false) results:\n",
    "1. Operators:\n",
    "- in and not in: They are used to check if a substring is present in a string. For example:<br>\n",
    "\"apple\" in \"pineapple\" # True \"orange\" not in \"banana\" # True\n",
    "\n",
    "2. Methods:\n",
    "- startswith(): It returns True if the string starts with the specified prefix, otherwise False.\n",
    "- endswith(): It returns True if the string ends with the specified suffix, otherwise False."
   ]
  },
  {
   "cell_type": "code",
   "execution_count": 2,
   "id": "0dbf2da0",
   "metadata": {},
   "outputs": [
    {
     "name": "stdout",
     "output_type": "stream",
     "text": [
      "True\n",
      "True\n"
     ]
    }
   ],
   "source": [
    "text = \"Hello, world!\"\n",
    "\n",
    "print(text.startswith(\"Hello\"))  # True\n",
    "print(text.endswith(\"world!\"))   # True"
   ]
  }
 ],
 "metadata": {
  "kernelspec": {
   "display_name": "Python 3",
   "language": "python",
   "name": "python3"
  },
  "language_info": {
   "codemirror_mode": {
    "name": "ipython",
    "version": 3
   },
   "file_extension": ".py",
   "mimetype": "text/x-python",
   "name": "python",
   "nbconvert_exporter": "python",
   "pygments_lexer": "ipython3",
   "version": "3.8.8"
  }
 },
 "nbformat": 4,
 "nbformat_minor": 5
}
