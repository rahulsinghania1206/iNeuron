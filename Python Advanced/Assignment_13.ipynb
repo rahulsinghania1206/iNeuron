{
 "cells": [
  {
   "cell_type": "markdown",
   "id": "9b692442",
   "metadata": {},
   "source": [
    "# Assignment_13"
   ]
  },
  {
   "cell_type": "markdown",
   "id": "9a900503",
   "metadata": {},
   "source": [
    "#### Q1. Can you create a programme or function that employs both positive and negative indexing? Is there any repercussion if you do so?"
   ]
  },
  {
   "cell_type": "code",
   "execution_count": 1,
   "id": "5c42ddf0",
   "metadata": {},
   "outputs": [
    {
     "name": "stdout",
     "output_type": "stream",
     "text": [
      "(1, 5)\n"
     ]
    }
   ],
   "source": [
    "def get_elements(input_list):\n",
    "    # Access the first and last elements using positive and negative indexing\n",
    "    first_element = input_list[0]\n",
    "    last_element = input_list[-1]\n",
    "\n",
    "    return first_element, last_element\n",
    "\n",
    "my_list = [1, 2, 3, 4, 5]\n",
    "print(get_elements(my_list))"
   ]
  },
  {
   "cell_type": "markdown",
   "id": "37919bb3",
   "metadata": {},
   "source": [
    "Regarding repercussions, there are generally no serious issues with using both positive and negative indexing. However, it might lead to confusion and make the code harder to understand if not used carefully. Mixing positive and negative indices in the same context might make the code less readable and maintainable."
   ]
  },
  {
   "cell_type": "markdown",
   "id": "2aba2af0",
   "metadata": {},
   "source": [
    "#### Q2. What is the most effective way of starting with 1,000 elements in a Python list? Assume that all elements should be set to the same value."
   ]
  },
  {
   "cell_type": "code",
   "execution_count": 5,
   "id": "fb934895",
   "metadata": {},
   "outputs": [],
   "source": [
    "value = 42  # The value that want to set for all elements\n",
    "my_list = [value] * 1000\n",
    "#print(my_list)"
   ]
  },
  {
   "cell_type": "markdown",
   "id": "6da65bf7",
   "metadata": {},
   "source": [
    "This method is more efficient than using a loop because it leverages the underlying memory allocation optimizations and creates the list quickly."
   ]
  },
  {
   "cell_type": "markdown",
   "id": "f7f362f4",
   "metadata": {},
   "source": [
    "#### Q3. How do you slice a list to get any other part while missing the rest? (For example, suppose you want to make a new list with the elements first, third, fifth, seventh, and so on.)"
   ]
  },
  {
   "cell_type": "code",
   "execution_count": 6,
   "id": "6cd8e26e",
   "metadata": {},
   "outputs": [
    {
     "name": "stdout",
     "output_type": "stream",
     "text": [
      "[1, 3, 5, 7, 9]\n"
     ]
    }
   ],
   "source": [
    "original_list = [1, 2, 3, 4, 5, 6, 7, 8, 9, 10]\n",
    "\n",
    "# Slicing with a step of 2 to get the elements at odd indices (1st, 3rd, 5th, 7th, ...)\n",
    "new_list = original_list[::2]\n",
    "print(new_list)"
   ]
  },
  {
   "cell_type": "markdown",
   "id": "035c1a0b",
   "metadata": {},
   "source": [
    "#### Q4. Explain the distinctions between indexing and slicing."
   ]
  },
  {
   "cell_type": "markdown",
   "id": "8cb5873b",
   "metadata": {},
   "source": [
    "**Indexing:** Refers to accessing a single element from a list or sequence using its position within the list. Indexing is done with square brackets [], and you specify the index of the element you want to access. Indexing is zero-based in Python, which means the first element has an index of 0, the second element has an index of 1, and so on. Negative indexing is also allowed to access elements from the end of the list.\n",
    "\n",
    "**Slicing:** Refers to accessing a portion of a list or sequence by specifying a range of indices. Slicing is also done with square brackets [], but you provide a start index, an end index (exclusive), and an optional step value to determine which elements to include in the slice. Slicing allows you to create a new list with selected elements from the original list."
   ]
  },
  {
   "cell_type": "markdown",
   "id": "2f80a278",
   "metadata": {},
   "source": [
    "#### Q5. What happens if one of the slicing expression&#39;s indexes is out of range?"
   ]
  },
  {
   "cell_type": "code",
   "execution_count": 7,
   "id": "54305b3a",
   "metadata": {},
   "outputs": [
    {
     "ename": "IndexError",
     "evalue": "list index out of range",
     "output_type": "error",
     "traceback": [
      "\u001b[1;31m---------------------------------------------------------------------------\u001b[0m",
      "\u001b[1;31mIndexError\u001b[0m                                Traceback (most recent call last)",
      "\u001b[1;32m<ipython-input-7-e66bb6c53078>\u001b[0m in \u001b[0;36m<module>\u001b[1;34m\u001b[0m\n\u001b[0;32m      2\u001b[0m \u001b[1;33m\u001b[0m\u001b[0m\n\u001b[0;32m      3\u001b[0m \u001b[1;31m# Trying to access an element with an index that is out of range\u001b[0m\u001b[1;33m\u001b[0m\u001b[1;33m\u001b[0m\u001b[1;33m\u001b[0m\u001b[0m\n\u001b[1;32m----> 4\u001b[1;33m \u001b[0melement\u001b[0m \u001b[1;33m=\u001b[0m \u001b[0mmy_list\u001b[0m\u001b[1;33m[\u001b[0m\u001b[1;36m10\u001b[0m\u001b[1;33m]\u001b[0m\u001b[1;33m\u001b[0m\u001b[1;33m\u001b[0m\u001b[0m\n\u001b[0m\u001b[0;32m      5\u001b[0m \u001b[0mprint\u001b[0m\u001b[1;33m(\u001b[0m\u001b[0melement\u001b[0m\u001b[1;33m)\u001b[0m\u001b[1;33m\u001b[0m\u001b[1;33m\u001b[0m\u001b[0m\n\u001b[0;32m      6\u001b[0m \u001b[1;33m\u001b[0m\u001b[0m\n",
      "\u001b[1;31mIndexError\u001b[0m: list index out of range"
     ]
    }
   ],
   "source": [
    "my_list = [1, 2, 3, 4, 5]\n",
    "\n",
    "# Trying to access an element with an index that is out of range\n",
    "element = my_list[10]\n",
    "print(element)\n",
    "\n",
    "# Slicing with an end index that is out of range\n",
    "new_list = my_list[2:10]\n",
    "print(new_list)  "
   ]
  },
  {
   "cell_type": "markdown",
   "id": "aee5b6f1",
   "metadata": {},
   "source": [
    "#### Q6. If you pass a list to a function, and if you want the function to be able to change the values of the list—so that the list is different after the function returns—what action should you avoid?"
   ]
  },
  {
   "cell_type": "markdown",
   "id": "429f3933",
   "metadata": {},
   "source": [
    "If you want a function to be able to change the values of a list passed to it (i.e., modify the list in place), you should avoid reassigning the input list variable within the function. Instead, you should directly modify the elements of the list."
   ]
  },
  {
   "cell_type": "code",
   "execution_count": 8,
   "id": "23499cc7",
   "metadata": {},
   "outputs": [
    {
     "name": "stdout",
     "output_type": "stream",
     "text": [
      "[4, 5, 6]\n",
      "[1, 2, 3]\n"
     ]
    }
   ],
   "source": [
    "# Incorrect approach (avoid this)\n",
    "def incorrect_modify_list(some_list):\n",
    "    some_list = [1, 2, 3]  # This reassigns the variable 'some_list' to a new list\n",
    "\n",
    "my_list = [4, 5, 6]\n",
    "incorrect_modify_list(my_list)\n",
    "print(my_list)  \n",
    "\n",
    "# Correct approach (modify elements in place)\n",
    "def correct_modify_list(some_list):\n",
    "    some_list[0] = 1\n",
    "    some_list[1] = 2\n",
    "    some_list[2] = 3\n",
    "\n",
    "my_list = [4, 5, 6]\n",
    "correct_modify_list(my_list)\n",
    "print(my_list)  "
   ]
  },
  {
   "cell_type": "markdown",
   "id": "5c71a024",
   "metadata": {},
   "source": [
    "#### Q7. What is the concept of an unbalanced matrix?"
   ]
  },
  {
   "cell_type": "markdown",
   "id": "0990b758",
   "metadata": {},
   "source": [
    "The term \"unbalanced matrix\" is not a standard mathematical or computational term. It seems to be used informally or contextually. Generally, a matrix is a two-dimensional array of numbers arranged in rows and columns. If we talk about a \"balanced matrix,\" it might refer to a matrix where each row has the same number of elements and each column has the same number of elements."
   ]
  },
  {
   "cell_type": "code",
   "execution_count": 9,
   "id": "8df269c2",
   "metadata": {},
   "outputs": [],
   "source": [
    "#Example\n",
    "1 2 3\n",
    "4 5\n",
    "6 7 8 9"
   ]
  },
  {
   "cell_type": "markdown",
   "id": "99790702",
   "metadata": {},
   "source": [
    "#### Q8. Why is it necessary to use either list comprehension or a loop to create arbitrarily large matrices?"
   ]
  },
  {
   "cell_type": "markdown",
   "id": "5fa8ada4",
   "metadata": {},
   "source": [
    "Creating an arbitrarily large matrix in Python requires a mechanism to generate elements for each cell in the matrix. List comprehension and loops are commonly used because they provide a concise and flexible way to generate elements and fill the matrix.\n",
    "\n",
    "1. Dynamic Size: With list comprehension and loops, you can easily control the size of the matrix based on parameters or variables. This allows you to create matrices of different dimensions without knowing the size at compile-time.\n",
    "\n",
    "2. Element Generation: To create a matrix, you need to populate its cells with values. List comprehension and loops enable you to generate elements based on specific patterns, equations, or data, making it straightforward to create large matrices with diverse elements.\n",
    "\n",
    "3. Efficiency: List comprehension and loops are optimized in Python, and they offer better performance compared to manually creating matrices element by element using repeated concatenation, for instance."
   ]
  },
  {
   "cell_type": "code",
   "execution_count": 11,
   "id": "49d09751",
   "metadata": {},
   "outputs": [
    {
     "name": "stdout",
     "output_type": "stream",
     "text": [
      "[[0, 0, 0, 0], [0, 0, 0, 0], [0, 0, 0, 0]]\n"
     ]
    }
   ],
   "source": [
    "rows = 3\n",
    "cols = 4\n",
    "value = 0  # The initial value for all elements\n",
    "\n",
    "# Using list comprehension to create a 3x4 matrix filled with zeros\n",
    "matrix = [[value for _ in range(cols)] for _ in range(rows)]\n",
    "print(matrix)"
   ]
  }
 ],
 "metadata": {
  "kernelspec": {
   "display_name": "Python 3",
   "language": "python",
   "name": "python3"
  },
  "language_info": {
   "codemirror_mode": {
    "name": "ipython",
    "version": 3
   },
   "file_extension": ".py",
   "mimetype": "text/x-python",
   "name": "python",
   "nbconvert_exporter": "python",
   "pygments_lexer": "ipython3",
   "version": "3.8.8"
  }
 },
 "nbformat": 4,
 "nbformat_minor": 5
}
