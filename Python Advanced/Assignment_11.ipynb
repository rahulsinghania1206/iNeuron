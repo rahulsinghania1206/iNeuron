{
 "cells": [
  {
   "cell_type": "markdown",
   "id": "521354e6",
   "metadata": {},
   "source": [
    "# Assignment_11"
   ]
  },
  {
   "cell_type": "markdown",
   "id": "598afd6a",
   "metadata": {},
   "source": [
    "#### Q1. What is the concept of a metaclass?"
   ]
  },
  {
   "cell_type": "markdown",
   "id": "94cfc368",
   "metadata": {},
   "source": [
    "Metaclass is a \"class of a class.\" When you define a class in Python, it is an instance of its metaclass. Metaclasses allow you to control the creation and behavior of classes and can be used to customize class creation, attribute access, method resolution, and more."
   ]
  },
  {
   "cell_type": "markdown",
   "id": "38f294d7",
   "metadata": {},
   "source": [
    "#### Q2. What is the best way to declare a class&#39;s metaclass?"
   ]
  },
  {
   "cell_type": "markdown",
   "id": "fe97f6c0",
   "metadata": {},
   "source": [
    "The best way to declare a class's metaclass is by using the metaclass keyword argument in the class definition."
   ]
  },
  {
   "cell_type": "code",
   "execution_count": null,
   "id": "a51cefa3",
   "metadata": {},
   "outputs": [],
   "source": [
    "class MyMeta(type):\n",
    "    def __init__(cls, name, bases, attrs):\n",
    "        # Custom metaclass initialization code, if needed.\n",
    "        super().__init__(name, bases, attrs)\n",
    "\n",
    "class MyClass(metaclass=MyMeta):\n",
    "    # Class definition goes here.\n",
    "    pass"
   ]
  },
  {
   "cell_type": "markdown",
   "id": "8a0cccb3",
   "metadata": {},
   "source": [
    "#### Q3. How do class decorators overlap with metaclasses for handling classes?"
   ]
  },
  {
   "cell_type": "markdown",
   "id": "bb349cbc",
   "metadata": {},
   "source": [
    "**Overlap:** Both class decorators and metaclasses can be used to add new attributes, methods, or behavior to a class during its creation. They provide a way to inject additional functionality into the class.\n",
    "\n",
    "**Difference:** The key difference lies in their scope and how they are applied. Metaclasses affect the entire class and its hierarchy, while class decorators modify the specific class they are applied to, without affecting other classes in the hierarchy."
   ]
  },
  {
   "cell_type": "markdown",
   "id": "d7c6385a",
   "metadata": {},
   "source": [
    "#### Q4. How do class decorators overlap with metaclasses for handling instances?"
   ]
  },
  {
   "cell_type": "markdown",
   "id": "126dda1a",
   "metadata": {},
   "source": [
    "Class decorators can be used to add methods or attributes to instances of a class. When a class decorator modifies the class, those modifications can also be reflected in instances of that class.\n",
    "\n",
    "Metaclasses can also influence instance creation and behavior indirectly. By customizing the class creation process, metaclasses can indirectly affect how instances are created and initialized. For example, a metaclass can inject additional instance attributes or override methods in the class, and those changes would be reflected in the instances created from that class.\n",
    "\n",
    "However, it's important to note that the primary purpose of metaclasses is to control class creation and behavior, whereas class decorators are more focused on modifying or enhancing the class itself."
   ]
  }
 ],
 "metadata": {
  "kernelspec": {
   "display_name": "Python 3",
   "language": "python",
   "name": "python3"
  },
  "language_info": {
   "codemirror_mode": {
    "name": "ipython",
    "version": 3
   },
   "file_extension": ".py",
   "mimetype": "text/x-python",
   "name": "python",
   "nbconvert_exporter": "python",
   "pygments_lexer": "ipython3",
   "version": "3.8.8"
  }
 },
 "nbformat": 4,
 "nbformat_minor": 5
}
