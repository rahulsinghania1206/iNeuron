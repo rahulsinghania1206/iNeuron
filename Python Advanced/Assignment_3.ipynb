{
 "cells": [
  {
   "cell_type": "markdown",
   "id": "7ad2a450",
   "metadata": {},
   "source": [
    "# Assignment_3"
   ]
  },
  {
   "cell_type": "markdown",
   "id": "e95c0bbd",
   "metadata": {},
   "source": [
    "#### 1. What is the concept of an abstract superclass?"
   ]
  },
  {
   "cell_type": "markdown",
   "id": "9278087b",
   "metadata": {},
   "source": [
    "An abstract superclass is a class that is designed to be inherited by other classes, but it cannot be instantiated on its own. It serves as a blueprint for other classes and provides common attributes and behaviors that can be shared among its subclasses. An abstract superclass typically contains abstract methods, which are methods without an implementation. Subclasses are required to provide their own implementation for these abstract methods."
   ]
  },
  {
   "cell_type": "markdown",
   "id": "a63db6b2",
   "metadata": {},
   "source": [
    "#### 2. What happens when a class statement&#39;s top level contains a basic assignment statement?"
   ]
  },
  {
   "cell_type": "markdown",
   "id": "75efec40",
   "metadata": {},
   "source": [
    "When a class statement's top level contains a basic assignment statement, it creates a class-level attribute. This attribute becomes part of the class itself rather than an instance of the class. It is shared among all instances of the class and can be accessed and modified using either the class or any of its instances."
   ]
  },
  {
   "cell_type": "markdown",
   "id": "79b50b0f",
   "metadata": {},
   "source": [
    "#### 3. Why does a class need to manually call a superclass&#39;s __init__ method?"
   ]
  },
  {
   "cell_type": "markdown",
   "id": "5e7f44f4",
   "metadata": {},
   "source": [
    "A class needs to manually call a superclass's __init__ method in order to initialize the inherited attributes and behaviors defined in the superclass. By calling the superclass's __init__ method within the subclass's __init__ method, the subclass can ensure that it inherits and initializes the necessary attributes and behaviors from the superclass. This allows the subclass to leverage the functionality provided by the superclass while adding its own unique features."
   ]
  },
  {
   "cell_type": "markdown",
   "id": "7064485f",
   "metadata": {},
   "source": [
    "#### 4. How can you augment, instead of completely replacing, an inherited method?"
   ]
  },
  {
   "cell_type": "markdown",
   "id": "852b1a25",
   "metadata": {},
   "source": [
    "To augment an inherited method instead of completely replacing it, you can use method overriding. Method overriding allows a subclass to provide its own implementation of a method that is already defined in its superclass. By defining a method with the same name in the subclass, the subclass's method will be called instead of the superclass's method when invoked on an instance of the subclass. However, the subclass can choose to invoke the superclass's method within its own implementation using the super() function. This way, the subclass can extend or modify the behavior of the inherited method while still utilizing the superclass's implementation."
   ]
  },
  {
   "cell_type": "markdown",
   "id": "e955b16a",
   "metadata": {},
   "source": [
    "#### 5. How is the local scope of a class different from that of a function?"
   ]
  },
  {
   "cell_type": "markdown",
   "id": "6626f515",
   "metadata": {},
   "source": [
    "The local scope of a class and a function are different in the following ways:\n",
    "\n",
    "1. Class Scope: Variables defined within a class, but outside any method or constructor, are class-level attributes. These variables are accessible throughout the class and can be accessed using the class name. They are shared among all instances of the class.\n",
    "2. Function Scope: Variables defined within a function are local to that function and can only be accessed within the function itself. They are not accessible outside the function and are created anew each time the function is called."
   ]
  }
 ],
 "metadata": {
  "kernelspec": {
   "display_name": "Python 3",
   "language": "python",
   "name": "python3"
  },
  "language_info": {
   "codemirror_mode": {
    "name": "ipython",
    "version": 3
   },
   "file_extension": ".py",
   "mimetype": "text/x-python",
   "name": "python",
   "nbconvert_exporter": "python",
   "pygments_lexer": "ipython3",
   "version": "3.8.8"
  }
 },
 "nbformat": 4,
 "nbformat_minor": 5
}
