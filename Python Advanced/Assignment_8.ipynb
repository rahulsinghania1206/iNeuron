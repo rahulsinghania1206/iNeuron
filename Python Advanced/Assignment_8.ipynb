{
 "cells": [
  {
   "cell_type": "markdown",
   "id": "4ea3239e",
   "metadata": {},
   "source": [
    "# Assignment_8"
   ]
  },
  {
   "cell_type": "markdown",
   "id": "451c94a3",
   "metadata": {},
   "source": [
    "#### Q1. What are the two latest user-defined exception constraints in Python 3.X?"
   ]
  },
  {
   "cell_type": "markdown",
   "id": "da909e81",
   "metadata": {},
   "source": [
    "#### Q2. How are class-based exceptions that have been raised matched to handlers?"
   ]
  },
  {
   "cell_type": "markdown",
   "id": "3631a4b8",
   "metadata": {},
   "source": [
    "Class-based exceptions in Python are matched to handlers using the concept of exception propagation. When an exception is raised, Python looks for an appropriate exception handler in the current execution context. If no suitable handler is found, Python unwinds the call stack, searching for a handler in higher-level callers until either a handler is found or the program terminates."
   ]
  },
  {
   "cell_type": "markdown",
   "id": "a08dace5",
   "metadata": {},
   "source": [
    "#### Q3. Describe two methods for attaching context information to exception artefacts."
   ]
  },
  {
   "cell_type": "markdown",
   "id": "cc5c3799",
   "metadata": {},
   "source": [
    "1. Using Exception Arguments: When raising an exception, We can pass additional arguments to provide context information. The exception message includes the context information provided as arguments."
   ]
  },
  {
   "cell_type": "code",
   "execution_count": null,
   "id": "997d0e8f",
   "metadata": {},
   "outputs": [],
   "source": [
    "raise ValueError(\"Invalid input: \", value)"
   ]
  },
  {
   "cell_type": "markdown",
   "id": "51a8bb53",
   "metadata": {},
   "source": [
    "2. Exception Attributes: We can define custom attributes on your exception classes to store relevant context information. These attributes can be accessed when handling the exception."
   ]
  },
  {
   "cell_type": "code",
   "execution_count": 4,
   "id": "1a99ac56",
   "metadata": {},
   "outputs": [
    {
     "name": "stdout",
     "output_type": "stream",
     "text": [
      "additional info\n"
     ]
    }
   ],
   "source": [
    "class CustomException(Exception):\n",
    "    def __init__(self, message, context):\n",
    "        super().__init__(message)\n",
    "        self.context = context\n",
    "\n",
    "try:\n",
    "    raise CustomException(\"Something went wrong\", context=\"additional info\")\n",
    "except CustomException as e:\n",
    "    print(e.context)"
   ]
  },
  {
   "cell_type": "markdown",
   "id": "8ad502a2",
   "metadata": {},
   "source": [
    "#### Q4. Describe two methods for specifying the text of an exception object&#39;s error message."
   ]
  },
  {
   "cell_type": "markdown",
   "id": "e0126d61",
   "metadata": {},
   "source": [
    "1. Customizing the __str__ Method: You can override the __str__ method in your exception class to provide a custom error message"
   ]
  },
  {
   "cell_type": "code",
   "execution_count": 3,
   "id": "4407560c",
   "metadata": {},
   "outputs": [
    {
     "ename": "CustomException",
     "evalue": "CustomException: Something went wrong",
     "output_type": "error",
     "traceback": [
      "\u001b[1;31m---------------------------------------------------------------------------\u001b[0m",
      "\u001b[1;31mCustomException\u001b[0m                           Traceback (most recent call last)",
      "\u001b[1;32m<ipython-input-3-1e4f4fb0f1c8>\u001b[0m in \u001b[0;36m<module>\u001b[1;34m\u001b[0m\n\u001b[0;32m      6\u001b[0m         \u001b[1;32mreturn\u001b[0m \u001b[1;34mf\"CustomException: {self.value}\"\u001b[0m\u001b[1;33m\u001b[0m\u001b[1;33m\u001b[0m\u001b[0m\n\u001b[0;32m      7\u001b[0m \u001b[1;33m\u001b[0m\u001b[0m\n\u001b[1;32m----> 8\u001b[1;33m \u001b[1;32mraise\u001b[0m \u001b[0mCustomException\u001b[0m\u001b[1;33m(\u001b[0m\u001b[1;34m\"Something went wrong\"\u001b[0m\u001b[1;33m)\u001b[0m\u001b[1;33m\u001b[0m\u001b[1;33m\u001b[0m\u001b[0m\n\u001b[0m",
      "\u001b[1;31mCustomException\u001b[0m: CustomException: Something went wrong"
     ]
    }
   ],
   "source": [
    "class CustomException(Exception):\n",
    "    def __init__(self, value):\n",
    "        self.value = value\n",
    "\n",
    "    def __str__(self):\n",
    "        return f\"CustomException: {self.value}\"\n",
    "\n",
    "raise CustomException(\"Something went wrong\")"
   ]
  },
  {
   "cell_type": "markdown",
   "id": "89ccced9",
   "metadata": {},
   "source": [
    "2. Using Exception Arguments: When raising an exception, We can pass arguments to provide additional information. These arguments can be included in the error message."
   ]
  },
  {
   "cell_type": "code",
   "execution_count": 2,
   "id": "f97820b9",
   "metadata": {},
   "outputs": [
    {
     "ename": "ValueError",
     "evalue": "Invalid input: 42",
     "output_type": "error",
     "traceback": [
      "\u001b[1;31m---------------------------------------------------------------------------\u001b[0m",
      "\u001b[1;31mValueError\u001b[0m                                Traceback (most recent call last)",
      "\u001b[1;32m<ipython-input-2-c926db8b16cc>\u001b[0m in \u001b[0;36m<module>\u001b[1;34m\u001b[0m\n\u001b[0;32m      1\u001b[0m \u001b[0mvalue\u001b[0m \u001b[1;33m=\u001b[0m \u001b[1;36m42\u001b[0m\u001b[1;33m\u001b[0m\u001b[1;33m\u001b[0m\u001b[0m\n\u001b[1;32m----> 2\u001b[1;33m \u001b[1;32mraise\u001b[0m \u001b[0mValueError\u001b[0m\u001b[1;33m(\u001b[0m\u001b[1;34mf\"Invalid input: {value}\"\u001b[0m\u001b[1;33m)\u001b[0m\u001b[1;33m\u001b[0m\u001b[1;33m\u001b[0m\u001b[0m\n\u001b[0m",
      "\u001b[1;31mValueError\u001b[0m: Invalid input: 42"
     ]
    }
   ],
   "source": [
    "value = 42\n",
    "raise ValueError(f\"Invalid input: {value}\")"
   ]
  },
  {
   "cell_type": "markdown",
   "id": "eb930785",
   "metadata": {},
   "source": [
    "#### Q5. Why do you no longer use string-based exceptions?"
   ]
  },
  {
   "cell_type": "markdown",
   "id": "26b83128",
   "metadata": {},
   "source": [
    "String-based exceptions were commonly used in older versions of Python but are no longer recommended. The main reason for avoiding string-based exceptions is that they lack the benefits and features provided by class-based exceptions."
   ]
  }
 ],
 "metadata": {
  "kernelspec": {
   "display_name": "Python 3",
   "language": "python",
   "name": "python3"
  },
  "language_info": {
   "codemirror_mode": {
    "name": "ipython",
    "version": 3
   },
   "file_extension": ".py",
   "mimetype": "text/x-python",
   "name": "python",
   "nbconvert_exporter": "python",
   "pygments_lexer": "ipython3",
   "version": "3.8.8"
  }
 },
 "nbformat": 4,
 "nbformat_minor": 5
}
